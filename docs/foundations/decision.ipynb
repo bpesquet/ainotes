{
 "cells": [
  {
   "cell_type": "markdown",
   "id": "28c8008f",
   "metadata": {
    "slideshow": {
     "slide_type": "slide"
    }
   },
   "source": [
    "# Decision-making\n",
    "\n",
    "```{warning}\n",
    "This chapter is under construction.\n",
    "```"
   ]
  },
  {
   "cell_type": "markdown",
   "id": "61228344",
   "metadata": {
    "slideshow": {
     "slide_type": "slide"
    }
   },
   "source": [
    "## Terminology"
   ]
  },
  {
   "cell_type": "markdown",
   "id": "f9e680e0",
   "metadata": {
    "slideshow": {
     "slide_type": "slide"
    }
   },
   "source": [
    "### Decision\n",
    "\n",
    "A **decision** is \"a deliberative process that results in the commitment to a categorical proposition.\" {cite}`goldNeuralBasisDecision2007`\n",
    "\n",
    "People make thousands of (big and small) decisions everyday. A few examples:\n",
    "- Choosing what pair of socks to wear.\n",
    "- Deciding on a TV series to watch.\n",
    "- Choosing one's next car/bike."
   ]
  },
  {
   "cell_type": "markdown",
   "id": "388ce0c4",
   "metadata": {
    "slideshow": {
     "slide_type": "slide"
    }
   },
   "source": [
    "### The sequential nature of decision-making\n",
    "\n",
    "Humans and animals make their decisions after a **deliberation** phase.\n",
    "\n",
    "Many decisions are based on information that unfolds over time (example: cues for solving an homicide).\n",
    "\n",
    "Even if all informative data is immediately available (example: a chess position), it has to be treated **sequentially** by our nervous system, reflecting its inability to process information simultaneously."
   ]
  },
  {
   "cell_type": "markdown",
   "id": "8a2b7aac",
   "metadata": {
    "slideshow": {
     "slide_type": "slide"
    }
   },
   "source": [
    "### From stimulus to response\n",
    "\n",
    "**Decision-making** can be formalized as the mapping from a stimulus to a response.\n",
    "\n",
    "Time between stimulus and response execution is called **Reaction Time** or **Response Time** (RT) {cite}`forstmannSequentialSamplingModels2016`, {cite}`myersPracticalIntroductionUsing2022`.\n",
    "\n",
    "$$RT = T_e+T_d+T_r$$\n",
    "\n",
    "![Response Time](_images/response_time.png)"
   ]
  },
  {
   "cell_type": "markdown",
   "id": "d261b57a",
   "metadata": {
    "slideshow": {
     "slide_type": "slide"
    }
   },
   "source": [
    "### Speed/accuracy tradeoff\n",
    "\n",
    "All decisions are made under time pressure {cite}`forstmannSequentialSamplingModels2016`. Decision-makers can decide to make faster decisions at the expense of an higher error rate, or slower, more accurate decisions {cite}`ratcliffDiffusionDecisionModel2016`.\n",
    "\n",
    "The balance between response time and accuracy is called the **speed/accuracy trade-off**."
   ]
  },
  {
   "cell_type": "markdown",
   "id": "541ec7cb",
   "metadata": {
    "slideshow": {
     "slide_type": "slide"
    }
   },
   "source": [
    "## Modeling speeded decision-making"
   ]
  },
  {
   "cell_type": "markdown",
   "id": "c831804a",
   "metadata": {
    "slideshow": {
     "slide_type": "slide"
    }
   },
   "source": [
    "### Context\n",
    "\n",
    "Several **models** have been developed to account for the speed/accuracy trade-off and explain how people and animals make decisions under time pressure.\n",
    "\n",
    "Historically, most research on the dynamics of decision-making has been focused on simple, repeatable problems involving fast binary-choice decisions with one correct answer."
   ]
  },
  {
   "cell_type": "markdown",
   "id": "4d6b1787",
   "metadata": {
    "slideshow": {
     "slide_type": "slide"
    }
   },
   "source": [
    "#### Task examples\n",
    "\n",
    "- Lexical decision tasks: pressing one key if the stimulus is a word or another if it is a non-word.\n",
    "- [Stroop tasks](https://en.wikipedia.org/wiki/Stroop_effect).\n",
    "- Saccadic flanker tasks: moving the eye in the direction indicated by a central stimulus, ignoring the directionality of flanker stimuli.\n",
    "- *Random Dot Kinematogram* (RDK): judging whether a subset of dots move to the left or to the right.\n",
    "\n",
    "![RDK](_images/rdk.png)"
   ]
  },
  {
   "cell_type": "markdown",
   "id": "1a766818",
   "metadata": {
    "slideshow": {
     "slide_type": "slide"
    }
   },
   "source": [
    "#### Measures of interest\n",
    "\n",
    "- Response times (RTs) for correct responses and for error responses.\n",
    "- Distributions of RTs across trials.\n",
    "- Proportion of correct responses (accuracy)."
   ]
  },
  {
   "cell_type": "markdown",
   "id": "86395d24",
   "metadata": {
    "slideshow": {
     "slide_type": "slide"
    }
   },
   "source": [
    "### Sequential sampling\n",
    "\n",
    "A popular class of models assumes that the decision maker accumulates noisy samples of information from the environment until a **threshold** of evidence is reached.\n",
    "\n",
    "Such accumulation-to-threshold models are known as **sequential sampling models**, a.k.a. **evidence accumulation models**.\n",
    "\n",
    "Different approaches to sequential sampling coexist. A key distinction is the number of **accumulators** (structures for gathering evidence in favor of one response) and whether they are independent from one another.\n",
    "\n",
    "An accumulator is also called a **Decision Variable** (DV)."
   ]
  },
  {
   "cell_type": "markdown",
   "id": "edc43fc3",
   "metadata": {
    "slideshow": {
     "slide_type": "slide"
    }
   },
   "source": [
    "### The sequential sampling model family\n",
    "\n",
    "![Sequential Sampling model landscape](_images/sequential_sampling_models.png)"
   ]
  },
  {
   "cell_type": "markdown",
   "id": "c12ed54b",
   "metadata": {
    "slideshow": {
     "slide_type": "slide"
    }
   },
   "source": [
    "### Accumulator models\n",
    "\n",
    "These models, also known as **race models**,  have independent accumulators (one per possible choice) and an **absolute** evidence response rule (two fixed thresholds, once for each accumulator). The process stops once one of the accumulators reaches its threshold.\n",
    "\n",
    "![Illustration of an accumulator model](_images/race_model.png)"
   ]
  },
  {
   "cell_type": "markdown",
   "id": "bf0e6222",
   "metadata": {
    "slideshow": {
     "slide_type": "slide"
    }
   },
   "source": [
    "### Random walk models\n",
    "\n",
    "These models use a **relative** evidence rule: a response is initiated as soon as the difference in accumulated evidence reaches a predefined threshold, also called a **criterion**.\n",
    "\n",
    "![Illustration of a random walk model](_images/random_walk.png)"
   ]
  },
  {
   "cell_type": "markdown",
   "id": "a1460278",
   "metadata": {
    "slideshow": {
     "slide_type": "slide"
    }
   },
   "source": [
    "#### Problem example: the gambler's ruin\n",
    "\n",
    "Two gamblers A and B have a (possibly different) starting capital and play a series of independant games against each other. Every game has a fixed chance $p$ of being won by gambler A. After each game, the winner obtains one unit of the other player’s capital. The process continues until one of the gamblers is bankrupt.\n",
    "\n",
    "This problem can be modelised as a random walk, with $p$ representing the **drift** of the process. Depending on the value of $p$, the process will drift towards one of the thresholds (gambler B’s bankruptcy if $p>0.5$)."
   ]
  },
  {
   "cell_type": "markdown",
   "id": "85f7cf76",
   "metadata": {
    "slideshow": {
     "slide_type": "slide"
    }
   },
   "source": [
    "### Mathematical modeling\n",
    "\n",
    "- $K$: number of possible states of the world. For binary choices, $K=2$.\n",
    "- $h_k, k \\in [1,K]$: hypothesis (state). Examples: dot movement type, presence of a stimulus, etc.\n",
    "- $H_k, k \\in [1,K]$: choice associated with hypothesis $h_k$.\n",
    "- $P(h_k)$: probability that $h_k$ is true before obtaining any evidence about it.\n",
    "- $n$: number of trials.\n",
    "- $e_i, i \\in [1,n]$: evidence (noisy information) received during trial $i$ and guiding commitment to a particular hypothesis $h_k$.\n",
    "- $P(e_i|h_k)$: likelihood (values that $e_i$ can attain when $h_k$ is true)."
   ]
  },
  {
   "cell_type": "markdown",
   "id": "c8e5c412",
   "metadata": {
    "slideshow": {
     "slide_type": "slide"
    }
   },
   "source": [
    "### Sequential Probability Ratio Test\n",
    "\n",
    "Particular form of **sequential analysis** for binary decisions ($K=2$) where the DV is constructed from multiple, independent pieces of evidence $e_1, e_2, \\dots, e_n$ as the logarithm of the likelihood ratio between hypotheses $h_1$ and $h_2$.\n",
    "\n",
    "$$DV_n = \\sum_{i=1}^n log \\frac{P(e_i|h_1)}{P(e_i|h_2)} = \\sum_{i=1}^n w_i$$\n",
    "\n",
    "- $w_i, i \\in [1,n]$: weight of evidence for the $i$th trial.\n",
    "\n",
    "The DV is updated with new pieces of evidence until reaching a criterion.\n",
    "\n",
    "SPRT is the most efficient statistical test for deciding between two hypotheses on this kind of problem: it achieves a desired error rate with the smallest number of samples, on average {cite}`waldOptimumCharacterSequential1948`."
   ]
  },
  {
   "cell_type": "markdown",
   "id": "929299d5",
   "metadata": {
    "slideshow": {
     "slide_type": "slide"
    }
   },
   "source": [
    "#### Problem example: trick or fair coin\n",
    "\n",
    "Two coins are placed in a bag: one is fair (50% chance of obtaining heads or tails when tossing it), the other not (60/40). One of the coins is drawn from the bag: is it a trick ($h_1$) or a fair ($h_2$) coin? How many tosses are needed for this decision?\n",
    "\n",
    "$$\\forall i \\in[1,n], w_i=\n",
    "    \\begin{cases}\n",
    "      \\log \\frac{P(e_{heads}|h_1)}{P(e_{heads}|h_2)} = \\log \\frac{0.6}{0.5} = 0.182 & \\text{if toss gives \"heads\"} \\\\\n",
    "      \\log \\frac{P(e_{tails}|h_1)}{P(e_{tails}|h_2)} = \\log \\frac{0.4}{0.5} = -0.223 & \\text{if toss gives \"tails\"}\n",
    "    \\end{cases}$$\n",
    "    \n",
    "$$\\text{If}\\ DV_n \\ge \\frac{1-\\alpha}{\\alpha}, \\text{answer \"trick\".}\\ \\text{If}\\ DV_n \\le \\frac{\\alpha}{1-\\alpha}, \\text{answer \"fair\".}$$\n",
    "\n",
    "With $\\alpha$ the probability of misidentifying a coin. For $\\alpha=0.05$, a decision happens when $|DV_n| \\ge \\log(19)$."
   ]
  },
  {
   "cell_type": "markdown",
   "id": "e090dba9",
   "metadata": {
    "slideshow": {
     "slide_type": "slide"
    }
   },
   "source": [
    "### Diffusion models\n",
    "\n",
    "When the evidence is continously sampled from a distribution in infinitesimal time steps, the process is termed **diffusion** with drift $\\mu$. When $\\mu$ is constant, this process is known as [Brownian motion](https://en.wikipedia.org/wiki/Brownian_motion) or Wiener diffusion process {cite}`goldNeuralBasisDecision2007`.\n",
    "\n",
    "![Diffusion model](_images/diffusion_model.png)\n",
    "\n",
    "> The diffusion models for decision-making are not to be confused with the [diffusion models of Machine Learning](https://en.wikipedia.org/wiki/Diffusion_model)."
   ]
  },
  {
   "cell_type": "markdown",
   "id": "0ebc6fc8",
   "metadata": {
    "slideshow": {
     "slide_type": "slide"
    }
   },
   "source": [
    "### The Drift Diffusion Model"
   ]
  },
  {
   "cell_type": "markdown",
   "id": "70aadead",
   "metadata": {
    "slideshow": {
     "slide_type": "slide"
    }
   },
   "source": [
    "#### Advantages"
   ]
  },
  {
   "cell_type": "markdown",
   "id": "fde518ef",
   "metadata": {
    "slideshow": {
     "slide_type": "slide"
    }
   },
   "source": [
    "#### Applications"
   ]
  },
  {
   "cell_type": "markdown",
   "id": "454c604a",
   "metadata": {
    "slideshow": {
     "slide_type": "slide"
    }
   },
   "source": [
    "#### Counterintuitive findings"
   ]
  },
  {
   "cell_type": "markdown",
   "id": "b214d01f",
   "metadata": {
    "slideshow": {
     "slide_type": "slide"
    }
   },
   "source": [
    "#### Limitations"
   ]
  },
  {
   "cell_type": "markdown",
   "id": "14510021",
   "metadata": {
    "slideshow": {
     "slide_type": "slide"
    }
   },
   "source": [
    "### DDM extensions"
   ]
  },
  {
   "cell_type": "markdown",
   "id": "993262bb",
   "metadata": {
    "slideshow": {
     "slide_type": "slide"
    }
   },
   "source": [
    "## Learning and decision-making"
   ]
  },
  {
   "cell_type": "code",
   "execution_count": null,
   "id": "a7716d5b",
   "metadata": {},
   "outputs": [],
   "source": []
  }
 ],
 "metadata": {
  "celltoolbar": "Diaporama",
  "kernelspec": {
   "display_name": "Python 3 (ipykernel)",
   "language": "python",
   "name": "python3"
  },
  "language_info": {
   "codemirror_mode": {
    "name": "ipython",
    "version": 3
   },
   "file_extension": ".py",
   "mimetype": "text/x-python",
   "name": "python",
   "nbconvert_exporter": "python",
   "pygments_lexer": "ipython3",
   "version": "3.11.1"
  }
 },
 "nbformat": 4,
 "nbformat_minor": 5
}
