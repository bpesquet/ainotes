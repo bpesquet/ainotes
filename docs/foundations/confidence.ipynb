{
 "cells": [
  {
   "cell_type": "markdown",
   "id": "f50e19bb",
   "metadata": {
    "slideshow": {
     "slide_type": "slide"
    }
   },
   "source": [
    "# Decision confidence\n",
    "\n",
    "```{warning}\n",
    "This chapter is under construction.\n",
    "```"
   ]
  },
  {
   "cell_type": "markdown",
   "id": "99f2e74e",
   "metadata": {
    "slideshow": {
     "slide_type": "slide"
    }
   },
   "source": [
    "## Terminology"
   ]
  },
  {
   "cell_type": "markdown",
   "id": "07724d03",
   "metadata": {
    "slideshow": {
     "slide_type": "slide"
    }
   },
   "source": [
    "### Confidence\n",
    "\n",
    "In general terms, **confidence** is the belief or conviction that a hypothesis or prediction is correct, that an outcome will be favorable, or that a chosen course of action is the best or most effective.\n",
    "\n",
    "In decision-making, confidence can be more precisely defined as **the subjective estimate of decision quality** {cite}`brusSourcesConfidenceValuebased2021`."
   ]
  },
  {
   "cell_type": "markdown",
   "id": "cfe4186f",
   "metadata": {
    "slideshow": {
     "slide_type": "slide"
    }
   },
   "source": [
    "### Trust\n",
    "\n",
    "**Trust** is a social construct: the belief that someone or something will behave or perform as expected. It implies a relationship between a *trustor* and a *trustee*.\n",
    "\n",
    "**Self-confidence** is trust in one's abilities."
   ]
  },
  {
   "cell_type": "markdown",
   "id": "5c67a5cc",
   "metadata": {
    "slideshow": {
     "slide_type": "slide"
    }
   },
   "source": [
    "### Error monitoring\n",
    "\n",
    "In decision-making, **error monitoring (EM)** is the process by which one is able to detect his/her errors as soon as a response has been made {cite}`yeungMetacognitionHumanDecisionmaking2012`.\n",
    "\n",
    "EM allows adaptation of behavior both in the short and longer terms through gradual learning of actions' outcomes."
   ]
  },
  {
   "cell_type": "markdown",
   "id": "14ba5c0f",
   "metadata": {
    "slideshow": {
     "slide_type": "slide"
    }
   },
   "source": [
    "### Metacognition\n",
    "\n",
    "Confidence judgments and error monitoring are two related aspects of **metacognition**, the awareness of one's own cognitive processes (*high order thinking*).\n",
    "\n",
    "[![Metacognition](_images/metacognition.jpg)](https://commons.wikimedia.org/wiki/File:Metacognition.jpg)"
   ]
  },
  {
   "cell_type": "markdown",
   "id": "076e6ae1",
   "metadata": {
    "slideshow": {
     "slide_type": "slide"
    }
   },
   "source": [
    "## Modeling decision confidence"
   ]
  },
  {
   "cell_type": "code",
   "execution_count": null,
   "id": "1e9dbd2d",
   "metadata": {},
   "outputs": [],
   "source": []
  }
 ],
 "metadata": {
  "celltoolbar": "Diaporama",
  "kernelspec": {
   "display_name": "Python 3 (ipykernel)",
   "language": "python",
   "name": "python3"
  },
  "language_info": {
   "codemirror_mode": {
    "name": "ipython",
    "version": 3
   },
   "file_extension": ".py",
   "mimetype": "text/x-python",
   "name": "python",
   "nbconvert_exporter": "python",
   "pygments_lexer": "ipython3",
   "version": "3.11.1"
  }
 },
 "nbformat": 4,
 "nbformat_minor": 5
}
