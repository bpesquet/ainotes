{
 "cells": [
  {
   "cell_type": "markdown",
   "id": "f869a02b",
   "metadata": {
    "slideshow": {
     "slide_type": "slide"
    }
   },
   "source": [
    "# Probability & statistics\n",
    "\n",
    "> \"Probability deals with knowing the model of our world and use it for deductions. Statistics deal with trying to identify this model based on observation of reality.\"\n",
    "\n",
    "```{warning}\n",
    "This chapter is under construction.\n",
    "```"
   ]
  },
  {
   "cell_type": "markdown",
   "id": "e1cd01e7",
   "metadata": {
    "slideshow": {
     "slide_type": "slide"
    }
   },
   "source": [
    "## Environment setup"
   ]
  },
  {
   "cell_type": "code",
   "execution_count": 1,
   "id": "a756f9c2-c26c-42fe-b592-cd517540d3f8",
   "metadata": {},
   "outputs": [
    {
     "name": "stdout",
     "output_type": "stream",
     "text": [
      "Python version: 3.11.1\n",
      "PyTorch version: 2.0.1\n"
     ]
    }
   ],
   "source": [
    "import platform\n",
    "\n",
    "import torch\n",
    "\n",
    "from ainotes.utils.train import get_device"
   ]
  },
  {
   "cell_type": "code",
   "execution_count": 2,
   "id": "f20cc6f2",
   "metadata": {
    "slideshow": {
     "slide_type": "slide"
    }
   },
   "outputs": [
    {
     "name": "stdout",
     "output_type": "stream",
     "text": [
      "Metal GPU found :)\n"
     ]
    }
   ],
   "source": [
    "# Print environment info\n",
    "print(f\"Python version: {platform.python_version()}\")\n",
    "print(f\"PyTorch version: {torch.__version__}\")\n",
    "\n",
    "# PyTorch device configuration\n",
    "device, message = get_device()\n",
    "print(message)"
   ]
  },
  {
   "cell_type": "markdown",
   "id": "e64d3748",
   "metadata": {
    "slideshow": {
     "slide_type": "slide"
    }
   },
   "source": [
    "## Probability"
   ]
  },
  {
   "cell_type": "markdown",
   "id": "ffd21f7c",
   "metadata": {
    "slideshow": {
     "slide_type": "slide"
    }
   },
   "source": [
    "### Fundamentals\n",
    "\n",
    "#### Random experiment\n",
    "\n",
    "Experiment implying some randomness. Knowing the experimental conditions is not enough to predict its outcome. Opposite of *deterministic experiment*.\n",
    "\n",
    "Example: throwing a six-sided dice."
   ]
  },
  {
   "cell_type": "markdown",
   "id": "58c45508",
   "metadata": {
    "slideshow": {
     "slide_type": "slide"
    }
   },
   "source": [
    "#### Sample space\n",
    "\n",
    "Set of all possible outcomes for the random experiment, denoted by $\\Omega$ or $S$. Can either be finite or infinitely large.\n",
    "\n",
    "Example: $\\Omega = \\{1,2,3,4,5,6\\}$"
   ]
  },
  {
   "cell_type": "markdown",
   "id": "798dc44d",
   "metadata": {
    "slideshow": {
     "slide_type": "slide"
    }
   },
   "source": [
    "#### Event\n",
    "\n",
    "Subset of the sample space, denoted by $E \\subseteq \\Omega$.\n",
    "\n",
    "An event is a set of elementary events (observed outcomes). An elementary event is denoted $\\omega \\in \\Omega$. If $\\omega \\in E$, then event $E$ has occurred.\n",
    "\n",
    "Example: $E \\equiv \\text{\"obtaining an odd number\"}$. $E= \\{1,3,5\\}$"
   ]
  },
  {
   "cell_type": "markdown",
   "id": "ab51660f",
   "metadata": {
    "slideshow": {
     "slide_type": "slide"
    }
   },
   "source": [
    "#### Relationships between events\n",
    "\n",
    "* Inclusion $A \\subset B$. If $A$ occurs, $B$ occurs too.\n",
    "* Equality $A = B$. All elements are identical for both events.\n",
    "* Incompatibility (no shared elements). The events cannot occur simultaneously.\n",
    "\n",
    "Example: $A \\equiv \\text{\"obtaining an odd number\"}$ and $B \\equiv \\text{\"obtaining an even number\"}$ are incompatible."
   ]
  },
  {
   "cell_type": "markdown",
   "id": "6770d5eb",
   "metadata": {
    "slideshow": {
     "slide_type": "slide"
    }
   },
   "source": [
    "#### Composition of events\n",
    "\n",
    "* Negation $E^\\star = \\Omega \\backslash E$. Occurs if and only if $E$ does not occur.\n",
    "* Conjunction $A \\cap B$. Occurs if and only if $A$ and $B$ occur simultaneously.\n",
    "* Union $A \\cup B$. Occurs if either $A$ or $B$ occurs.\n",
    "* Generalization to $n$ events:\n",
    "  * $\\bigcap_{i=1}^{n} A_i =  A_1 \\cap A_2 \\cap \\cdots \\cap A_n$\n",
    "  * $\\bigcup_{i=1}^{n} A_i =  A_1 \\cup A_2 \\cup \\cdots \\cup A_n$\n",
    "* $(\\bigcap_{i=1}^{n} A_i) \\subseteq (\\bigcup_{i=1}^{n} A_i)$ is always verified."
   ]
  },
  {
   "cell_type": "markdown",
   "id": "beab90e4",
   "metadata": {
    "slideshow": {
     "slide_type": "slide"
    }
   },
   "source": [
    "#### Event algebra\n",
    "\n",
    "* Idempotency: $A \\cup A = A$ and $A \\cap A = A$\n",
    "* Commutativity: $A \\cup B = B \\cup A$ and $A \\cap B = B \\cap A$\n",
    "* Associativity: $(A \\cup B) \\cup C = A \\cup (B \\cup C) = A \\cup B \\cup C$ and $(A \\cap B) \\cap C = A \\cap (B \\cap C) = A \\cap B \\cap C$\n",
    "* Distributivity: $(A \\cup B) \\cap C = (A \\cap C) \\cup (B \\cap C)$ and $(A \\cap B) \\cup C = (A \\cup B) \\cap (B \\cup C)$\n",
    "* Identities : $A \\cup \\emptyset = A$, $A \\cup \\Omega = \\Omega$, $A \\cap \\emptyset = \\emptyset$ and $A \\cap \\Omega = A$\n",
    "* Complementarity: $A \\cup A^* = \\Omega$, $A \\cap A^* = \\emptyset$, $(A^*)^* = A$, $\\emptyset^* = \\Omega$ and $\\Omega^* = \\emptyset$\n",
    "* De Morgan laws: $(A \\cup B)^* = A^* \\cap B^*$ and $(A \\cap B)^* = A^* \\cup B^*$"
   ]
  },
  {
   "cell_type": "markdown",
   "id": "3fa63063",
   "metadata": {
    "slideshow": {
     "slide_type": "slide"
    }
   },
   "source": [
    "#### Event partition\n",
    "\n",
    "An event set $\\{ A_1, \\dots, A_n \\}$ is a partition of the sample space if and only if:\n",
    "\n",
    "* No event is impossible: $\\forall i, A_i \\ne \\emptyset$\n",
    "* Events are incompatible two by two: $\\forall i \\ne j, A_i \\cap A_j = \\emptyset$\n",
    "* Union of all events is equal to the sample space: $\\bigcup_{i=1}^{n} A_i = \\Omega$"
   ]
  },
  {
   "cell_type": "markdown",
   "id": "9dc8a0f7",
   "metadata": {
    "slideshow": {
     "slide_type": "slide"
    }
   },
   "source": [
    "#### Combination of random experiments\n",
    "\n",
    "For two joint experiments characterized by sample spaces $\\Omega_1$ and $\\Omega_2$, we can define a new sample space $\\Omega$ as their cartesian product: $\\Omega = \\Omega_1 \\times \\Omega_2$\n",
    "\n",
    "Example for rolling two dices: $\\Omega_1 = \\Omega_2 = \\{1,2,3,4,5,6\\}$ and $\\Omega = \\{(1,1), (1,2), \\dots, (6,5), (6,6) \\}$ (36 couples)."
   ]
  },
  {
   "cell_type": "markdown",
   "id": "c0bc03be",
   "metadata": {
    "slideshow": {
     "slide_type": "slide"
    }
   },
   "source": [
    "### Probability basics\n",
    "\n",
    "#### Classical definition\n",
    "\n",
    "The probability of an event is the ratio of the number of cases favorable to it, to the number of all cases possible when nothing leads us to expect that any one of these cases should occur more than any other, which renders them, for us, equally possible. (Laplace, 1819)\n",
    "\n",
    "$$P(A) = \\frac{\\# A}{\\# \\Omega}$$\n",
    "\n",
    "Assumes equiprobability and a finite number of cases."
   ]
  },
  {
   "cell_type": "markdown",
   "id": "e3e2b616",
   "metadata": {
    "slideshow": {
     "slide_type": "slide"
    }
   },
   "source": [
    "#### Frequentist definition\n",
    "\n",
    "For $n$ repetitions under the same conditions of a random experiment, $P(A)$ is the theorical frequency of event $A$.\n",
    "\n",
    "$$P(A) = \\lim_{n\\to \\infty} \\frac{\\# A}{n}$$\n",
    "\n",
    "Assumes the possibility of indefinitely repeating an experiment without changing its conditions."
   ]
  },
  {
   "cell_type": "markdown",
   "id": "3c10de35",
   "metadata": {
    "slideshow": {
     "slide_type": "slide"
    }
   },
   "source": [
    "#### Axiomatic definition\n",
    "\n",
    "A probability is a number that satisfies the following axioms (Kolmogorov, 1933):\n",
    "\n",
    "* For any event $A$, $P(A) \\ge 0$\n",
    "* $P(\\Omega) = 1$\n",
    "* If events $A$ and $B$ are incompatible ($A \\cap B = \\emptyset $), then $P(A \\cup B) = P(A)+P(B)$"
   ]
  },
  {
   "cell_type": "markdown",
   "id": "cfa660d0",
   "metadata": {
    "slideshow": {
     "slide_type": "slide"
    }
   },
   "source": [
    "#### Properties of probabilities\n",
    "\n",
    "The previous definition has the following consequences:\n",
    "\n",
    "* $P(\\emptyset) = 0$\n",
    "* $P(A) \\le 1$\n",
    "* $P(A^*) = 1 - P(A)$\n",
    "* $P(A \\cup B) = P(A) + P(B) - P(A \\cap B)$\n",
    "* If $\\forall i \\ne j, A_i \\cap A_j = \\emptyset$, then $P(\\bigcup_{i=1}^{n} A_i) = \\sum_{i=1}^{n} P(A_i)$\n",
    "* In the general case, $P(\\bigcup_{i=1}^{n} A_i) \\le \\sum_{i=1}^{n} P(A_i)$"
   ]
  },
  {
   "cell_type": "markdown",
   "id": "1d9d07df",
   "metadata": {
    "slideshow": {
     "slide_type": "slide"
    }
   },
   "source": [
    "#### Conditional probability\n",
    "\n",
    "The probability $P(A|B)$ of event $A$ knowing that event $B$ has occurred is given by:\n",
    "\n",
    "$$P(A|B) = \\frac{P(A \\cap B)}{P(B)} \\qquad \\text{with} \\space P(B) \\ne 0$$\n",
    "\n",
    "There is no fundamental difference between conditional and non-conditional probabilities: $P(A) = P(A|\\Omega)$"
   ]
  },
  {
   "cell_type": "markdown",
   "id": "2d8b3e80",
   "metadata": {
    "slideshow": {
     "slide_type": "slide"
    }
   },
   "source": [
    "#### Properties of conditional probabilities\n",
    "\n",
    "The previous definition has the following consequences:\n",
    "\n",
    "* $P(\\Omega|B) = 1$\n",
    "* $P(\\emptyset|B) = 0$\n",
    "* $P(A^*|B) = 1 - P(A|B)$\n",
    "* If $\\forall i \\ne j, A_i \\cap A_j = \\emptyset$, then $P(\\bigcup_{i=1}^{n} A_i|B) = \\sum_{i=1}^{n} P(A_i|B)$\n",
    "* $P((A \\cup C)|B) = P(A|B)+P(C|B)-P((A \\cap C)|B)$\n",
    "* If $B \\subset A$, $P(A|B) = 1$\n",
    "* If $A \\subset B$, $P(A|B) = \\frac{P(A)}{P(B)} \\ge P(A)$"
   ]
  },
  {
   "cell_type": "markdown",
   "id": "818f87ea",
   "metadata": {
    "slideshow": {
     "slide_type": "slide"
    }
   },
   "source": [
    "#### Chain rule\n",
    "\n",
    "* $P(A \\cap B) = P(A|B)P(B)$\n",
    "* More generally, for any events $A_1, A_2,\\dots,A_n$,\n",
    "\n",
    "$$P(A_1 \\cap \\cdots \\cap A_n ) = P(A_1)P(A_2|A_1)P(A_3|(A_1 \\cap A_2)) \\dots P(A_n|(A_1 \\cap \\cdots \\cap A_{n-1}))$$"
   ]
  },
  {
   "cell_type": "markdown",
   "id": "e9ff6b61",
   "metadata": {
    "slideshow": {
     "slide_type": "slide"
    }
   },
   "source": [
    "#### Law of total probability\n",
    "\n",
    "If the set of events $\\{B_1, B_2, \\dots, B_n\\}$ is a partition of $\\Omega$, then:\n",
    "\n",
    "$$P(A) = \\sum_{i=1}^{n} P(A|B_i)P(B_i)$$"
   ]
  },
  {
   "cell_type": "markdown",
   "id": "672b9542",
   "metadata": {
    "slideshow": {
     "slide_type": "slide"
    }
   },
   "source": [
    "#### Bayes' theorem\n",
    "\n",
    "If the set of events $\\{B_1, B_2, \\dots, B_n\\}$ is a partition of $\\Omega$, then:\n",
    "\n",
    "$$P(B_i|A) = \\frac{P(A|B_i)P(B_i)}{\\sum_{i=1}^{n} P(A|B_i)P(B_i)}$$\n",
    "\n",
    "$P(B_i)$ is the prior probability (known before the random experiment). $P(B_i|A)$ is the posterior probability.\n",
    "\n",
    "The $B_i$ events can be seen as the possible causes responsible for the occurrence of $A$."
   ]
  },
  {
   "cell_type": "markdown",
   "id": "b898ab48",
   "metadata": {
    "slideshow": {
     "slide_type": "slide"
    }
   },
   "source": [
    "To be continued..."
   ]
  },
  {
   "cell_type": "code",
   "execution_count": null,
   "id": "1ab33398",
   "metadata": {
    "slideshow": {
     "slide_type": "slide"
    }
   },
   "outputs": [],
   "source": [
    "\n",
    "# https://www.tensorflow.org/guide/tensor\n",
    "# https://pytorch.org/tutorials/beginner/basics/tensorqs_tutorial.html\n",
    "# https://en.wikipedia.org/wiki/Event_(probability_theory)\n",
    "# https://devmath.fr/tools/latex-symbols-list/#\n",
    "#"
   ]
  }
 ],
 "metadata": {
  "celltoolbar": "Diaporama",
  "kernelspec": {
   "display_name": "Python 3 (ipykernel)",
   "language": "python",
   "name": "python3"
  },
  "language_info": {
   "codemirror_mode": {
    "name": "ipython",
    "version": 3
   },
   "file_extension": ".py",
   "mimetype": "text/x-python",
   "name": "python",
   "nbconvert_exporter": "python",
   "pygments_lexer": "ipython3",
   "version": "3.11.1"
  }
 },
 "nbformat": 4,
 "nbformat_minor": 5
}
