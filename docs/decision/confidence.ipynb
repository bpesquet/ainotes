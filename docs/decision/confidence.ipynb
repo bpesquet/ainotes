{
 "cells": [
  {
   "cell_type": "markdown",
   "id": "f50e19bb",
   "metadata": {
    "slideshow": {
     "slide_type": "slide"
    }
   },
   "source": [
    "# Confidence in decision-making\n",
    "\n",
    "```{warning}\n",
    "This chapter is under construction.\n",
    "```"
   ]
  },
  {
   "cell_type": "markdown",
   "id": "ca17a74c",
   "metadata": {
    "slideshow": {
     "slide_type": "slide"
    }
   },
   "source": [
    "## Environment setup"
   ]
  },
  {
   "cell_type": "code",
   "execution_count": 25,
   "id": "50718563",
   "metadata": {
    "slideshow": {
     "slide_type": "slide"
    }
   },
   "outputs": [
    {
     "name": "stdout",
     "output_type": "stream",
     "text": [
      "Python version: 3.11.1\n"
     ]
    }
   ],
   "source": [
    "import platform\n",
    "import math\n",
    "from statistics import NormalDist\n",
    "\n",
    "# Print environment info\n",
    "print(f\"Python version: {platform.python_version()}\")"
   ]
  },
  {
   "cell_type": "markdown",
   "id": "99f2e74e",
   "metadata": {
    "slideshow": {
     "slide_type": "slide"
    }
   },
   "source": [
    "## Terminology"
   ]
  },
  {
   "cell_type": "markdown",
   "id": "07724d03",
   "metadata": {
    "slideshow": {
     "slide_type": "slide"
    }
   },
   "source": [
    "### Confidence: general definition\n",
    "\n",
    "Everyone knows intuitively what confidence is about, yet it is seldom defined explicitely.\n",
    "\n",
    "In the broadest sense, **confidence quantifies a degree of belief in something or someone** {cite}`meynielConfidenceBayesianProbability2015`.\n",
    "\n",
    "It is fundamentally linked to its object: a thought, a choice, an external actor, etc."
   ]
  },
  {
   "cell_type": "markdown",
   "id": "a6041785",
   "metadata": {
    "slideshow": {
     "slide_type": "slide"
    }
   },
   "source": [
    "### Belief\n",
    "\n",
    "A belief is **a feeling of certainty about a proposition**. It is a subjective, conscious experience.\n",
    "\n",
    "Regarding perceptions, our belief usually matches our perceptual experience, but not always {cite}`mamassianConfidenceForcedChoiceOther2020`.\n",
    "\n",
    "![Belief-perception gap](_images/belief_perception_gap.png)"
   ]
  },
  {
   "cell_type": "markdown",
   "id": "37002f8b",
   "metadata": {
    "slideshow": {
     "slide_type": "slide"
    }
   },
   "source": [
    "### Uncertainty\n",
    "\n",
    "Generally speaking, uncertainty (or incertitude) characterizes situations involving **imperfect or unknown information**.\n",
    "\n",
    "In decision-making, uncertainty refers to **the variability in the representation of information before a decision is taken** {cite}`mamassianConfidenceForcedChoiceOther2020`.\n",
    "\n",
    "To perform well, the brain needs to be effective at dealing with many uncertainties, some of them external (changes in world state or sensorimotor variability), others internal (cognitive variables, timing or abstract states). Uncertainty is inherent to all stages of neural computation."
   ]
  },
  {
   "cell_type": "markdown",
   "id": "c9be3a89",
   "metadata": {
    "slideshow": {
     "slide_type": "slide"
    }
   },
   "source": [
    "### Confidence: updated definition\n",
    "\n",
    "In decision-making, confidence can be seen as **the subjective estimate of decision quality** {cite}`brusSourcesConfidenceValuebased2021`.\n",
    "\n",
    "More formally, it can be defined as **the probability that a choice is correct given the evidence** {cite}`pougetConfidenceCertaintyDistinct2016`.\n",
    "\n",
    "Confidence is a form of certainty. A key difference is that contrary to confidence, (un)certainties are *decision independant*. **Confidence quantifies the degree of certainty associated to a decision**."
   ]
  },
  {
   "cell_type": "markdown",
   "id": "cfe4186f",
   "metadata": {
    "slideshow": {
     "slide_type": "slide"
    }
   },
   "source": [
    "### Trust\n",
    "\n",
    "Trust is a social construct: **the belief that someone or something will behave or perform as expected**. It implies a relationship between a *trustor* and a *trustee*.\n",
    "\n",
    "**Self-confidence** is trust in one's abilities."
   ]
  },
  {
   "cell_type": "markdown",
   "id": "5c67a5cc",
   "metadata": {
    "slideshow": {
     "slide_type": "slide"
    }
   },
   "source": [
    "### Error monitoring\n",
    "\n",
    "In decision-making, error monitoring (EM) is **the process by which one is able to detect his/her errors as soon as a response has been made** {cite}`yeungMetacognitionHumanDecisionmaking2012`.\n",
    "\n",
    "EM allows adaptation of behavior both in the short and longer terms through gradual learning of actions' outcomes."
   ]
  },
  {
   "cell_type": "markdown",
   "id": "14ba5c0f",
   "metadata": {
    "slideshow": {
     "slide_type": "slide"
    }
   },
   "source": [
    "### Metacognition\n",
    "\n",
    "Confidence judgments and error monitoring are two related aspects of metacognition (sometimes called *higher order thinking*).\n",
    "\n",
    "First described in {cite}`flavellMetacognitionCognitiveMonitoring1979`, metacognition can be defined as **the ability to consider, understand and regulate one's cognitive processes**. It is a key skill to adapt to complex problems and changing environments.\n",
    "\n",
    "Metacognition is classicaly divided into two subprocesses: **monitoring** and **control**."
   ]
  },
  {
   "cell_type": "markdown",
   "id": "7d9d2367",
   "metadata": {
    "slideshow": {
     "slide_type": "slide"
    }
   },
   "source": [
    "![Metacognition diagram](_images/metacognition_diagram.png)"
   ]
  },
  {
   "cell_type": "markdown",
   "id": "1f171e91",
   "metadata": {
    "slideshow": {
     "slide_type": "slide"
    }
   },
   "source": [
    "#### Metaperception\n",
    "\n",
    "![Metaperception](_images/metaperception.png)\n",
    "\n",
    "{cite}`mamassianConfidenceForcedChoiceOther2020`"
   ]
  },
  {
   "cell_type": "markdown",
   "id": "88964144",
   "metadata": {
    "slideshow": {
     "slide_type": "slide"
    }
   },
   "source": [
    "### Cognitive control\n",
    "\n",
    "Cognitive control refers to **the intentional selection of thoughts, emotions, and behaviors based on current task demands and social context, and the concomitant suppression of inappropriate habitual actions** {cite}`millerIntegrativeTheoryPrefrontal2001`.\n",
    "\n",
    "In simpler terms, cognitive control allows adapting our behaviour on-the-fly to improve performance."
   ]
  },
  {
   "cell_type": "markdown",
   "id": "076e6ae1",
   "metadata": {
    "slideshow": {
     "slide_type": "slide"
    }
   },
   "source": [
    "## Measuring confidence"
   ]
  },
  {
   "cell_type": "markdown",
   "id": "b14264a7",
   "metadata": {
    "slideshow": {
     "slide_type": "slide"
    }
   },
   "source": [
    "### Measures of interest"
   ]
  },
  {
   "cell_type": "markdown",
   "id": "3727ba6c",
   "metadata": {
    "slideshow": {
     "slide_type": "-"
    }
   },
   "source": [
    "#### Sensitivity\n",
    "\n",
    "Confidence/metacognitive/type 2 sensitivity is **the capacity to distinguish correct from incorrect decisions**.\n",
    "\n",
    "Being confident when taking correct decisions and less confident otherwise demonstrates a high degree of sensitivity.\n",
    "\n",
    "Sensitivity is often affected by task performance itself: an individual will appear to have greater sensitivity on an easy task compared to a hard task {cite}`flemingHowMeasureMetacognition2014`."
   ]
  },
  {
   "cell_type": "markdown",
   "id": "5fa88263",
   "metadata": {
    "slideshow": {
     "slide_type": "slide"
    }
   },
   "source": [
    "#### Bias\n",
    "\n",
    "Confidence/metacognitive/type 2 bias is **a difference in subjective confidence despite constant task performance**.\n",
    "\n",
    "Under- and over-confidence are examples of biases.\n",
    "\n",
    "![Sensitivity Vs bias](_images/sensitivity_vs_bias.png)\n",
    "\n",
    "> Real confidence distributions are unlikely to be Gaussian.\n",
    "\n",
    "{cite}`flemingHowMeasureMetacognition2014`"
   ]
  },
  {
   "cell_type": "markdown",
   "id": "997d5717",
   "metadata": {
    "slideshow": {
     "slide_type": "slide"
    }
   },
   "source": [
    "#### Efficiency\n",
    "\n",
    "Confidence/metacognitive efficiency is **the level of sensitivity given a certain level of task performance**."
   ]
  },
  {
   "cell_type": "markdown",
   "id": "3479e318",
   "metadata": {
    "slideshow": {
     "slide_type": "slide"
    }
   },
   "source": [
    "### Experimental tasks\n",
    "\n",
    "Their setup is similar to those used to study [decision-making](introduction.ipynb). The major difference is that after taking a decision (a *type 1* task), subjects express their confidence (a *type 2* task).\n",
    "\n",
    "Type 1 task example: is the [Gabor patch](http://neuroanatody.com/2016/05/whats-in-a-gabor-patch/) tilted to the left or to the right?\n",
    "\n",
    "![Gabor patch](_images/gabor_patch.png)"
   ]
  },
  {
   "cell_type": "markdown",
   "id": "7574f9d1",
   "metadata": {
    "slideshow": {
     "slide_type": "slide"
    }
   },
   "source": [
    "#### Flow of information for a perceptual task\n",
    "\n",
    "![Flow of information for a perceptual task](_images/confidence_information_flow.png)\n",
    "\n",
    "{cite}`mamassianConfidenceForcedChoiceOther2020`"
   ]
  },
  {
   "cell_type": "markdown",
   "id": "5c7da9ac",
   "metadata": {
    "slideshow": {
     "slide_type": "slide"
    }
   },
   "source": [
    "### Measurement methods"
   ]
  },
  {
   "cell_type": "markdown",
   "id": "d469eb31",
   "metadata": {
    "slideshow": {
     "slide_type": "-"
    }
   },
   "source": [
    "#### Confidence ratings\n",
    "\n",
    "![Confidence ratings](_images/confidence_ratings.png)\n",
    "\n",
    "After a decision, the subject is asked to evaluate its correctness, using a dedicated scale.\n",
    "\n",
    "Simple and frequently used, this method has several drawbacks: intersubject variability regarding bias and scale usage, and possible confusions between type 1 and type 2 judgments {cite}`mamassianConfidenceForcedChoiceOther2020`."
   ]
  },
  {
   "cell_type": "markdown",
   "id": "ead4cb8b",
   "metadata": {
    "slideshow": {
     "slide_type": "slide"
    }
   },
   "source": [
    "#### Post-decision wagering\n",
    "\n",
    "After a decision, subjects are asked to gamble on whether their response was correct. If the decision is correct, the wager amount is kept {cite}`flemingNeuralBasisMetacognitive2012`.\n",
    "\n",
    "The amount of the bet is assumed to reflect a subject’s confidence in his or her decision.\n",
    "\n"
   ]
  },
  {
   "cell_type": "markdown",
   "id": "5b9813e7",
   "metadata": {
    "slideshow": {
     "slide_type": "slide"
    }
   },
   "source": [
    "#### Opt-out paradigm\n",
    "\n",
    "![Confidence opt-out](_images/confidence_opt_out.png)\n",
    "\n",
    "In most but not all the trials, the subject has the option to decline the decision task and receive a smaller reward.\n",
    "\n",
    "This paradigm is well suited to experiments with animals, which cannot explicitely report their confidence.\n",
    "\n",
    "One challenge is to avoid confounding it with a three-alternative forced choice {cite}`kepecsComputationalFrameworkStudy2012`."
   ]
  },
  {
   "cell_type": "markdown",
   "id": "009e65db",
   "metadata": {
    "slideshow": {
     "slide_type": "slide"
    }
   },
   "source": [
    "#### Confidence forced choice\n",
    "\n",
    "![Confidence forced choice](_images/confidence_forced_choice.png)\n",
    "\n",
    "After two decisions, the subject has to choose which one is more likely to be correct.\n",
    "\n",
    "One benefit of this paradigm is that it disregards confidence biases to focus on sensitivity {cite}`mamassianConfidenceForcedChoiceOther2020`."
   ]
  },
  {
   "cell_type": "markdown",
   "id": "2a22435e",
   "metadata": {
    "slideshow": {
     "slide_type": "slide"
    }
   },
   "source": [
    "## Computing confidence"
   ]
  },
  {
   "cell_type": "markdown",
   "id": "8c9dbc89",
   "metadata": {
    "slideshow": {
     "slide_type": "slide"
    }
   },
   "source": [
    "### Context\n",
    "\n",
    "Let's consider a simple two-alternative forced choice decision task.\n",
    "\n",
    "Assuming that post-decisional confidence was measured on a binary scale (high/low), we can count the number of confidence ratings assigned to each judgment in the following type 2 table.\n",
    "\n",
    "|Type 1 decision|Low confidence|High confidence|\n",
    "|-|-|-|\n",
    "|Incorrect|True Negatives ($TN_2$)|False Positives ($FP_2$)|\n",
    "|Correct|False Negatives ($FN_2$)|True Positives ($TP_2$)|"
   ]
  },
  {
   "cell_type": "markdown",
   "id": "34f95503",
   "metadata": {
    "slideshow": {
     "slide_type": "slide"
    }
   },
   "source": [
    "### Statistical correlation\n",
    "\n",
    "The simplest measure of confidence sensitivity is the [$\\phi$ coefficient](https://en.wikipedia.org/wiki/Phi_coefficient) (a.k.a. Pearson $r$ correlation for binary variables) between results and confidence measurements.\n",
    "\n",
    "$$\\phi = \\frac{(TN_2 *TP_2 - FN_2*FP_2)}{\\sqrt{(TP_2+FP_2)(TP_2+FN_2)(TN_2+FP_2)(TN_2+FN_2)}}$$\n",
    "\n",
    "> This metric is equivalent to the *Matthews Correlation Coefficient* (MCC) used in Machine Learning {cite}`chiccoMatthewsCorrelationCoefficient2023`.\n",
    "\n",
    "Another possible way of computing correlation is the *Goodman-Kruskal gamma coefficient* $G$."
   ]
  },
  {
   "cell_type": "code",
   "execution_count": 21,
   "id": "beacb020",
   "metadata": {
    "slideshow": {
     "slide_type": "slide"
    }
   },
   "outputs": [
    {
     "name": "stdout",
     "output_type": "stream",
     "text": [
      "Correlation: 0.33\n"
     ]
    }
   ],
   "source": [
    "# Binary results for a series of decisions (type 1 task)\n",
    "# 1 = correct answer, 0 = wrong answer\n",
    "results = [1, 0, 0, 1, 1, 0]\n",
    "\n",
    "# Binary confidence for each decision (type 2 task)\n",
    "# 1 = high confidence, 0 = low confidence\n",
    "confidence = [1, 1, 0, 0, 1, 0]\n",
    "\n",
    "# Compute true/false positives/negatives\n",
    "TN_2 = len([r for r, c in zip(results, confidence) if r == 0 and c == 0])\n",
    "FN_2 = len([r for r, c in zip(results, confidence) if r == 1 and c == 0])\n",
    "FP_2 = len([r for r, c in zip(results, confidence) if r == 0 and c == 1])\n",
    "TP_2 = len([r for r, c in zip(results, confidence) if r == 1 and c == 1])\n",
    "\n",
    "# Compute phi correlation manually\n",
    "phi = (TN_2 * TP_2 - FN_2 * FP_2) / math.sqrt(\n",
    "    (TP_2 + FP_2) * (TP_2 + FN_2) * (TN_2 + FP_2) * (TN_2 + FN_2)\n",
    ")\n",
    "print(f\"Correlation: {phi:.02}\")"
   ]
  },
  {
   "cell_type": "markdown",
   "id": "a1679801",
   "metadata": {
    "slideshow": {
     "slide_type": "slide"
    }
   },
   "source": [
    "### Signal Detection Theory\n",
    "\n",
    "Framework for analyzing decision making in the presence of uncertainty.\n",
    "\n",
    "Originally developped in the mid-20th century to assess how faithfully a radar operator is able to separate signal from noise, it has applications in many fields (psychology, diagnostics, quality control, etc).\n",
    "\n",
    "SDT's main virtue is its ability to disentangle sensitivity from bias in a decision process."
   ]
  },
  {
   "cell_type": "markdown",
   "id": "3e9af789",
   "metadata": {
    "slideshow": {
     "slide_type": "slide"
    }
   },
   "source": [
    "#### Context\n",
    "\n",
    "In an experiment where stimuli or signals were either present or absent, and the subject categorized each trial as having the stimulus/signal present or absent, the trials are sorted into one of four categories in the following type 1 table.\n",
    "\n",
    "|Stimulus or signal|Response: \"absent\"|Response: \"present\"|\n",
    "|-|-|-|\n",
    "|Absent|Correct Rejections ($TN_1$)|False Alarms ($FP_1$)|\n",
    "|Present|Misses ($FN_1$)|Hits ($TP_1$)|"
   ]
  },
  {
   "cell_type": "markdown",
   "id": "2a97092a",
   "metadata": {
    "slideshow": {
     "slide_type": "slide"
    }
   },
   "source": [
    "#### Discrimination metrics\n",
    "\n",
    "*True Positive Rate (TPR)* a.k.a. *hit rate* is the proportion of hits in the presence of stimulus/signal. It quantifies how well a decision maker can identify true positives.\n",
    "\n",
    "*False Positive Rate (FPR)* a.k.a. *false alarm rate* is the proportion of false alarms in the absence of stimulus/signal.\n",
    "\n",
    "$$\\text{TPR}_1 = \\frac{TP_1}{TP_1 + FN_1}$$\n",
    "\n",
    "$$\\text{FPR}_1 = \\frac{FP_1}{TN_1+FP_1}$$\n",
    "\n",
    "> $\\text{TPR}_1$ is equivalent to the *recall* metric used in Machine Learning."
   ]
  },
  {
   "cell_type": "markdown",
   "id": "23a86710",
   "metadata": {
    "slideshow": {
     "slide_type": "slide"
    }
   },
   "source": [
    "#### Conceptual overview\n",
    "\n",
    "SDT represents a decision as a comparison between a *decision variable* (DV), derived from a single piece of sensory evidence, and a *criterion* (the threshold between \"absent\" and \"present\" responses).\n",
    "\n",
    "Since evidence is affected by perturbations such as neural noise and fluctuation in attention, the DV can be modelized as a random variable described by a probability distribution.\n",
    "\n",
    "More precisely, SDT assumes that the distributions of DV values in the presence or absence of stimulus/signal are Gaussian with equal variance."
   ]
  },
  {
   "cell_type": "markdown",
   "id": "aa0fb70c",
   "metadata": {
    "slideshow": {
     "slide_type": "slide"
    }
   },
   "source": [
    "![Standard model of SDT](_images/sdt_standard.png)\n",
    "\n",
    "{cite}`michelConfidenceConsciousnessResearch2023`"
   ]
  },
  {
   "cell_type": "markdown",
   "id": "1c1baee4",
   "metadata": {
    "slideshow": {
     "slide_type": "slide"
    }
   },
   "source": [
    "#### Example\n",
    "\n",
    "![Example of criterion choice](_images/sdt_example.png)\n",
    "\n",
    "With this criterion choice, the TPR (shaded region of the signal distribution) is 0.9332 and the FPR (shaded region of the noise distribution) is 0.3085 {cite}`stanislawCalculationSignalDetection1999`."
   ]
  },
  {
   "cell_type": "markdown",
   "id": "5d0481be",
   "metadata": {
    "slideshow": {
     "slide_type": "slide"
    }
   },
   "source": [
    "#### Sensitivity index\n",
    "\n",
    "Type 1 sensitivity/discriminability index $d'$ is a measure of discrimination performance in the task. It quantifies the sensibility of the decision maker to the presence of the stimulus/signal.\n",
    "\n",
    "$d'$ quantifies the distance between the means of the signal and noise distributions in standard deviation units. It can be obtained using the inverse cumulative distribution function, which computes the *standard score* a.k.a. *z-score* associated to a probability {cite}`stanislawCalculationSignalDetection1999`.\n",
    "\n",
    "$$d' = z(\\text{TPR}) - z(\\text{FPR})$$"
   ]
  },
  {
   "cell_type": "code",
   "execution_count": 34,
   "id": "8462fcaf",
   "metadata": {
    "slideshow": {
     "slide_type": "slide"
    }
   },
   "outputs": [
    {
     "name": "stdout",
     "output_type": "stream",
     "text": [
      "d': 2.0002\n"
     ]
    }
   ],
   "source": [
    "# Discrimination metrics values for the previous example\n",
    "TPR_1 = 0.9332\n",
    "FPR_1 = 0.3085\n",
    "\n",
    "# Computing d'\n",
    "# https://stackoverflow.com/a/55250607\n",
    "d_prime = NormalDist().inv_cdf(TPR_1) - NormalDist().inv_cdf(FPR_1)\n",
    "print(f\"d': {d_prime:.05}\")"
   ]
  },
  {
   "cell_type": "markdown",
   "id": "a1271b25",
   "metadata": {
    "slideshow": {
     "slide_type": "slide"
    }
   },
   "source": [
    "#### ROC curve and AUROC\n",
    "\n",
    "The ROC (\"Receiver Operating Characteristic\") curve plots TPR vs. FPR for each possible value of the decision threshold.\n",
    "\n",
    "AUC, or more precisely AUROC (\"Area Under the ROC Curve\"), provides an aggregate measure of performance across all possible decision thresholds."
   ]
  },
  {
   "cell_type": "markdown",
   "id": "7c6a50f7",
   "metadata": {
    "slideshow": {
     "slide_type": "slide"
    }
   },
   "source": [
    "##### Impact of criterion choice\n",
    "\n",
    "[![AUROC animation](_images/auroc_animation.gif)](https://github.com/dariyasydykova/open_projects/tree/master/ROC_animation)"
   ]
  },
  {
   "cell_type": "markdown",
   "id": "4e19e90b",
   "metadata": {
    "slideshow": {
     "slide_type": "slide"
    }
   },
   "source": [
    "##### Impact of task discriminability\n",
    "\n",
    "[![AUROC shape animation](_images/auroc_shape_animation.gif)](https://github.com/dariyasydykova/open_projects/tree/master/ROC_animation)"
   ]
  },
  {
   "cell_type": "markdown",
   "id": "d0785195",
   "metadata": {
    "slideshow": {
     "slide_type": "slide"
    }
   },
   "source": [
    "## Exploiting confidence"
   ]
  },
  {
   "cell_type": "code",
   "execution_count": null,
   "id": "953633aa",
   "metadata": {},
   "outputs": [],
   "source": []
  }
 ],
 "metadata": {
  "celltoolbar": "Diaporama",
  "kernelspec": {
   "display_name": "Python 3 (ipykernel)",
   "language": "python",
   "name": "python3"
  },
  "language_info": {
   "codemirror_mode": {
    "name": "ipython",
    "version": 3
   },
   "file_extension": ".py",
   "mimetype": "text/x-python",
   "name": "python",
   "nbconvert_exporter": "python",
   "pygments_lexer": "ipython3",
   "version": "3.11.1"
  }
 },
 "nbformat": 4,
 "nbformat_minor": 5
}
