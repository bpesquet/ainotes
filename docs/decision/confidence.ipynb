{
 "cells": [
  {
   "cell_type": "markdown",
   "id": "f50e19bb",
   "metadata": {
    "slideshow": {
     "slide_type": "slide"
    }
   },
   "source": [
    "# Confidence in decision-making\n",
    "\n",
    "```{warning}\n",
    "This chapter is under construction.\n",
    "```"
   ]
  },
  {
   "cell_type": "markdown",
   "id": "ca17a74c",
   "metadata": {
    "slideshow": {
     "slide_type": "slide"
    }
   },
   "source": [
    "## Environment setup"
   ]
  },
  {
   "cell_type": "code",
   "execution_count": 25,
   "id": "50718563",
   "metadata": {
    "slideshow": {
     "slide_type": "slide"
    }
   },
   "outputs": [
    {
     "name": "stdout",
     "output_type": "stream",
     "text": [
      "Python version: 3.11.1\n"
     ]
    }
   ],
   "source": [
    "import platform\n",
    "import math\n",
    "from statistics import NormalDist\n",
    "\n",
    "# Print environment info\n",
    "print(f\"Python version: {platform.python_version()}\")"
   ]
  },
  {
   "cell_type": "markdown",
   "id": "99f2e74e",
   "metadata": {
    "slideshow": {
     "slide_type": "slide"
    }
   },
   "source": [
    "## Terminology"
   ]
  },
  {
   "cell_type": "markdown",
   "id": "07724d03",
   "metadata": {
    "slideshow": {
     "slide_type": "slide"
    }
   },
   "source": [
    "### Confidence: general definition\n",
    "\n",
    "Everyone knows intuitively what confidence is about, yet it is seldom defined explicitely.\n",
    "\n",
    "In the broadest sense, **confidence quantifies a degree of belief in something or someone** {cite}`meynielConfidenceBayesianProbability2015`.\n",
    "\n",
    "It is fundamentally linked to its object: a thought, a choice, an external actor, etc."
   ]
  },
  {
   "cell_type": "markdown",
   "id": "a6041785",
   "metadata": {
    "slideshow": {
     "slide_type": "slide"
    }
   },
   "source": [
    "### Belief\n",
    "\n",
    "A belief is **a feeling of certainty about a proposition**. It is a subjective, conscious experience.\n",
    "\n",
    "Regarding perceptions, our belief usually matches our perceptual experience, but not always {cite}`mamassianConfidenceForcedChoiceOther2020`.\n",
    "\n",
    "![Belief-perception gap](_images/belief_perception_gap.png)"
   ]
  },
  {
   "cell_type": "markdown",
   "id": "37002f8b",
   "metadata": {
    "slideshow": {
     "slide_type": "slide"
    }
   },
   "source": [
    "### Uncertainty\n",
    "\n",
    "Generally speaking, uncertainty (or incertitude) characterizes situations involving **imperfect or unknown information**.\n",
    "\n",
    "In decision-making, uncertainty refers to **the variability in the representation of information before a decision is taken** {cite}`mamassianConfidenceForcedChoiceOther2020`.\n",
    "\n",
    "To perform well, the brain needs to be effective at dealing with many uncertainties, some of them external (changes in world state or sensorimotor variability), others internal (cognitive variables, timing or abstract states). Uncertainty is inherent to all stages of neural computation."
   ]
  },
  {
   "cell_type": "markdown",
   "id": "c9be3a89",
   "metadata": {
    "slideshow": {
     "slide_type": "slide"
    }
   },
   "source": [
    "### Confidence: updated definition\n",
    "\n",
    "In decision-making, confidence can be seen as **the subjective estimate of decision quality** {cite}`brusSourcesConfidenceValuebased2021`.\n",
    "\n",
    "More formally, it can be defined as **the probability that a choice is correct given the evidence** {cite}`pougetConfidenceCertaintyDistinct2016`.\n",
    "\n",
    "Confidence is a form of certainty. A key difference is that contrary to confidence, (un)certainties are *decision independant*. **Confidence quantifies the degree of certainty associated to a decision**."
   ]
  },
  {
   "cell_type": "markdown",
   "id": "cfe4186f",
   "metadata": {
    "slideshow": {
     "slide_type": "slide"
    }
   },
   "source": [
    "### Trust\n",
    "\n",
    "Trust is a social construct: **the belief that someone or something will behave or perform as expected**. It implies a relationship between a *trustor* and a *trustee*.\n",
    "\n",
    "**Self-confidence** is trust in one's abilities."
   ]
  },
  {
   "cell_type": "markdown",
   "id": "5c67a5cc",
   "metadata": {
    "slideshow": {
     "slide_type": "slide"
    }
   },
   "source": [
    "### Error monitoring\n",
    "\n",
    "In decision-making, error monitoring (EM) is **the process by which one is able to detect his/her errors as soon as a response has been made** {cite}`yeungMetacognitionHumanDecisionmaking2012`.\n",
    "\n",
    "EM allows adaptation of behavior both in the short and longer terms through gradual learning of actions' outcomes."
   ]
  },
  {
   "cell_type": "markdown",
   "id": "14ba5c0f",
   "metadata": {
    "slideshow": {
     "slide_type": "slide"
    }
   },
   "source": [
    "### Metacognition\n",
    "\n",
    "Confidence judgments and error monitoring are two related aspects of metacognition (sometimes called *higher order thinking*).\n",
    "\n",
    "First described in {cite}`flavellMetacognitionCognitiveMonitoring1979`, metacognition can be defined as **the ability to consider, understand and regulate one's cognitive processes**. It is a key skill to adapt to complex problems and changing environments.\n",
    "\n",
    "Metacognition is classicaly divided into two subprocesses: **monitoring** and **control**."
   ]
  },
  {
   "cell_type": "markdown",
   "id": "7d9d2367",
   "metadata": {
    "slideshow": {
     "slide_type": "slide"
    }
   },
   "source": [
    "![Metacognition diagram](_images/metacognition_diagram.png)"
   ]
  },
  {
   "cell_type": "markdown",
   "id": "1f171e91",
   "metadata": {
    "slideshow": {
     "slide_type": "slide"
    }
   },
   "source": [
    "#### Metaperception\n",
    "\n",
    "![Metaperception](_images/metaperception.png)\n",
    "\n",
    "{cite}`mamassianConfidenceForcedChoiceOther2020`"
   ]
  },
  {
   "cell_type": "markdown",
   "id": "88964144",
   "metadata": {
    "slideshow": {
     "slide_type": "slide"
    }
   },
   "source": [
    "### Cognitive control\n",
    "\n",
    "Cognitive control refers to **the intentional selection of thoughts, emotions, and behaviors based on current task demands and social context, and the concomitant suppression of inappropriate habitual actions** {cite}`millerIntegrativeTheoryPrefrontal2001`.\n",
    "\n",
    "In simpler terms, cognitive control allows adapting our behaviour on-the-fly to improve performance."
   ]
  },
  {
   "cell_type": "markdown",
   "id": "076e6ae1",
   "metadata": {
    "slideshow": {
     "slide_type": "slide"
    }
   },
   "source": [
    "## Measuring confidence"
   ]
  },
  {
   "cell_type": "markdown",
   "id": "b14264a7",
   "metadata": {
    "slideshow": {
     "slide_type": "slide"
    }
   },
   "source": [
    "### Measures of interest"
   ]
  },
  {
   "cell_type": "markdown",
   "id": "3727ba6c",
   "metadata": {
    "slideshow": {
     "slide_type": "-"
    }
   },
   "source": [
    "#### Sensitivity\n",
    "\n",
    "Confidence/metacognitive/type 2 sensitivity is **the capacity to distinguish correct from incorrect decisions**.\n",
    "\n",
    "Being confident when taking correct decisions and less confident otherwise demonstrates a high degree of sensitivity.\n",
    "\n",
    "Sensitivity is often affected by task performance itself: an individual will appear to have greater sensitivity on an easy task compared to a hard task {cite}`flemingHowMeasureMetacognition2014`."
   ]
  },
  {
   "cell_type": "markdown",
   "id": "5fa88263",
   "metadata": {
    "slideshow": {
     "slide_type": "slide"
    }
   },
   "source": [
    "#### Bias\n",
    "\n",
    "Confidence/metacognitive/type 2 bias is **a difference in subjective confidence despite constant task performance**.\n",
    "\n",
    "Under- and over-confidence are examples of biases.\n",
    "\n",
    "![Sensitivity Vs bias](_images/sensitivity_vs_bias.png)\n",
    "\n",
    "> Real confidence distributions are unlikely to be Gaussian.\n",
    "\n",
    "{cite}`flemingHowMeasureMetacognition2014`"
   ]
  },
  {
   "cell_type": "markdown",
   "id": "997d5717",
   "metadata": {
    "slideshow": {
     "slide_type": "slide"
    }
   },
   "source": [
    "#### Efficiency\n",
    "\n",
    "Confidence/metacognitive efficiency is **the level of sensitivity given a certain level of task performance**."
   ]
  },
  {
   "cell_type": "markdown",
   "id": "3479e318",
   "metadata": {
    "slideshow": {
     "slide_type": "slide"
    }
   },
   "source": [
    "### Experimental tasks\n",
    "\n",
    "Their setup is similar to those used to study [decision-making](introduction.ipynb). The major difference is that after taking a decision (a *type 1* task), subjects express their confidence (a *type 2* task).\n",
    "\n",
    "Type 1 task example: is the [Gabor patch](http://neuroanatody.com/2016/05/whats-in-a-gabor-patch/) tilted to the left or to the right?\n",
    "\n",
    "![Gabor patch](_images/gabor_patch.png)"
   ]
  },
  {
   "cell_type": "markdown",
   "id": "7574f9d1",
   "metadata": {
    "slideshow": {
     "slide_type": "slide"
    }
   },
   "source": [
    "#### Flow of information for a perceptual task\n",
    "\n",
    "![Flow of information for a perceptual task](_images/confidence_information_flow.png)\n",
    "\n",
    "{cite}`mamassianConfidenceForcedChoiceOther2020`"
   ]
  },
  {
   "cell_type": "markdown",
   "id": "5c7da9ac",
   "metadata": {
    "slideshow": {
     "slide_type": "slide"
    }
   },
   "source": [
    "### Measurement methods"
   ]
  },
  {
   "cell_type": "markdown",
   "id": "d469eb31",
   "metadata": {
    "slideshow": {
     "slide_type": "-"
    }
   },
   "source": [
    "#### Confidence ratings\n",
    "\n",
    "![Confidence ratings](_images/confidence_ratings.png)\n",
    "\n",
    "After a decision, the subject is asked to evaluate its correctness, using a dedicated scale.\n",
    "\n",
    "Simple and frequently used, this method has several drawbacks: intersubject variability regarding bias and scale usage, and possible confusions between type 1 and type 2 judgments {cite}`mamassianConfidenceForcedChoiceOther2020`."
   ]
  },
  {
   "cell_type": "markdown",
   "id": "ead4cb8b",
   "metadata": {
    "slideshow": {
     "slide_type": "slide"
    }
   },
   "source": [
    "#### Post-decision wagering\n",
    "\n",
    "After a decision, subjects are asked to gamble on whether their response was correct. If the decision is correct, the wager amount is kept {cite}`flemingNeuralBasisMetacognitive2012`.\n",
    "\n",
    "The amount of the bet is assumed to reflect a subject’s confidence in his or her decision.\n",
    "\n"
   ]
  },
  {
   "cell_type": "markdown",
   "id": "5b9813e7",
   "metadata": {
    "slideshow": {
     "slide_type": "slide"
    }
   },
   "source": [
    "#### Opt-out paradigm\n",
    "\n",
    "![Confidence opt-out](_images/confidence_opt_out.png)\n",
    "\n",
    "In most but not all the trials, the subject has the option to decline the decision task and receive a smaller reward.\n",
    "\n",
    "This paradigm is well suited to experiments with animals, which cannot explicitely report their confidence.\n",
    "\n",
    "One challenge is to avoid confounding it with a three-alternative forced choice {cite}`kepecsComputationalFrameworkStudy2012`."
   ]
  },
  {
   "cell_type": "markdown",
   "id": "009e65db",
   "metadata": {
    "slideshow": {
     "slide_type": "slide"
    }
   },
   "source": [
    "#### Confidence forced choice\n",
    "\n",
    "![Confidence forced choice](_images/confidence_forced_choice.png)\n",
    "\n",
    "After two decisions, the subject has to choose which one is more likely to be correct.\n",
    "\n",
    "One benefit of this paradigm is that it disregards confidence biases to focus on sensitivity {cite}`mamassianConfidenceForcedChoiceOther2020`."
   ]
  },
  {
   "cell_type": "markdown",
   "id": "2a22435e",
   "metadata": {
    "slideshow": {
     "slide_type": "slide"
    }
   },
   "source": [
    "## Computing confidence"
   ]
  },
  {
   "cell_type": "markdown",
   "id": "8c9dbc89",
   "metadata": {
    "slideshow": {
     "slide_type": "slide"
    }
   },
   "source": [
    "### Context\n",
    "\n",
    "Let's consider a simple two-alternative forced choice decision task.\n",
    "\n",
    "Assuming that post-decisional confidence was measured on a binary scale (high/low), we can count the number of confidence ratings assigned to each judgment in the following type 2 table.\n",
    "\n",
    "|Type 1 decision|Low confidence|High confidence|\n",
    "|-|-|-|\n",
    "|Incorrect|True Negatives ($TN_2$)|False Positives ($FP_2$)|\n",
    "|Correct|False Negatives ($FN_2$)|True Positives ($TP_2$)|"
   ]
  },
  {
   "cell_type": "markdown",
   "id": "34f95503",
   "metadata": {
    "slideshow": {
     "slide_type": "slide"
    }
   },
   "source": [
    "### Statistical correlation\n",
    "\n",
    "The simplest measure of confidence sensitivity is the [$\\phi$ coefficient](https://en.wikipedia.org/wiki/Phi_coefficient) (a.k.a. Pearson $r$ correlation for binary variables) between results and confidence measurements.\n",
    "\n",
    "$$\\phi = \\frac{(TN_2 *TP_2 - FN_2*FP_2)}{\\sqrt{(TP_2+FP_2)(TP_2+FN_2)(TN_2+FP_2)(TN_2+FN_2)}}$$\n",
    "\n",
    "> This metric is equivalent to the *Matthews Correlation Coefficient* (MCC) used in Machine Learning {cite}`chiccoMatthewsCorrelationCoefficient2023`.\n",
    "\n",
    "Another possible way of computing correlation is the *Goodman-Kruskal gamma coefficient* $G$.\n",
    "\n",
    "Unfortunately, both $\\phi$ and $G$ can be affected by bias."
   ]
  },
  {
   "cell_type": "code",
   "execution_count": 21,
   "id": "beacb020",
   "metadata": {
    "slideshow": {
     "slide_type": "slide"
    }
   },
   "outputs": [
    {
     "name": "stdout",
     "output_type": "stream",
     "text": [
      "Correlation: 0.33\n"
     ]
    }
   ],
   "source": [
    "# Binary results for a series of decisions (type 1 task)\n",
    "# 1 = correct answer, 0 = wrong answer\n",
    "results = [1, 0, 0, 1, 1, 0]\n",
    "\n",
    "# Binary confidence for each decision (type 2 task)\n",
    "# 1 = high confidence, 0 = low confidence\n",
    "confidence = [1, 1, 0, 0, 1, 0]\n",
    "\n",
    "# Compute true/false positives/negatives\n",
    "TN_2 = len([r for r, c in zip(results, confidence) if r == 0 and c == 0])\n",
    "FN_2 = len([r for r, c in zip(results, confidence) if r == 1 and c == 0])\n",
    "FP_2 = len([r for r, c in zip(results, confidence) if r == 0 and c == 1])\n",
    "TP_2 = len([r for r, c in zip(results, confidence) if r == 1 and c == 1])\n",
    "\n",
    "# Compute phi correlation manually\n",
    "phi = (TN_2 * TP_2 - FN_2 * FP_2) / math.sqrt(\n",
    "    (TP_2 + FP_2) * (TP_2 + FN_2) * (TN_2 + FP_2) * (TN_2 + FN_2)\n",
    ")\n",
    "print(f\"Correlation: {phi:.02}\")"
   ]
  },
  {
   "cell_type": "markdown",
   "id": "a1679801",
   "metadata": {
    "slideshow": {
     "slide_type": "slide"
    }
   },
   "source": [
    "### Signal Detection Theory\n",
    "\n",
    "SDT is a framework for analyzing decision making in the presence of uncertainty.\n",
    "\n",
    "Originally developped in the mid-20th century to assess how faithfully a radar operator is able to separate signal from noise, it has applications in many fields (psychology, diagnostics, quality control, etc).\n",
    "\n",
    "SDT's main virtue is its ability to disentangle sensitivity from bias in a decision process."
   ]
  },
  {
   "cell_type": "markdown",
   "id": "3e9af789",
   "metadata": {
    "slideshow": {
     "slide_type": "slide"
    }
   },
   "source": [
    "#### Conceptual overview\n",
    "\n",
    "##### Context\n",
    "\n",
    "In an experiment where stimuli or signals were either present or absent, and the subject categorized each trial as having the stimulus/signal present or absent, the trials are sorted into one of four categories in the following type 1 table.\n",
    "\n",
    "|Stimulus or signal|Response: \"absent\"|Response: \"present\"|\n",
    "|-|-|-|\n",
    "|Absent|Correct Rejections ($TN_1$)|False Alarms ($FP_1$)|\n",
    "|Present|Misses ($FN_1$)|Hits ($TP_1$)|"
   ]
  },
  {
   "cell_type": "markdown",
   "id": "2a97092a",
   "metadata": {
    "slideshow": {
     "slide_type": "slide"
    }
   },
   "source": [
    "##### Discrimination metrics\n",
    "\n",
    "*True Positive Rate (TPR)* a.k.a. *hit rate* is the proportion of hits in the presence of stimulus/signal. It quantifies how well a decision maker can identify true positives.\n",
    "\n",
    "*False Positive Rate (FPR)* a.k.a. *false alarm rate* is the proportion of false alarms in the absence of stimulus/signal.\n",
    "\n",
    "$$\\text{TPR}_1 = \\frac{TP_1}{TP_1 + FN_1}$$\n",
    "\n",
    "$$\\text{FPR}_1 = \\frac{FP_1}{TN_1+FP_1}$$\n",
    "\n",
    "> $\\text{TPR}_1$ is equivalent to the *recall* metric used in Machine Learning."
   ]
  },
  {
   "cell_type": "markdown",
   "id": "23a86710",
   "metadata": {
    "slideshow": {
     "slide_type": "slide"
    }
   },
   "source": [
    "##### Probability distributions\n",
    "\n",
    "SDT represents a decision as a comparison between a *decision variable* (DV), derived from a single piece of sensory evidence, and a *criterion* (the threshold between \"absent\" and \"present\" responses).\n",
    "\n",
    "Since evidence is affected by perturbations such as neural noise and fluctuation in attention, the DV can be modelized as a random variable described by a probability distribution.\n",
    "\n",
    "More precisely, SDT assumes that the distributions of DV values in the presence or absence of stimulus/signal are Gaussian with equal variance."
   ]
  },
  {
   "cell_type": "markdown",
   "id": "aa0fb70c",
   "metadata": {
    "slideshow": {
     "slide_type": "slide"
    }
   },
   "source": [
    "![Standard model of SDT](_images/sdt_standard.png)\n",
    "\n",
    "{cite}`michelConfidenceConsciousnessResearch2023`"
   ]
  },
  {
   "cell_type": "markdown",
   "id": "1c1baee4",
   "metadata": {
    "slideshow": {
     "slide_type": "slide"
    }
   },
   "source": [
    "##### Example\n",
    "\n",
    "![Example of criterion choice](_images/sdt_example.png)\n",
    "\n",
    "With this criterion choice, the TPR (shaded region of the signal distribution) is 0.9332 and the FPR (shaded region of the noise distribution) is 0.3085 {cite}`stanislawCalculationSignalDetection1999`."
   ]
  },
  {
   "cell_type": "markdown",
   "id": "5d0481be",
   "metadata": {
    "slideshow": {
     "slide_type": "slide"
    }
   },
   "source": [
    "#### Type 1 sensitivity index\n",
    "\n",
    "Type 1 sensitivity/discriminability index $d'_1$ is a measure of discrimination performance in the task. It quantifies the sensibility of the decision maker to the presence of the stimulus/signal.\n",
    "\n",
    "$d'_1$ quantifies the distance between the means of the signal and noise distributions in standard deviation units. It can be obtained using the inverse cumulative distribution function, which computes the *standard score* a.k.a. *z-score* associated to a probability {cite}`stanislawCalculationSignalDetection1999`.\n",
    "\n",
    "$$d'_1 = z(\\text{TPR}_1) - z(\\text{FPR}_1)$$"
   ]
  },
  {
   "cell_type": "code",
   "execution_count": 38,
   "id": "8462fcaf",
   "metadata": {
    "slideshow": {
     "slide_type": "slide"
    }
   },
   "outputs": [
    {
     "name": "stdout",
     "output_type": "stream",
     "text": [
      "d': 2.0002\n"
     ]
    }
   ],
   "source": [
    "# Discrimination metrics values for the previous example\n",
    "TPR_1 = 0.9332\n",
    "FPR_1 = 0.3085\n",
    "\n",
    "# Computing d'\n",
    "# https://stackoverflow.com/a/55250607\n",
    "d_prime = NormalDist().inv_cdf(TPR_1) - NormalDist().inv_cdf(FPR_1)\n",
    "print(f\"d': {d_prime:.05}\")"
   ]
  },
  {
   "cell_type": "markdown",
   "id": "a1271b25",
   "metadata": {
    "slideshow": {
     "slide_type": "slide"
    }
   },
   "source": [
    "#### ROC curve and AUROC\n",
    "\n",
    "The ROC curve (\"Receiver Operating Characteristic\") plots TPR vs. FPR for each possible value of the decision criterion.\n",
    "\n",
    "AUC, or more precisely AUROC (\"Area Under the ROC Curve\"), provides an aggregate measure of performance across all possible decision criterions. It is a way to assess sensitivity independently of bias.\n",
    "\n",
    "This non-parametric approach is free from the equal-variance Gaussian assumption needed for $d'$ to be bias-free {cite}`flemingHowMeasureMetacognition2014`."
   ]
  },
  {
   "cell_type": "markdown",
   "id": "0a434440",
   "metadata": {
    "slideshow": {
     "slide_type": "slide"
    }
   },
   "source": [
    "##### Examples\n",
    "\n",
    "![Examples of ROC curves](_images/sdt_roc_examples.png)\n",
    "\n",
    "{cite}`michelConfidenceConsciousnessResearch2023`"
   ]
  },
  {
   "cell_type": "markdown",
   "id": "7c6a50f7",
   "metadata": {
    "slideshow": {
     "slide_type": "slide"
    }
   },
   "source": [
    "##### Impact of criterion choice\n",
    "\n",
    "[![AUROC animation](_images/auroc_animation.gif)](https://github.com/dariyasydykova/open_projects/tree/master/ROC_animation)"
   ]
  },
  {
   "cell_type": "markdown",
   "id": "4e19e90b",
   "metadata": {
    "slideshow": {
     "slide_type": "slide"
    }
   },
   "source": [
    "##### Impact of signal discriminability\n",
    "\n",
    "[![AUROC shape animation](_images/auroc_shape_animation.gif)](https://github.com/dariyasydykova/open_projects/tree/master/ROC_animation)"
   ]
  },
  {
   "cell_type": "markdown",
   "id": "6f24cc3b",
   "metadata": {
    "slideshow": {
     "slide_type": "slide"
    }
   },
   "source": [
    "#### Type 2 sensitivity index\n",
    "\n",
    "Applying SDT to the type 2 confidence table defined above, we can compute type 2 sensitivity $d'_2$ by applying the same formula, using True and False Positive Rates that link accuracy and confidence.\n",
    "\n",
    "$$d'_2 = z(\\text{TPR}_2) - z(\\text{FPR}_2)$$\n",
    "\n",
    "However, the equal-variance Gaussian assumption for distributions is problematic in this case {cite}`galvinTypeTasksTheory2003`."
   ]
  },
  {
   "cell_type": "markdown",
   "id": "ec6a8243",
   "metadata": {
    "slideshow": {
     "slide_type": "slide"
    }
   },
   "source": [
    "#### AUROC2\n",
    "\n",
    "With multiple confidence ratings, it is possible to construct a type 2 ROC curve by treating each confidence level as a criterion that separates high from low confidence. AUROC2 is then a (theorically) bias-free measure of confidence sensitivity.\n",
    "\n",
    "![Example of ROC curve for confidence](_images/auroc2.png)\n",
    "\n",
    "{cite}`flemingHowMeasureMetacognition2014`"
   ]
  },
  {
   "cell_type": "markdown",
   "id": "69156ff2",
   "metadata": {
    "slideshow": {
     "slide_type": "slide"
    }
   },
   "source": [
    "#### Meta-d'\n",
    "\n",
    "This measure exploits the fact that given Gaussian variance assumptions at the type 1 level, the shapes of the type 2 distributions are known even if they are not themselves Gaussian. More precisely, the type 2 ROC curve is entirely determined by type 1 sensitivity if the subject is metacognitively ideal (perfect in placing their confidence ratings).\n",
    "\n",
    "Using this assumption and given the subject’s type 2 performance data, we can thus obtain the underlying type 1 sensitivity. This measure is called meta-$d'$. It estimates the level of type 1 performance ($d′_1$) that would have given rise to the observed type 2 data {cite}`flemingHowMeasureMetacognition2014`."
   ]
  },
  {
   "cell_type": "markdown",
   "id": "059861b7",
   "metadata": {
    "slideshow": {
     "slide_type": "slide"
    }
   },
   "source": [
    "#### M-ratio\n",
    "\n",
    "Because meta-$d′$ is in the same units as (type 1) $d′$, the two can be directly compared.\n",
    "\n",
    "We can define confidence efficiency as the value of meta-$d′$ relative to $d′$, or meta-$d'/d'$. This measure is called the M-ratio.\n",
    "\n",
    "An alternative measure is meta-$d'-d'$, favored when $d'$ takes small values {cite}`flemingHowMeasureMetacognition2014`."
   ]
  },
  {
   "cell_type": "markdown",
   "id": "04856106",
   "metadata": {
    "slideshow": {
     "slide_type": "slide"
    }
   },
   "source": [
    "### Evidence Accumulation Models\n",
    "\n",
    "In contrast to models inspired by SDT (which is silent on decision time), accumulation of evidence models assume that new sensory evidence becomes available over time until a decision is reached.\n",
    "\n",
    "The number of accumulators may vary from only one (à la Drift Diffusion Model) to several ones, more or less partially correlated (for example, using mutual inhibition)."
   ]
  },
  {
   "cell_type": "markdown",
   "id": "26091dba",
   "metadata": {
    "slideshow": {
     "slide_type": "slide"
    }
   },
   "source": [
    "#### Balance of Evidence\n",
    "\n",
    "In a multi-accumulator model, confidence can be seen as the distance between them at the time of decision (i.e. threshold reached). This measure is called the *Balance of Evidence* (BoE) {cite}`mamassianVisualConfidence2016`.\n",
    "\n",
    "![Balance of Evidence example](_images/BoE.png)\n",
    "\n",
    "In a DDM-like model, confidence is taken to be the current position of the accumulated evidence."
   ]
  },
  {
   "cell_type": "markdown",
   "id": "e8977378",
   "metadata": {
    "slideshow": {
     "slide_type": "slide"
    }
   },
   "source": [
    "#### Two-stage Dynamic Signal Detection\n",
    "\n",
    "Other approaches like the *Two-stage Dynamic Signal Detection* (2DSD) model postulate that the accumulation process continues after a decision has been made. The ultimate location of accumulated evidence serves as a proxy for confidence.\n",
    "\n",
    "![2DSD model](_images/2DSD.png)\n",
    "\n",
    "{cite}`pleskacTwostageDynamicSignal2010`"
   ]
  },
  {
   "cell_type": "markdown",
   "id": "d0785195",
   "metadata": {
    "slideshow": {
     "slide_type": "slide"
    }
   },
   "source": [
    "## Exploiting confidence\n",
    "\n",
    "> Soon!"
   ]
  },
  {
   "cell_type": "code",
   "execution_count": null,
   "id": "953633aa",
   "metadata": {},
   "outputs": [],
   "source": []
  }
 ],
 "metadata": {
  "celltoolbar": "Diaporama",
  "kernelspec": {
   "display_name": "Python 3 (ipykernel)",
   "language": "python",
   "name": "python3"
  },
  "language_info": {
   "codemirror_mode": {
    "name": "ipython",
    "version": 3
   },
   "file_extension": ".py",
   "mimetype": "text/x-python",
   "name": "python",
   "nbconvert_exporter": "python",
   "pygments_lexer": "ipython3",
   "version": "3.11.1"
  }
 },
 "nbformat": 4,
 "nbformat_minor": 5
}
