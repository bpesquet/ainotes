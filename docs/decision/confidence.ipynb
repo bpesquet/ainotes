{
 "cells": [
  {
   "cell_type": "markdown",
   "id": "f50e19bb",
   "metadata": {
    "slideshow": {
     "slide_type": "slide"
    }
   },
   "source": [
    "# Confidence in decision-making\n",
    "\n",
    "```{warning}\n",
    "This chapter is under construction.\n",
    "```"
   ]
  },
  {
   "cell_type": "markdown",
   "id": "99f2e74e",
   "metadata": {
    "slideshow": {
     "slide_type": "slide"
    }
   },
   "source": [
    "## Terminology"
   ]
  },
  {
   "cell_type": "markdown",
   "id": "07724d03",
   "metadata": {
    "slideshow": {
     "slide_type": "slide"
    }
   },
   "source": [
    "### Confidence\n",
    "\n",
    "In general terms, **confidence** is the belief or conviction that a hypothesis or prediction is correct, that an outcome will be favorable, or that a chosen course of action is the best or most effective.\n",
    "\n",
    "In decision-making, confidence can be more precisely defined as **the subjective estimate of decision quality** {cite}`brusSourcesConfidenceValuebased2021`."
   ]
  },
  {
   "cell_type": "markdown",
   "id": "cfe4186f",
   "metadata": {
    "slideshow": {
     "slide_type": "slide"
    }
   },
   "source": [
    "### Trust\n",
    "\n",
    "**Trust** is a social construct: the belief that someone or something will behave or perform as expected. It implies a relationship between a *trustor* and a *trustee*.\n",
    "\n",
    "**Self-confidence** is trust in one's abilities."
   ]
  },
  {
   "cell_type": "markdown",
   "id": "37002f8b",
   "metadata": {
    "slideshow": {
     "slide_type": "slide"
    }
   },
   "source": [
    "### Uncertainty\n",
    "\n",
    "Generally speaking, **uncertainty** (or incertitude) characterizes situations involving imperfect or unknown information.\n",
    "\n",
    "In decision-making, it refers to **the variability in the representation of information before a decision is taken** {cite}`mamassian2020`."
   ]
  },
  {
   "cell_type": "markdown",
   "id": "a6041785",
   "metadata": {
    "slideshow": {
     "slide_type": "slide"
    }
   },
   "source": [
    "### Belief"
   ]
  },
  {
   "cell_type": "markdown",
   "id": "5fa88263",
   "metadata": {
    "slideshow": {
     "slide_type": "slide"
    }
   },
   "source": [
    "### Bias"
   ]
  },
  {
   "cell_type": "markdown",
   "id": "3727ba6c",
   "metadata": {
    "slideshow": {
     "slide_type": "slide"
    }
   },
   "source": [
    "### Sensitivity"
   ]
  },
  {
   "cell_type": "markdown",
   "id": "5c67a5cc",
   "metadata": {
    "slideshow": {
     "slide_type": "slide"
    }
   },
   "source": [
    "### Error monitoring\n",
    "\n",
    "In decision-making, **error monitoring (EM)** is the process by which one is able to detect his/her errors as soon as a response has been made {cite}`yeungMetacognitionHumanDecisionmaking2012`.\n",
    "\n",
    "EM allows adaptation of behavior both in the short and longer terms through gradual learning of actions' outcomes."
   ]
  },
  {
   "cell_type": "markdown",
   "id": "88964144",
   "metadata": {
    "slideshow": {
     "slide_type": "slide"
    }
   },
   "source": [
    "### Cognitive control"
   ]
  },
  {
   "cell_type": "markdown",
   "id": "14ba5c0f",
   "metadata": {
    "slideshow": {
     "slide_type": "slide"
    }
   },
   "source": [
    "### Metacognition\n",
    "\n",
    "Confidence judgments and error monitoring are two related aspects of **metacognition**, the self-monitoring and self-control of one's own cognition (sometimes called *high order thinking*).\n",
    "\n",
    "[![Metacognition](_images/metacognition.jpg)](https://commons.wikimedia.org/wiki/File:Metacognition.jpg)"
   ]
  },
  {
   "cell_type": "markdown",
   "id": "b14264a7",
   "metadata": {
    "slideshow": {
     "slide_type": "slide"
    }
   },
   "source": [
    "## Usefulness of confidence in decision-making"
   ]
  },
  {
   "cell_type": "markdown",
   "id": "076e6ae1",
   "metadata": {
    "slideshow": {
     "slide_type": "slide"
    }
   },
   "source": [
    "## Modeling decision confidence"
   ]
  },
  {
   "cell_type": "markdown",
   "id": "a1679801",
   "metadata": {
    "slideshow": {
     "slide_type": "slide"
    }
   },
   "source": [
    "### Signal Detection Theory\n",
    "\n",
    "Framework for analyzing decision making in the presence of uncertainty.\n",
    "\n",
    "Originally developped by radar researchers in the mid-20th century, it has applications in many fields (psychology, diagnostics, quality control, etc)."
   ]
  },
  {
   "cell_type": "markdown",
   "id": "2a97092a",
   "metadata": {
    "slideshow": {
     "slide_type": "slide"
    }
   },
   "source": [
    "#### Sensitivity and specificity\n",
    "\n",
    "**Sensitivity** quantifies how well a model can identify true positives. **Specificity** quantifies how well a model can identify true negatives. Equivalent to the recall metric, these definitions are often used in [medecine and statistics](https://en.wikipedia.org/wiki/Sensitivity_and_specificity).\n",
    "\n",
    "$$\\text{Sensitivity} = \\frac{TP}{TP + FN} = \\text{True Positive Rate} = \\text{Recall}_{positive}$$\n",
    "\n",
    "$$\\text{Specificity} = \\frac{TN}{TN + FP} = \\text{True Negative Rate} = \\text{Recall}_{negative}$$"
   ]
  },
  {
   "cell_type": "markdown",
   "id": "72fc5488",
   "metadata": {
    "slideshow": {
     "slide_type": "slide"
    }
   },
   "source": [
    "Prediction outcomes can be interpreted as probability density functions, in order to represent results graphically.\n",
    "\n",
    "[![Sensitivity and specificity](_images/Specificity_vs_Sensitivity_Graph.png)](https://en.wikipedia.org/wiki/Sensitivity_and_specificity#/media/File:Specificity_vs_Sensitivity_Graph.png)"
   ]
  },
  {
   "cell_type": "markdown",
   "id": "a1271b25",
   "metadata": {
    "slideshow": {
     "slide_type": "slide"
    }
   },
   "source": [
    "#### ROC curve and AUROC\n",
    "\n",
    "$$\\text{False Positive Rate} = \\frac{FP}{TN+FP} = 1 - TNR = 1 -\\text{Specificity}$$\n",
    "\n",
    "- ROC stands for \"Receiver Operating Characteristic\".\n",
    "- A ROC curve plots sensitivity vs. (1 - specificity), or TPR vs. FPR, for each possible classification threshold.\n",
    "- AUC, or more precisely AUROC (\"Area Under the ROC Curve\"), provides an aggregate measure of performance across all possible classification thresholds."
   ]
  },
  {
   "cell_type": "markdown",
   "id": "7c6a50f7",
   "metadata": {
    "slideshow": {
     "slide_type": "slide"
    }
   },
   "source": [
    "##### Impact of threshold choice\n",
    "\n",
    "[![AUROC animation](_images/auroc_animation.gif)](https://github.com/dariyasydykova/open_projects/tree/master/ROC_animation)"
   ]
  },
  {
   "cell_type": "markdown",
   "id": "4e19e90b",
   "metadata": {
    "slideshow": {
     "slide_type": "slide"
    }
   },
   "source": [
    "##### Impact of model's separative power\n",
    "\n",
    "[![AUROC shape animation](_images/auroc_shape_animation.gif)](https://github.com/dariyasydykova/open_projects/tree/master/ROC_animation)"
   ]
  },
  {
   "cell_type": "markdown",
   "id": "21eaeefd",
   "metadata": {},
   "source": [
    "#### Discriminability index"
   ]
  },
  {
   "cell_type": "markdown",
   "id": "8103f225",
   "metadata": {
    "slideshow": {
     "slide_type": "slide"
    }
   },
   "source": [
    "### Measuring confidence\n",
    "\n",
    "Two dominant methodologies:\n",
    "\n",
    "- Confidence ratings: after a decision, evaluate its correctness.\n",
    "- Confidence forced choice: after two decisions, choose which one is more likely to be correct.\n",
    "  - Disregards confidence biases to focus on confidence sensitivity."
   ]
  },
  {
   "cell_type": "code",
   "execution_count": null,
   "id": "41b604ef",
   "metadata": {},
   "outputs": [],
   "source": []
  }
 ],
 "metadata": {
  "celltoolbar": "Diaporama",
  "kernelspec": {
   "display_name": "Python 3 (ipykernel)",
   "language": "python",
   "name": "python3"
  },
  "language_info": {
   "codemirror_mode": {
    "name": "ipython",
    "version": 3
   },
   "file_extension": ".py",
   "mimetype": "text/x-python",
   "name": "python",
   "nbconvert_exporter": "python",
   "pygments_lexer": "ipython3",
   "version": "3.11.1"
  }
 },
 "nbformat": 4,
 "nbformat_minor": 5
}
