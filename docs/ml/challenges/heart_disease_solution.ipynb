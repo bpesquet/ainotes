{
 "cells": [
  {
   "cell_type": "markdown",
   "id": "60dda517",
   "metadata": {},
   "source": [
    "# Heart disease\n",
    "\n",
    "## Objective\n",
    "\n",
    "Training a model for the diagnosis of coronary artery disease (binary classification).\n",
    "\n",
    "## Context\n",
    "\n",
    "The dataset is provided by the Cleveland Clinic Foundation for Heart Disease ([more information](https://archive.ics.uci.edu/ml/datasets/heart+Disease)). Each row describes a patient. Below is a description of each column.\n",
    "\n",
    "|  Column  |                           Description                          |  Feature Type  | Data Type |\n",
    "|:--------:|:--------------------------------------------------------------:|:--------------:|:---------:|\n",
    "| Age      | Age in years                                                   | Numerical      | integer   |\n",
    "| Sex      | (1 = male; 0 = female)                                         | Categorical    | integer   |\n",
    "| CP       | Chest pain type (0, 1, 2, 3, 4)                                | Categorical    | integer   |\n",
    "| Trestbpd | Resting blood pressure (in mm Hg on admission to the hospital) | Numerical      | integer   |\n",
    "| Chol     | Serum cholestoral in mg/dl                                     | Numerical      | integer   |\n",
    "| FBS      | (fasting blood sugar > 120 mg/dl) (1 = true; 0 = false)        | Categorical    | integer   |\n",
    "| RestECG  | Resting electrocardiographic results (0, 1, 2)                 | Categorical    | integer   |\n",
    "| Thalach  | Maximum heart rate achieved                                    | Numerical      | integer   |\n",
    "| Exang    | Exercise induced angina (1 = yes; 0 = no)                      | Categorical    | integer   |\n",
    "| Oldpeak  | ST depression induced by exercise relative to rest             | Numerical      | float     |\n",
    "| Slope    | The slope of the peak exercise ST segment                      | Numerical      | integer   |\n",
    "| CA       | Number of major vessels (0-3) colored by flourosopy            | Numerical      | integer   |\n",
    "| Thal     | 3 = normal; 6 = fixed defect; 7 = reversable defect            | Categorical    | string    |\n",
    "| Target   | Diagnosis of heart disease (1 = true; 0 = false)               | Classification | integer   |\n",
    "\n",
    "## Instructions and advice\n",
    "\n",
    "- Follow the main steps of a supervised ML project: data loading and exploring, data preparation, model training and evaluation.\n",
    "- Use the [scikit-learn](https://scikit-learn.org) library for data preparation and model training. If you are new to it, consider following its [Getting started](https://scikit-learn.org/stable/getting_started.html) guide.\n",
    "- Don't forget to setup your environment by importing the necessary Python packages.\n",
    "- Data preparation should be very similar to the [regression example](../regression.ipynb).\n",
    "- You may train any binary classification model, for example a simple [SGDClassifier](https://scikit-learn.org/stable/modules/generated/sklearn.linear_model.SGDClassifier.html).\n",
    "- Model evaluation should be very similar to the [classification example](../classification.ipynb).\n",
    "- Assess model performance and interpret results on test data.\n",
    "- **Bonus**: train several other models (decision tree, artificial neural network, etc) and compare their performances."
   ]
  },
  {
   "cell_type": "markdown",
   "id": "8996a6dc",
   "metadata": {},
   "source": [
    "## Environment setup"
   ]
  },
  {
   "cell_type": "code",
   "execution_count": 1,
   "id": "b72fe2e9",
   "metadata": {},
   "outputs": [],
   "source": [
    "import platform\n",
    "\n",
    "import numpy as np\n",
    "import matplotlib.pyplot as plt\n",
    "import seaborn as sns\n",
    "import pandas as pd\n",
    "import sklearn"
   ]
  },
  {
   "cell_type": "code",
   "execution_count": 2,
   "id": "377d0164",
   "metadata": {},
   "outputs": [],
   "source": [
    "# sklearn does not automatically import its subpackages\n",
    "# https://stackoverflow.com/a/9049246/2380880\n",
    "from sklearn.model_selection import train_test_split\n",
    "from sklearn.pipeline import Pipeline\n",
    "from sklearn.preprocessing import StandardScaler, OneHotEncoder\n",
    "from sklearn.compose import ColumnTransformer\n",
    "from sklearn.linear_model import SGDClassifier\n",
    "from sklearn.model_selection import cross_val_score\n",
    "from sklearn.metrics import (\n",
    "    ConfusionMatrixDisplay,\n",
    "    classification_report,\n",
    "    RocCurveDisplay,\n",
    ")"
   ]
  },
  {
   "cell_type": "code",
   "execution_count": 3,
   "id": "5809e38e",
   "metadata": {
    "lines_to_next_cell": 2
   },
   "outputs": [],
   "source": [
    "# Setup plots\n",
    "\n",
    "# Include matplotlib graphs into the notebook, next to the code\n",
    "# https://stackoverflow.com/a/43028034/2380880\n",
    "%matplotlib inline\n",
    "\n",
    "# Improve plot quality\n",
    "%config InlineBackend.figure_format = \"retina\"\n",
    "\n",
    "# Setup seaborn default theme\n",
    "# http://seaborn.pydata.org/generated/seaborn.set_theme.html#seaborn.set_theme\n",
    "sns.set_theme()"
   ]
  },
  {
   "cell_type": "code",
   "execution_count": 4,
   "id": "a0ed6396",
   "metadata": {
    "lines_to_next_cell": 2
   },
   "outputs": [
    {
     "name": "stdout",
     "output_type": "stream",
     "text": [
      "Python version: 3.11.1\n",
      "NumPy version: 1.26.3\n",
      "scikit-learn version: 1.3.2\n"
     ]
    }
   ],
   "source": [
    "# Print environment info\n",
    "print(f\"Python version: {platform.python_version()}\")\n",
    "print(f\"NumPy version: {np.__version__}\")\n",
    "print(f\"scikit-learn version: {sklearn.__version__}\")"
   ]
  },
  {
   "cell_type": "markdown",
   "id": "c167e6c8",
   "metadata": {},
   "source": [
    "## Data loading and exploring"
   ]
  },
  {
   "cell_type": "code",
   "execution_count": 5,
   "id": "a2ceb1a8",
   "metadata": {},
   "outputs": [
    {
     "name": "stdout",
     "output_type": "stream",
     "text": [
      "df_heart: (301, 14)\n"
     ]
    }
   ],
   "source": [
    "DATASET_URL = (\n",
    "    \"https://raw.githubusercontent.com/bpesquet/ainotes/master/data/heart.csv\"\n",
    ")\n",
    "\n",
    "df_heart = pd.read_csv(DATASET_URL)\n",
    "\n",
    "print(f\"df_heart: {df_heart.shape}\")"
   ]
  },
  {
   "cell_type": "code",
   "execution_count": 6,
   "id": "f76f2c46",
   "metadata": {},
   "outputs": [
    {
     "name": "stdout",
     "output_type": "stream",
     "text": [
      "<class 'pandas.core.frame.DataFrame'>\n",
      "RangeIndex: 301 entries, 0 to 300\n",
      "Data columns (total 14 columns):\n",
      " #   Column    Non-Null Count  Dtype  \n",
      "---  ------    --------------  -----  \n",
      " 0   age       301 non-null    int64  \n",
      " 1   sex       301 non-null    int64  \n",
      " 2   cp        301 non-null    int64  \n",
      " 3   trestbps  301 non-null    int64  \n",
      " 4   chol      301 non-null    int64  \n",
      " 5   fbs       301 non-null    int64  \n",
      " 6   restecg   301 non-null    int64  \n",
      " 7   thalach   301 non-null    int64  \n",
      " 8   exang     301 non-null    int64  \n",
      " 9   oldpeak   301 non-null    float64\n",
      " 10  slope     301 non-null    int64  \n",
      " 11  ca        301 non-null    int64  \n",
      " 12  thal      301 non-null    object \n",
      " 13  target    301 non-null    int64  \n",
      "dtypes: float64(1), int64(12), object(1)\n",
      "memory usage: 33.0+ KB\n"
     ]
    }
   ],
   "source": [
    "# Print info about the dataset\n",
    "\n",
    "df_heart.info()"
   ]
  },
  {
   "cell_type": "code",
   "execution_count": 7,
   "id": "d659fdaf",
   "metadata": {},
   "outputs": [
    {
     "data": {
      "text/html": [
       "<div>\n",
       "<style scoped>\n",
       "    .dataframe tbody tr th:only-of-type {\n",
       "        vertical-align: middle;\n",
       "    }\n",
       "\n",
       "    .dataframe tbody tr th {\n",
       "        vertical-align: top;\n",
       "    }\n",
       "\n",
       "    .dataframe thead th {\n",
       "        text-align: right;\n",
       "    }\n",
       "</style>\n",
       "<table border=\"1\" class=\"dataframe\">\n",
       "  <thead>\n",
       "    <tr style=\"text-align: right;\">\n",
       "      <th></th>\n",
       "      <th>age</th>\n",
       "      <th>sex</th>\n",
       "      <th>cp</th>\n",
       "      <th>trestbps</th>\n",
       "      <th>chol</th>\n",
       "      <th>fbs</th>\n",
       "      <th>restecg</th>\n",
       "      <th>thalach</th>\n",
       "      <th>exang</th>\n",
       "      <th>oldpeak</th>\n",
       "      <th>slope</th>\n",
       "      <th>ca</th>\n",
       "      <th>thal</th>\n",
       "      <th>target</th>\n",
       "    </tr>\n",
       "  </thead>\n",
       "  <tbody>\n",
       "    <tr>\n",
       "      <th>280</th>\n",
       "      <td>59</td>\n",
       "      <td>1</td>\n",
       "      <td>4</td>\n",
       "      <td>110</td>\n",
       "      <td>239</td>\n",
       "      <td>0</td>\n",
       "      <td>2</td>\n",
       "      <td>142</td>\n",
       "      <td>1</td>\n",
       "      <td>1.2</td>\n",
       "      <td>2</td>\n",
       "      <td>1</td>\n",
       "      <td>reversible</td>\n",
       "      <td>1</td>\n",
       "    </tr>\n",
       "    <tr>\n",
       "      <th>43</th>\n",
       "      <td>62</td>\n",
       "      <td>1</td>\n",
       "      <td>4</td>\n",
       "      <td>120</td>\n",
       "      <td>267</td>\n",
       "      <td>0</td>\n",
       "      <td>0</td>\n",
       "      <td>99</td>\n",
       "      <td>1</td>\n",
       "      <td>1.8</td>\n",
       "      <td>2</td>\n",
       "      <td>2</td>\n",
       "      <td>reversible</td>\n",
       "      <td>0</td>\n",
       "    </tr>\n",
       "    <tr>\n",
       "      <th>245</th>\n",
       "      <td>57</td>\n",
       "      <td>1</td>\n",
       "      <td>4</td>\n",
       "      <td>130</td>\n",
       "      <td>131</td>\n",
       "      <td>0</td>\n",
       "      <td>0</td>\n",
       "      <td>115</td>\n",
       "      <td>1</td>\n",
       "      <td>1.2</td>\n",
       "      <td>2</td>\n",
       "      <td>1</td>\n",
       "      <td>reversible</td>\n",
       "      <td>1</td>\n",
       "    </tr>\n",
       "    <tr>\n",
       "      <th>19</th>\n",
       "      <td>49</td>\n",
       "      <td>1</td>\n",
       "      <td>2</td>\n",
       "      <td>130</td>\n",
       "      <td>266</td>\n",
       "      <td>0</td>\n",
       "      <td>0</td>\n",
       "      <td>171</td>\n",
       "      <td>0</td>\n",
       "      <td>0.6</td>\n",
       "      <td>1</td>\n",
       "      <td>0</td>\n",
       "      <td>normal</td>\n",
       "      <td>0</td>\n",
       "    </tr>\n",
       "    <tr>\n",
       "      <th>32</th>\n",
       "      <td>64</td>\n",
       "      <td>1</td>\n",
       "      <td>3</td>\n",
       "      <td>140</td>\n",
       "      <td>335</td>\n",
       "      <td>0</td>\n",
       "      <td>0</td>\n",
       "      <td>158</td>\n",
       "      <td>0</td>\n",
       "      <td>0.0</td>\n",
       "      <td>1</td>\n",
       "      <td>0</td>\n",
       "      <td>normal</td>\n",
       "      <td>0</td>\n",
       "    </tr>\n",
       "    <tr>\n",
       "      <th>25</th>\n",
       "      <td>50</td>\n",
       "      <td>0</td>\n",
       "      <td>3</td>\n",
       "      <td>120</td>\n",
       "      <td>219</td>\n",
       "      <td>0</td>\n",
       "      <td>0</td>\n",
       "      <td>158</td>\n",
       "      <td>0</td>\n",
       "      <td>1.6</td>\n",
       "      <td>2</td>\n",
       "      <td>0</td>\n",
       "      <td>normal</td>\n",
       "      <td>0</td>\n",
       "    </tr>\n",
       "    <tr>\n",
       "      <th>182</th>\n",
       "      <td>54</td>\n",
       "      <td>1</td>\n",
       "      <td>4</td>\n",
       "      <td>122</td>\n",
       "      <td>286</td>\n",
       "      <td>0</td>\n",
       "      <td>2</td>\n",
       "      <td>116</td>\n",
       "      <td>1</td>\n",
       "      <td>3.2</td>\n",
       "      <td>2</td>\n",
       "      <td>2</td>\n",
       "      <td>normal</td>\n",
       "      <td>1</td>\n",
       "    </tr>\n",
       "    <tr>\n",
       "      <th>274</th>\n",
       "      <td>54</td>\n",
       "      <td>1</td>\n",
       "      <td>4</td>\n",
       "      <td>120</td>\n",
       "      <td>188</td>\n",
       "      <td>0</td>\n",
       "      <td>0</td>\n",
       "      <td>113</td>\n",
       "      <td>0</td>\n",
       "      <td>1.4</td>\n",
       "      <td>2</td>\n",
       "      <td>1</td>\n",
       "      <td>reversible</td>\n",
       "      <td>1</td>\n",
       "    </tr>\n",
       "    <tr>\n",
       "      <th>261</th>\n",
       "      <td>65</td>\n",
       "      <td>1</td>\n",
       "      <td>4</td>\n",
       "      <td>120</td>\n",
       "      <td>177</td>\n",
       "      <td>0</td>\n",
       "      <td>0</td>\n",
       "      <td>140</td>\n",
       "      <td>0</td>\n",
       "      <td>0.4</td>\n",
       "      <td>1</td>\n",
       "      <td>0</td>\n",
       "      <td>reversible</td>\n",
       "      <td>0</td>\n",
       "    </tr>\n",
       "    <tr>\n",
       "      <th>294</th>\n",
       "      <td>61</td>\n",
       "      <td>0</td>\n",
       "      <td>4</td>\n",
       "      <td>145</td>\n",
       "      <td>307</td>\n",
       "      <td>0</td>\n",
       "      <td>2</td>\n",
       "      <td>146</td>\n",
       "      <td>1</td>\n",
       "      <td>1.0</td>\n",
       "      <td>2</td>\n",
       "      <td>0</td>\n",
       "      <td>reversible</td>\n",
       "      <td>0</td>\n",
       "    </tr>\n",
       "  </tbody>\n",
       "</table>\n",
       "</div>"
      ],
      "text/plain": [
       "     age  sex  cp  trestbps  chol  fbs  restecg  thalach  exang  oldpeak  \\\n",
       "280   59    1   4       110   239    0        2      142      1      1.2   \n",
       "43    62    1   4       120   267    0        0       99      1      1.8   \n",
       "245   57    1   4       130   131    0        0      115      1      1.2   \n",
       "19    49    1   2       130   266    0        0      171      0      0.6   \n",
       "32    64    1   3       140   335    0        0      158      0      0.0   \n",
       "25    50    0   3       120   219    0        0      158      0      1.6   \n",
       "182   54    1   4       122   286    0        2      116      1      3.2   \n",
       "274   54    1   4       120   188    0        0      113      0      1.4   \n",
       "261   65    1   4       120   177    0        0      140      0      0.4   \n",
       "294   61    0   4       145   307    0        2      146      1      1.0   \n",
       "\n",
       "     slope  ca        thal  target  \n",
       "280      2   1  reversible       1  \n",
       "43       2   2  reversible       0  \n",
       "245      2   1  reversible       1  \n",
       "19       1   0      normal       0  \n",
       "32       1   0      normal       0  \n",
       "25       2   0      normal       0  \n",
       "182      2   2      normal       1  \n",
       "274      2   1  reversible       1  \n",
       "261      1   0  reversible       0  \n",
       "294      2   0  reversible       0  "
      ]
     },
     "execution_count": 7,
     "metadata": {},
     "output_type": "execute_result"
    }
   ],
   "source": [
    "# Print 10 random samples\n",
    "\n",
    "df_heart.sample(n=10)"
   ]
  },
  {
   "cell_type": "code",
   "execution_count": 8,
   "id": "80730f54",
   "metadata": {},
   "outputs": [
    {
     "data": {
      "text/html": [
       "<div>\n",
       "<style scoped>\n",
       "    .dataframe tbody tr th:only-of-type {\n",
       "        vertical-align: middle;\n",
       "    }\n",
       "\n",
       "    .dataframe tbody tr th {\n",
       "        vertical-align: top;\n",
       "    }\n",
       "\n",
       "    .dataframe thead th {\n",
       "        text-align: right;\n",
       "    }\n",
       "</style>\n",
       "<table border=\"1\" class=\"dataframe\">\n",
       "  <thead>\n",
       "    <tr style=\"text-align: right;\">\n",
       "      <th></th>\n",
       "      <th>age</th>\n",
       "      <th>sex</th>\n",
       "      <th>cp</th>\n",
       "      <th>trestbps</th>\n",
       "      <th>chol</th>\n",
       "      <th>fbs</th>\n",
       "      <th>restecg</th>\n",
       "      <th>thalach</th>\n",
       "      <th>exang</th>\n",
       "      <th>oldpeak</th>\n",
       "      <th>slope</th>\n",
       "      <th>ca</th>\n",
       "      <th>target</th>\n",
       "    </tr>\n",
       "  </thead>\n",
       "  <tbody>\n",
       "    <tr>\n",
       "      <th>count</th>\n",
       "      <td>301.000000</td>\n",
       "      <td>301.000000</td>\n",
       "      <td>301.000000</td>\n",
       "      <td>301.000000</td>\n",
       "      <td>301.000000</td>\n",
       "      <td>301.000000</td>\n",
       "      <td>301.000000</td>\n",
       "      <td>301.000000</td>\n",
       "      <td>301.000000</td>\n",
       "      <td>301.000000</td>\n",
       "      <td>301.000000</td>\n",
       "      <td>301.000000</td>\n",
       "      <td>301.000000</td>\n",
       "    </tr>\n",
       "    <tr>\n",
       "      <th>mean</th>\n",
       "      <td>54.571429</td>\n",
       "      <td>0.677741</td>\n",
       "      <td>3.126246</td>\n",
       "      <td>131.684385</td>\n",
       "      <td>246.817276</td>\n",
       "      <td>0.146179</td>\n",
       "      <td>0.996678</td>\n",
       "      <td>149.308970</td>\n",
       "      <td>0.328904</td>\n",
       "      <td>1.061462</td>\n",
       "      <td>1.594684</td>\n",
       "      <td>0.677741</td>\n",
       "      <td>0.275748</td>\n",
       "    </tr>\n",
       "    <tr>\n",
       "      <th>std</th>\n",
       "      <td>9.041702</td>\n",
       "      <td>0.468120</td>\n",
       "      <td>1.008634</td>\n",
       "      <td>17.709415</td>\n",
       "      <td>52.186619</td>\n",
       "      <td>0.353874</td>\n",
       "      <td>0.988259</td>\n",
       "      <td>22.953015</td>\n",
       "      <td>0.470597</td>\n",
       "      <td>1.167295</td>\n",
       "      <td>0.617931</td>\n",
       "      <td>0.937623</td>\n",
       "      <td>0.447634</td>\n",
       "    </tr>\n",
       "    <tr>\n",
       "      <th>min</th>\n",
       "      <td>29.000000</td>\n",
       "      <td>0.000000</td>\n",
       "      <td>0.000000</td>\n",
       "      <td>94.000000</td>\n",
       "      <td>126.000000</td>\n",
       "      <td>0.000000</td>\n",
       "      <td>0.000000</td>\n",
       "      <td>71.000000</td>\n",
       "      <td>0.000000</td>\n",
       "      <td>0.000000</td>\n",
       "      <td>1.000000</td>\n",
       "      <td>0.000000</td>\n",
       "      <td>0.000000</td>\n",
       "    </tr>\n",
       "    <tr>\n",
       "      <th>25%</th>\n",
       "      <td>48.000000</td>\n",
       "      <td>0.000000</td>\n",
       "      <td>3.000000</td>\n",
       "      <td>120.000000</td>\n",
       "      <td>211.000000</td>\n",
       "      <td>0.000000</td>\n",
       "      <td>0.000000</td>\n",
       "      <td>132.000000</td>\n",
       "      <td>0.000000</td>\n",
       "      <td>0.000000</td>\n",
       "      <td>1.000000</td>\n",
       "      <td>0.000000</td>\n",
       "      <td>0.000000</td>\n",
       "    </tr>\n",
       "    <tr>\n",
       "      <th>50%</th>\n",
       "      <td>56.000000</td>\n",
       "      <td>1.000000</td>\n",
       "      <td>3.000000</td>\n",
       "      <td>130.000000</td>\n",
       "      <td>242.000000</td>\n",
       "      <td>0.000000</td>\n",
       "      <td>1.000000</td>\n",
       "      <td>152.000000</td>\n",
       "      <td>0.000000</td>\n",
       "      <td>0.800000</td>\n",
       "      <td>2.000000</td>\n",
       "      <td>0.000000</td>\n",
       "      <td>0.000000</td>\n",
       "    </tr>\n",
       "    <tr>\n",
       "      <th>75%</th>\n",
       "      <td>61.000000</td>\n",
       "      <td>1.000000</td>\n",
       "      <td>4.000000</td>\n",
       "      <td>140.000000</td>\n",
       "      <td>275.000000</td>\n",
       "      <td>0.000000</td>\n",
       "      <td>2.000000</td>\n",
       "      <td>165.000000</td>\n",
       "      <td>1.000000</td>\n",
       "      <td>1.600000</td>\n",
       "      <td>2.000000</td>\n",
       "      <td>1.000000</td>\n",
       "      <td>1.000000</td>\n",
       "    </tr>\n",
       "    <tr>\n",
       "      <th>max</th>\n",
       "      <td>77.000000</td>\n",
       "      <td>1.000000</td>\n",
       "      <td>4.000000</td>\n",
       "      <td>200.000000</td>\n",
       "      <td>564.000000</td>\n",
       "      <td>1.000000</td>\n",
       "      <td>2.000000</td>\n",
       "      <td>202.000000</td>\n",
       "      <td>1.000000</td>\n",
       "      <td>6.200000</td>\n",
       "      <td>3.000000</td>\n",
       "      <td>3.000000</td>\n",
       "      <td>1.000000</td>\n",
       "    </tr>\n",
       "  </tbody>\n",
       "</table>\n",
       "</div>"
      ],
      "text/plain": [
       "              age         sex          cp    trestbps        chol         fbs  \\\n",
       "count  301.000000  301.000000  301.000000  301.000000  301.000000  301.000000   \n",
       "mean    54.571429    0.677741    3.126246  131.684385  246.817276    0.146179   \n",
       "std      9.041702    0.468120    1.008634   17.709415   52.186619    0.353874   \n",
       "min     29.000000    0.000000    0.000000   94.000000  126.000000    0.000000   \n",
       "25%     48.000000    0.000000    3.000000  120.000000  211.000000    0.000000   \n",
       "50%     56.000000    1.000000    3.000000  130.000000  242.000000    0.000000   \n",
       "75%     61.000000    1.000000    4.000000  140.000000  275.000000    0.000000   \n",
       "max     77.000000    1.000000    4.000000  200.000000  564.000000    1.000000   \n",
       "\n",
       "          restecg     thalach       exang     oldpeak       slope          ca  \\\n",
       "count  301.000000  301.000000  301.000000  301.000000  301.000000  301.000000   \n",
       "mean     0.996678  149.308970    0.328904    1.061462    1.594684    0.677741   \n",
       "std      0.988259   22.953015    0.470597    1.167295    0.617931    0.937623   \n",
       "min      0.000000   71.000000    0.000000    0.000000    1.000000    0.000000   \n",
       "25%      0.000000  132.000000    0.000000    0.000000    1.000000    0.000000   \n",
       "50%      1.000000  152.000000    0.000000    0.800000    2.000000    0.000000   \n",
       "75%      2.000000  165.000000    1.000000    1.600000    2.000000    1.000000   \n",
       "max      2.000000  202.000000    1.000000    6.200000    3.000000    3.000000   \n",
       "\n",
       "           target  \n",
       "count  301.000000  \n",
       "mean     0.275748  \n",
       "std      0.447634  \n",
       "min      0.000000  \n",
       "25%      0.000000  \n",
       "50%      0.000000  \n",
       "75%      1.000000  \n",
       "max      1.000000  "
      ]
     },
     "execution_count": 8,
     "metadata": {},
     "output_type": "execute_result"
    }
   ],
   "source": [
    "# Print descriptive statistics for all numerical attributes\n",
    "\n",
    "df_heart.describe()"
   ]
  },
  {
   "cell_type": "code",
   "execution_count": 9,
   "id": "24647665",
   "metadata": {},
   "outputs": [
    {
     "data": {
      "text/plain": [
       "target\n",
       "0    218\n",
       "1     83\n",
       "Name: count, dtype: int64"
      ]
     },
     "execution_count": 9,
     "metadata": {},
     "output_type": "execute_result"
    }
   ],
   "source": [
    "# Print distribution of target values\n",
    "\n",
    "df_heart[\"target\"].value_counts()"
   ]
  },
  {
   "cell_type": "markdown",
   "id": "4e46b106",
   "metadata": {},
   "source": [
    "## Data preparation\n",
    "\n",
    "### Dataset splitting"
   ]
  },
  {
   "cell_type": "code",
   "execution_count": 10,
   "id": "44a0c997",
   "metadata": {},
   "outputs": [
    {
     "name": "stdout",
     "output_type": "stream",
     "text": [
      "df_x: (301, 13). df_y: (301,)\n"
     ]
    }
   ],
   "source": [
    "# Separate inputs from targets\n",
    "\n",
    "# Target attribute is removed to create inputs\n",
    "df_x = df_heart.drop(\"target\", axis=1)\n",
    "\n",
    "# Targets are stored separately in a new variable\n",
    "df_y = df_heart[\"target\"]\n",
    "\n",
    "print(f\"df_x: {df_x.shape}. df_y: {df_y.shape}\")"
   ]
  },
  {
   "cell_type": "code",
   "execution_count": 11,
   "id": "f1abccfc",
   "metadata": {},
   "outputs": [
    {
     "name": "stdout",
     "output_type": "stream",
     "text": [
      "df_x_train: (240, 13). df_y_train: (240,)\n",
      "df_x_test: (61, 13). df_y_test: (61,)\n"
     ]
    }
   ],
   "source": [
    "# Split dataset between training and test sets\n",
    "# A unique call to train_test_split is mandatory to maintain inputs/target correspondance between samples\n",
    "df_x_train, df_x_test, df_y_train, df_y_test = train_test_split(\n",
    "    df_x, df_y, test_size=0.2\n",
    ")\n",
    "\n",
    "print(f\"df_x_train: {df_x_train.shape}. df_y_train: {df_y_train.shape}\")\n",
    "print(f\"df_x_test: {df_x_test.shape}. df_y_test: {df_y_test.shape}\")"
   ]
  },
  {
   "cell_type": "markdown",
   "id": "022873e3",
   "metadata": {},
   "source": [
    "### Data preprocessing"
   ]
  },
  {
   "cell_type": "code",
   "execution_count": 12,
   "id": "a0b74696",
   "metadata": {},
   "outputs": [
    {
     "name": "stdout",
     "output_type": "stream",
     "text": [
      "Index(['age', 'sex', 'cp', 'trestbps', 'chol', 'fbs', 'restecg', 'thalach',\n",
      "       'exang', 'oldpeak', 'slope', 'ca'],\n",
      "      dtype='object')\n",
      "Index(['thal'], dtype='object')\n"
     ]
    }
   ],
   "source": [
    "# Print numerical and categorical features\n",
    "\n",
    "num_features = df_x_train.select_dtypes(include=[np.number]).columns\n",
    "print(num_features)\n",
    "\n",
    "cat_features = df_x_train.select_dtypes(include=[object]).columns\n",
    "print(cat_features)"
   ]
  },
  {
   "cell_type": "code",
   "execution_count": 13,
   "id": "87d13655",
   "metadata": {},
   "outputs": [
    {
     "data": {
      "text/plain": [
       "thal\n",
       "normal        132\n",
       "reversible     93\n",
       "fixed          15\n",
       "Name: count, dtype: int64"
      ]
     },
     "execution_count": 13,
     "metadata": {},
     "output_type": "execute_result"
    }
   ],
   "source": [
    "# Print all values for the \"thal\" feature\n",
    "\n",
    "df_x_train[\"thal\"].value_counts()"
   ]
  },
  {
   "cell_type": "code",
   "execution_count": 14,
   "id": "674fd28c",
   "metadata": {},
   "outputs": [],
   "source": [
    "# Preprocess data to have similar scales and only numerical values\n",
    "\n",
    "# This pipeline handles missing values and standardizes features\n",
    "num_pipeline = Pipeline(\n",
    "    [\n",
    "        (\"std_scaler\", StandardScaler()),\n",
    "    ]\n",
    ")\n",
    "\n",
    "# This pipeline applies the previous one on numerical features\n",
    "# It also one-hot encodes the categorical features\n",
    "full_pipeline = ColumnTransformer(\n",
    "    [\n",
    "        (\"num\", num_pipeline, num_features),\n",
    "        (\"cat\", OneHotEncoder(), cat_features),\n",
    "    ]\n",
    ")"
   ]
  },
  {
   "cell_type": "code",
   "execution_count": 15,
   "id": "9f3fce2e",
   "metadata": {},
   "outputs": [
    {
     "name": "stdout",
     "output_type": "stream",
     "text": [
      "x_train: (240, 15)\n",
      "[ 0.5411361   0.67419986  0.87011738  1.85050721 -1.4034213   2.46146776\n",
      "  1.04285982 -2.53749256 -0.66115486 -0.06378538  0.64143815  1.45161576\n",
      "  1.          0.          0.        ]\n"
     ]
    }
   ],
   "source": [
    "# Apply all preprocessing operations to the training set through pipelines\n",
    "x_train = full_pipeline.fit_transform(df_x_train)\n",
    "\n",
    "# Transform the targets DataFrame into a plain tensor\n",
    "y_train = df_y_train.to_numpy()\n",
    "\n",
    "# Print preprocessed data shape and first sample\n",
    "# \"ocean_proximity\" attribute has 5 different values\n",
    "# To represent them, one-hot encoding has added 4 features to the dataset\n",
    "print(f\"x_train: {x_train.shape}\")\n",
    "print(x_train[0])\n",
    "\n",
    "# Data is now ready for model training :)"
   ]
  },
  {
   "cell_type": "markdown",
   "id": "bb3d639c",
   "metadata": {},
   "source": [
    "## Model training"
   ]
  },
  {
   "cell_type": "code",
   "execution_count": 16,
   "id": "6ca97f0c",
   "metadata": {},
   "outputs": [
    {
     "data": {
      "text/html": [
       "<style>#sk-container-id-1 {color: black;}#sk-container-id-1 pre{padding: 0;}#sk-container-id-1 div.sk-toggleable {background-color: white;}#sk-container-id-1 label.sk-toggleable__label {cursor: pointer;display: block;width: 100%;margin-bottom: 0;padding: 0.3em;box-sizing: border-box;text-align: center;}#sk-container-id-1 label.sk-toggleable__label-arrow:before {content: \"▸\";float: left;margin-right: 0.25em;color: #696969;}#sk-container-id-1 label.sk-toggleable__label-arrow:hover:before {color: black;}#sk-container-id-1 div.sk-estimator:hover label.sk-toggleable__label-arrow:before {color: black;}#sk-container-id-1 div.sk-toggleable__content {max-height: 0;max-width: 0;overflow: hidden;text-align: left;background-color: #f0f8ff;}#sk-container-id-1 div.sk-toggleable__content pre {margin: 0.2em;color: black;border-radius: 0.25em;background-color: #f0f8ff;}#sk-container-id-1 input.sk-toggleable__control:checked~div.sk-toggleable__content {max-height: 200px;max-width: 100%;overflow: auto;}#sk-container-id-1 input.sk-toggleable__control:checked~label.sk-toggleable__label-arrow:before {content: \"▾\";}#sk-container-id-1 div.sk-estimator input.sk-toggleable__control:checked~label.sk-toggleable__label {background-color: #d4ebff;}#sk-container-id-1 div.sk-label input.sk-toggleable__control:checked~label.sk-toggleable__label {background-color: #d4ebff;}#sk-container-id-1 input.sk-hidden--visually {border: 0;clip: rect(1px 1px 1px 1px);clip: rect(1px, 1px, 1px, 1px);height: 1px;margin: -1px;overflow: hidden;padding: 0;position: absolute;width: 1px;}#sk-container-id-1 div.sk-estimator {font-family: monospace;background-color: #f0f8ff;border: 1px dotted black;border-radius: 0.25em;box-sizing: border-box;margin-bottom: 0.5em;}#sk-container-id-1 div.sk-estimator:hover {background-color: #d4ebff;}#sk-container-id-1 div.sk-parallel-item::after {content: \"\";width: 100%;border-bottom: 1px solid gray;flex-grow: 1;}#sk-container-id-1 div.sk-label:hover label.sk-toggleable__label {background-color: #d4ebff;}#sk-container-id-1 div.sk-serial::before {content: \"\";position: absolute;border-left: 1px solid gray;box-sizing: border-box;top: 0;bottom: 0;left: 50%;z-index: 0;}#sk-container-id-1 div.sk-serial {display: flex;flex-direction: column;align-items: center;background-color: white;padding-right: 0.2em;padding-left: 0.2em;position: relative;}#sk-container-id-1 div.sk-item {position: relative;z-index: 1;}#sk-container-id-1 div.sk-parallel {display: flex;align-items: stretch;justify-content: center;background-color: white;position: relative;}#sk-container-id-1 div.sk-item::before, #sk-container-id-1 div.sk-parallel-item::before {content: \"\";position: absolute;border-left: 1px solid gray;box-sizing: border-box;top: 0;bottom: 0;left: 50%;z-index: -1;}#sk-container-id-1 div.sk-parallel-item {display: flex;flex-direction: column;z-index: 1;position: relative;background-color: white;}#sk-container-id-1 div.sk-parallel-item:first-child::after {align-self: flex-end;width: 50%;}#sk-container-id-1 div.sk-parallel-item:last-child::after {align-self: flex-start;width: 50%;}#sk-container-id-1 div.sk-parallel-item:only-child::after {width: 0;}#sk-container-id-1 div.sk-dashed-wrapped {border: 1px dashed gray;margin: 0 0.4em 0.5em 0.4em;box-sizing: border-box;padding-bottom: 0.4em;background-color: white;}#sk-container-id-1 div.sk-label label {font-family: monospace;font-weight: bold;display: inline-block;line-height: 1.2em;}#sk-container-id-1 div.sk-label-container {text-align: center;}#sk-container-id-1 div.sk-container {/* jupyter's `normalize.less` sets `[hidden] { display: none; }` but bootstrap.min.css set `[hidden] { display: none !important; }` so we also need the `!important` here to be able to override the default hidden behavior on the sphinx rendered scikit-learn.org. See: https://github.com/scikit-learn/scikit-learn/issues/21755 */display: inline-block !important;position: relative;}#sk-container-id-1 div.sk-text-repr-fallback {display: none;}</style><div id=\"sk-container-id-1\" class=\"sk-top-container\"><div class=\"sk-text-repr-fallback\"><pre>SGDClassifier(loss=&#x27;log_loss&#x27;)</pre><b>In a Jupyter environment, please rerun this cell to show the HTML representation or trust the notebook. <br />On GitHub, the HTML representation is unable to render, please try loading this page with nbviewer.org.</b></div><div class=\"sk-container\" hidden><div class=\"sk-item\"><div class=\"sk-estimator sk-toggleable\"><input class=\"sk-toggleable__control sk-hidden--visually\" id=\"sk-estimator-id-1\" type=\"checkbox\" checked><label for=\"sk-estimator-id-1\" class=\"sk-toggleable__label sk-toggleable__label-arrow\">SGDClassifier</label><div class=\"sk-toggleable__content\"><pre>SGDClassifier(loss=&#x27;log_loss&#x27;)</pre></div></div></div></div></div>"
      ],
      "text/plain": [
       "SGDClassifier(loss='log_loss')"
      ]
     },
     "execution_count": 16,
     "metadata": {},
     "output_type": "execute_result"
    }
   ],
   "source": [
    "# Fit a SGD classifier to the training set\n",
    "\n",
    "sgd_model = SGDClassifier(loss=\"log_loss\")\n",
    "sgd_model.fit(x_train, y_train)"
   ]
  },
  {
   "cell_type": "markdown",
   "id": "3f1ba50f",
   "metadata": {},
   "source": [
    "## Model evaluation"
   ]
  },
  {
   "cell_type": "markdown",
   "id": "bd6b0bd2",
   "metadata": {},
   "source": [
    "### Cross-validation accuracy"
   ]
  },
  {
   "cell_type": "code",
   "execution_count": 17,
   "id": "8460c23d",
   "metadata": {
    "lines_to_next_cell": 2
   },
   "outputs": [
    {
     "name": "stdout",
     "output_type": "stream",
     "text": [
      "CV accuracy: [0.85   0.85   0.8875]\n"
     ]
    }
   ],
   "source": [
    "# Use cross-validation to evaluate accuracy, using 3 folds\n",
    "\n",
    "cv_acc = cross_val_score(sgd_model, x_train, y_train, cv=3, scoring=\"accuracy\")\n",
    "\n",
    "print(f\"CV accuracy: {cv_acc}\")"
   ]
  },
  {
   "cell_type": "markdown",
   "id": "4c4d2b77",
   "metadata": {
    "lines_to_next_cell": 2
   },
   "source": [
    "### Confusion matrix"
   ]
  },
  {
   "cell_type": "code",
   "execution_count": 18,
   "id": "9bed02c0",
   "metadata": {},
   "outputs": [],
   "source": [
    "def plot_conf_mat(model, x, y):\n",
    "    \"\"\"Plot the confusion matrix for a model, inputs and targets\"\"\"\n",
    "\n",
    "    with sns.axes_style(\"white\"):  # Temporary hide Seaborn grid lines\n",
    "        _ = ConfusionMatrixDisplay.from_estimator(\n",
    "            model, x, y, values_format=\"d\", cmap=plt.colormaps.get_cmap(\"Blues\")\n",
    "        )"
   ]
  },
  {
   "cell_type": "code",
   "execution_count": 19,
   "id": "193f1d05",
   "metadata": {},
   "outputs": [
    {
     "data": {
      "image/png": "[encoded data removed]",
      "text/plain": [
       "<Figure size 640x480 with 2 Axes>"
      ]
     },
     "metadata": {
      "image/png": {
       "height": 438,
       "width": 514
      }
     },
     "output_type": "display_data"
    }
   ],
   "source": [
    "# Plot confusion matrix for the SGD classifier\n",
    "\n",
    "plot_conf_mat(sgd_model, x_train, y_train)"
   ]
  },
  {
   "cell_type": "markdown",
   "id": "6b0b93ef",
   "metadata": {},
   "source": [
    "### Precision, recall and ROC curve"
   ]
  },
  {
   "cell_type": "code",
   "execution_count": 20,
   "id": "ec27a8ca",
   "metadata": {},
   "outputs": [
    {
     "name": "stdout",
     "output_type": "stream",
     "text": [
      "              precision    recall  f1-score   support\n",
      "\n",
      "           0       0.89      0.91      0.90       173\n",
      "           1       0.75      0.70      0.72        67\n",
      "\n",
      "    accuracy                           0.85       240\n",
      "   macro avg       0.82      0.80      0.81       240\n",
      "weighted avg       0.85      0.85      0.85       240\n",
      "\n"
     ]
    }
   ],
   "source": [
    "# Compute precision, recall and f1-score for the SGD classifier\n",
    "\n",
    "print(classification_report(y_train, sgd_model.predict(x_train)))"
   ]
  },
  {
   "cell_type": "code",
   "execution_count": 21,
   "id": "541784c1",
   "metadata": {},
   "outputs": [
    {
     "data": {
      "image/png": "[encoded data removed]",
      "text/plain": [
       "<Figure size 640x480 with 1 Axes>"
      ]
     },
     "metadata": {
      "image/png": {
       "height": 438,
       "width": 571
      }
     },
     "output_type": "display_data"
    }
   ],
   "source": [
    "# Plot ROC curve for the SGD classifier\n",
    "\n",
    "sgd_disp = RocCurveDisplay.from_estimator(sgd_model, x_train, y_train)\n",
    "plt.show()"
   ]
  },
  {
   "cell_type": "markdown",
   "id": "6bd573ce",
   "metadata": {},
   "source": [
    "## Performance assessment\n",
    "\n",
    "### Computing metrics on test data"
   ]
  },
  {
   "cell_type": "code",
   "execution_count": 22,
   "id": "60f3c5e7",
   "metadata": {},
   "outputs": [
    {
     "name": "stdout",
     "output_type": "stream",
     "text": [
      "x_test: (240, 15). y_test: (61,)\n"
     ]
    }
   ],
   "source": [
    "# Apply preprocessing operations to test inputs\n",
    "# Calling transform() and not fit_transform() uses preprocessing values computed on training set\n",
    "x_test = full_pipeline.transform(df_x_test)\n",
    "\n",
    "# Transform the targets DataFrame into a plain tensor\n",
    "y_test = df_y_test.to_numpy()\n",
    "\n",
    "print(f\"x_test: {x_train.shape}. y_test: {y_test.shape}\")"
   ]
  },
  {
   "cell_type": "code",
   "execution_count": 23,
   "id": "87b383c9",
   "metadata": {},
   "outputs": [
    {
     "name": "stdout",
     "output_type": "stream",
     "text": [
      "              precision    recall  f1-score   support\n",
      "\n",
      "           0       0.83      0.87      0.85        45\n",
      "           1       0.57      0.50      0.53        16\n",
      "\n",
      "    accuracy                           0.77        61\n",
      "   macro avg       0.70      0.68      0.69        61\n",
      "weighted avg       0.76      0.77      0.77        61\n",
      "\n"
     ]
    }
   ],
   "source": [
    "# Compute precision, recall and f1-score for the SGD classifier\n",
    "\n",
    "print(classification_report(y_test, sgd_model.predict(x_test)))"
   ]
  },
  {
   "cell_type": "markdown",
   "id": "e94bf581",
   "metadata": {},
   "source": [
    "### Results interpretation\n",
    "\n",
    "Since the dataset is skewed (less positive than negative targets), accuracy is not sufficient to assess model performance.\n",
    "\n",
    "Results might vary quite a lot from training to training. This is probably due to the small number of samples and the stochastic nature of gradient descent.\n",
    "\n",
    "Generally speaking, the model does fairly well but the recall for true targets (patients with heart disease) might not be very good. Since this is the most important metric here (false negative could turn deadly), caution should be exercised before putting the trained classifier into production.\n",
    "\n",
    "In any case, further tests should be run to evaluate other model architectures (decision trees, artificial neural networks, etc) on this task."
   ]
  },
  {
   "cell_type": "code",
   "execution_count": null,
   "id": "bada1bd0",
   "metadata": {},
   "outputs": [],
   "source": []
  }
 ],
 "metadata": {
  "kernelspec": {
   "display_name": "Python 3 (ipykernel)",
   "language": "python",
   "name": "python3"
  },
  "language_info": {
   "codemirror_mode": {
    "name": "ipython",
    "version": 3
   },
   "file_extension": ".py",
   "mimetype": "text/x-python",
   "name": "python",
   "nbconvert_exporter": "python",
   "pygments_lexer": "ipython3",
   "version": "3.11.1"
  }
 },
 "nbformat": 4,
 "nbformat_minor": 5
}
