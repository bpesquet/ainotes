{
 "cells": [
  {
   "cell_type": "markdown",
   "id": "b7118f75",
   "metadata": {
    "slideshow": {
     "slide_type": "slide"
    }
   },
   "source": [
    "# Convolutional Neural Networks"
   ]
  },
  {
   "cell_type": "markdown",
   "id": "e9d890b6",
   "metadata": {
    "slideshow": {
     "slide_type": "slide"
    }
   },
   "source": [
    "## Environment setup"
   ]
  },
  {
   "cell_type": "code",
   "execution_count": 19,
   "id": "46505efd",
   "metadata": {},
   "outputs": [],
   "source": [
    "import platform\n",
    "from IPython.display import YouTubeVideo\n",
    "\n",
    "import numpy as np\n",
    "import matplotlib.pyplot as plt\n",
    "import seaborn as sns\n",
    "\n",
    "import torch\n",
    "from torch import nn, optim\n",
    "from torch.utils.data import DataLoader\n",
    "from torchvision import datasets\n",
    "from torchvision.transforms import ToTensor"
   ]
  },
  {
   "cell_type": "code",
   "execution_count": 20,
   "id": "732d56f3",
   "metadata": {
    "slideshow": {
     "slide_type": "slide"
    }
   },
   "outputs": [],
   "source": [
    "# Setup plots\n",
    "\n",
    "# Include matplotlib graphs into the notebook, next to the code\n",
    "# https://stackoverflow.com/a/43028034/2380880\n",
    "%matplotlib inline\n",
    "\n",
    "# Improve plot quality\n",
    "%config InlineBackend.figure_format = \"retina\"\n",
    "\n",
    "# Setup seaborn default theme\n",
    "# http://seaborn.pydata.org/generated/seaborn.set_theme.html#seaborn.set_theme\n",
    "sns.set_theme()"
   ]
  },
  {
   "cell_type": "code",
   "execution_count": 21,
   "id": "08cf343c",
   "metadata": {
    "slideshow": {
     "slide_type": "skip"
    }
   },
   "outputs": [],
   "source": [
    "# Utility functions\n",
    "\n",
    "\n",
    "def plot_loss_acc(history):\n",
    "    \"\"\"Plot training loss and accuracy. Takes a Keras-like History object as parameter\"\"\"\n",
    "\n",
    "    loss_values = history[\"loss\"]\n",
    "    recorded_epochs = range(1, len(loss_values) + 1)\n",
    "\n",
    "    fig, (ax1, ax2) = plt.subplots(2, 1)\n",
    "    ax1.plot(recorded_epochs, loss_values, \".--\", label=\"Training loss\")\n",
    "    ax1.set_ylabel(\"Loss\")\n",
    "    ax1.legend()\n",
    "\n",
    "    acc_values = history[\"acc\"]\n",
    "    ax2.plot(recorded_epochs, acc_values, \".--\", label=\"Training accuracy\")\n",
    "    ax2.set_xlabel(\"Epochs\")\n",
    "    ax2.set_ylabel(\"Accuracy\")\n",
    "    plt.legend()\n",
    "\n",
    "    final_loss = loss_values[-1]\n",
    "    final_acc = acc_values[-1]\n",
    "    fig.suptitle(\n",
    "        f\"Training loss: {final_loss:.5f}. Training accuracy: {final_acc*100:.2f}%\"\n",
    "    )\n",
    "    plt.show()\n",
    "\n",
    "\n",
    "def count_parameters(model, trainable=True):\n",
    "    \"\"\"Return the total number of (trainable) parameters for a model\"\"\"\n",
    "\n",
    "    return (\n",
    "        sum(p.numel() for p in model.parameters() if p.requires_grad)\n",
    "        if trainable\n",
    "        else sum(p.numel() for p in model.parameters())\n",
    "    )\n",
    "\n",
    "\n",
    "def plot_fashion_images(data, labels):\n",
    "    \"\"\"Plot some images with their associated labels\"\"\"\n",
    "\n",
    "    figure = plt.figure(figsize=(10, 5))\n",
    "    cols, rows = 5, 2\n",
    "    for i in range(1, cols * rows + 1):\n",
    "        sample_idx = torch.randint(len(data), size=(1,)).item()\n",
    "        img, label = data[sample_idx]\n",
    "        figure.add_subplot(rows, cols, i)\n",
    "        plt.title(labels[label])\n",
    "        plt.axis(\"off\")\n",
    "        plt.imshow(img.squeeze(), cmap=\"gray\")\n",
    "    plt.show()"
   ]
  },
  {
   "cell_type": "code",
   "execution_count": 22,
   "id": "a51595f5",
   "metadata": {
    "slideshow": {
     "slide_type": "slide"
    }
   },
   "outputs": [
    {
     "name": "stdout",
     "output_type": "stream",
     "text": [
      "Python version: 3.11.1\n",
      "NumPy version: 1.26.3\n",
      "PyTorch version: 2.0.1\n",
      "Metal GPU found :)\n"
     ]
    }
   ],
   "source": [
    "# Print environment info\n",
    "print(f\"Python version: {platform.python_version()}\")\n",
    "print(f\"NumPy version: {np.__version__}\")\n",
    "print(f\"PyTorch version: {torch.__version__}\")\n",
    "\n",
    "\n",
    "# PyTorch device configuration\n",
    "if torch.cuda.is_available():\n",
    "    device = torch.device(\"cuda\")\n",
    "    print(f\"CUDA GPU {torch.cuda.get_device_name(0)} found :)\")\n",
    "# Performance issues exist with MPS backend\n",
    "elif torch.backends.mps.is_available():\n",
    "    device = torch.device(\"mps\")\n",
    "    print(\"Metal GPU found :)\")\n",
    "else:\n",
    "    device = torch.device(\"cpu\")\n",
    "    print(\"No GPU found, using CPU instead\")"
   ]
  },
  {
   "cell_type": "markdown",
   "id": "4d8b2603",
   "metadata": {
    "slideshow": {
     "slide_type": "slide"
    }
   },
   "source": [
    "## Architecture"
   ]
  },
  {
   "cell_type": "markdown",
   "id": "6f452221",
   "metadata": {
    "slideshow": {
     "slide_type": "slide"
    }
   },
   "source": [
    "### Justification\n",
    "\n",
    "The visual world has the following properties:\n",
    "\n",
    "- Translation invariance.\n",
    "- Locality: nearby pixels are more strongly correlated\n",
    "- Spatial hierarchy: complex and abstract concepts are composed from simple, local elements.\n",
    "\n",
    "Classical models are not designed to detect local patterns in images.\n",
    "\n",
    "[![Visual world](_images/visual_world.png)](https://youtu.be/shVKhOmT0HE)"
   ]
  },
  {
   "cell_type": "markdown",
   "id": "501d6889",
   "metadata": {
    "slideshow": {
     "slide_type": "slide"
    }
   },
   "source": [
    "### Topological structure of objects\n",
    "\n",
    "[![Topological structure](_images/topological_structure.png)](https://youtu.be/shVKhOmT0HE)\n",
    "\n",
    "[![From edges to objects](_images/edges_to_objects.png)](https://youtu.be/shVKhOmT0HE)"
   ]
  },
  {
   "cell_type": "markdown",
   "id": "71adabff",
   "metadata": {
    "slideshow": {
     "slide_type": "slide"
    }
   },
   "source": [
    "### General CNN design\n",
    "\n",
    "[![General CNN architecture](_images/cnn_architecture.png)](https://developers.google.com/machine-learning/practica/image-classification/convolutional-neural-networks)"
   ]
  },
  {
   "cell_type": "markdown",
   "id": "7fd9f7c4",
   "metadata": {
    "slideshow": {
     "slide_type": "slide"
    }
   },
   "source": [
    "### The convolution operation\n",
    "\n",
    "Apply a **kernel** to data. Result is called a **feature map**.\n",
    "\n",
    "[![Convolution with a 3x3 filter of depth 1 applied on 5x5 data](_images/convolution_overview.gif)](https://developers.google.com/machine-learning/practica/image-classification/convolutional-neural-networks)"
   ]
  },
  {
   "cell_type": "markdown",
   "id": "e6b2a30c",
   "metadata": {
    "slideshow": {
     "slide_type": "slide"
    }
   },
   "source": [
    "![Convolution example](_images/convolution_example.jpeg)"
   ]
  },
  {
   "cell_type": "markdown",
   "id": "78f25546",
   "metadata": {
    "slideshow": {
     "slide_type": "slide"
    }
   },
   "source": [
    "### Convolution parameters\n",
    "\n",
    "- **Filter dimensions**: 2D for images.\n",
    "- **Filter size**: generally 3x3 or 5x5.\n",
    "- **Number of filters**: determine the number of feature maps created by the convolution operation.\n",
    "- **Stride**: step for sliding the convolution window. Generally equal to 1.\n",
    "- **Padding**: blank rows/columns with all-zero values added on sides of the input feature map."
   ]
  },
  {
   "cell_type": "markdown",
   "id": "bea9a540",
   "metadata": {
    "slideshow": {
     "slide_type": "slide"
    }
   },
   "source": [
    "### Preserving output dimensions with padding\n",
    "\n",
    "[![Preserving output dimensions with padding](_images/2d_convol.gif)](https://towardsdatascience.com/types-of-convolutions-in-deep-learning-717013397f4d)"
   ]
  },
  {
   "cell_type": "markdown",
   "id": "0dd61b4b",
   "metadata": {
    "slideshow": {
     "slide_type": "slide"
    }
   },
   "source": [
    "#### Valid padding\n",
    "\n",
    "Output size = input size - kernel size + 1\n",
    "\n",
    "[![Valid padding](_images/padding_valid.png)](https://youtu.be/shVKhOmT0HE)"
   ]
  },
  {
   "cell_type": "markdown",
   "id": "c9c498bb",
   "metadata": {
    "slideshow": {
     "slide_type": "slide"
    }
   },
   "source": [
    "#### Full padding\n",
    "\n",
    "Output size = input size + kernel size - 1\n",
    "\n",
    "[![Valid padding](_images/padding_full.png)](https://youtu.be/shVKhOmT0HE)"
   ]
  },
  {
   "cell_type": "markdown",
   "id": "039d6429",
   "metadata": {
    "slideshow": {
     "slide_type": "slide"
    }
   },
   "source": [
    "#### Same padding\n",
    "\n",
    "Output size = input size\n",
    "\n",
    "[![Valid padding](_images/padding_same.png)](https://youtu.be/shVKhOmT0HE)"
   ]
  },
  {
   "cell_type": "markdown",
   "id": "6bcb5de3",
   "metadata": {
    "slideshow": {
     "slide_type": "slide"
    }
   },
   "source": [
    "### Convolutions inputs and outputs\n",
    "\n",
    "[![Convolution inputs and outputs](_images/conv_inputs_outputs.png)](https://youtu.be/shVKhOmT0HE)"
   ]
  },
  {
   "cell_type": "markdown",
   "id": "136cc357",
   "metadata": {
    "slideshow": {
     "slide_type": "slide"
    }
   },
   "source": [
    "### 2D convolutions on 3D tensors\n",
    "\n",
    "- Convolution input data is 3-dimensional: images with height, width and color channels, or features maps produced by previous layers.\n",
    "- Each convolution filter is a collection of *kernels* with distinct weights, one for every input channel.\n",
    "- At each location, every input channel is convolved with the corresponding kernel. The results are summed to compute the (scalar) filter output for the location.\n",
    "- Sliding one filter over the input data produces a 2D output feature map.\n",
    "\n",
    "[![2D convolution on a 32x32x3 image with 10 filters](_images/conv_image.png)](https://towardsdatascience.com/applied-deep-learning-part-4-convolutional-neural-networks-584bc134c1e2)"
   ]
  },
  {
   "cell_type": "markdown",
   "id": "3c3a342c",
   "metadata": {
    "slideshow": {
     "slide_type": "slide"
    }
   },
   "source": [
    "[![2D convolution over RGB image](_images/2D_conv_over_rgb_image.png)](https://stackoverflow.com/a/44628011/2380880)"
   ]
  },
  {
   "cell_type": "markdown",
   "id": "7430568b",
   "metadata": {
    "slideshow": {
     "slide_type": "slide"
    }
   },
   "source": [
    "### Activation function\n",
    "\n",
    "- Applied to the (scalar) convolution result.\n",
    "- Introduces non-linearity in the model.\n",
    "- Standard choice: ReLU."
   ]
  },
  {
   "cell_type": "markdown",
   "id": "0866631f",
   "metadata": {
    "slideshow": {
     "slide_type": "slide"
    }
   },
   "source": [
    "### The pooling operation\n",
    "\n",
    "- Reduces the dimensionality of feature maps.\n",
    "- Often done by selecting maximum values (*max pooling*).\n",
    "\n",
    "[![Max pooling with 2x2 filter and stride of 2](_images/maxpool_animation.gif)](https://developers.google.com/machine-learning/practica/image-classification/convolutional-neural-networks)"
   ]
  },
  {
   "cell_type": "markdown",
   "id": "1cf10ba1",
   "metadata": {
    "slideshow": {
     "slide_type": "slide"
    }
   },
   "source": [
    "#### Pooling result\n",
    "\n",
    "[![Pooling result](_images/pooling_result.png)](https://youtu.be/shVKhOmT0HE)"
   ]
  },
  {
   "cell_type": "markdown",
   "id": "626c4e42",
   "metadata": {
    "slideshow": {
     "slide_type": "slide"
    }
   },
   "source": [
    "#### Pooling output\n",
    "\n",
    "[![Pooling with a 2x2 filter and stride of 2 on 10 32x32 feature maps](_images/maxpooling_image.png)](https://towardsdatascience.com/applied-deep-learning-part-4-convolutional-neural-networks-584bc134c1e2)"
   ]
  },
  {
   "cell_type": "markdown",
   "id": "5c7cb73a",
   "metadata": {
    "slideshow": {
     "slide_type": "slide"
    }
   },
   "source": [
    "### Training process\n",
    "\n",
    "Same principle as a dense neural network: **backpropagation** + **gradient descent**.\n",
    "\n",
    "[Backpropagation In Convolutional Neural Networks](https://www.jefkine.com/general/2016/09/05/backpropagation-in-convolutional-neural-networks/)\n"
   ]
  },
  {
   "cell_type": "markdown",
   "id": "8df402d2",
   "metadata": {
    "slideshow": {
     "slide_type": "slide"
    }
   },
   "source": [
    "### Interpretation\n",
    "\n",
    "- Convolution layers act as **feature extractors**.\n",
    "- Dense layers use the extracted features to classify data.\n",
    "\n",
    "![A convnet](_images/convnet.jpeg)"
   ]
  },
  {
   "cell_type": "markdown",
   "id": "f93bd068",
   "metadata": {
    "slideshow": {
     "slide_type": "slide"
    }
   },
   "source": [
    "[![Feature extraction with a CNN](_images/representation_learning.png)](https://harishnarayanan.org/writing/artistic-style-transfer/)"
   ]
  },
  {
   "cell_type": "markdown",
   "id": "9dfd98b0",
   "metadata": {
    "slideshow": {
     "slide_type": "slide"
    }
   },
   "source": [
    "[![Visualizing convnet layers on MNIST](_images/keras_js_layers.png)](https://transcranial.github.io/keras-js/#/mnist-cnn)"
   ]
  },
  {
   "cell_type": "markdown",
   "id": "fde15828",
   "metadata": {
    "slideshow": {
     "slide_type": "slide"
    }
   },
   "source": [
    "## History"
   ]
  },
  {
   "cell_type": "markdown",
   "id": "aae10fe0",
   "metadata": {
    "slideshow": {
     "slide_type": "slide"
    }
   },
   "source": [
    "### Humble beginnings: LeNet5 (1988)\n",
    "\n",
    "![LeNet5](_images/lenet5.jpg)"
   ]
  },
  {
   "cell_type": "code",
   "execution_count": 23,
   "id": "926063be",
   "metadata": {
    "slideshow": {
     "slide_type": "slide"
    }
   },
   "outputs": [
    {
     "data": {
      "image/jpeg": "[encoded data removed]",
      "text/html": [
       "\n",
       "        <iframe\n",
       "            width=\"400\"\n",
       "            height=\"300\"\n",
       "            src=\"https://www.youtube.com/embed/FwFduRA_L6Q\"\n",
       "            frameborder=\"0\"\n",
       "            allowfullscreen\n",
       "            \n",
       "        ></iframe>\n",
       "        "
      ],
      "text/plain": [
       "<IPython.lib.display.YouTubeVideo at 0x16ca2b7d0>"
      ]
     },
     "execution_count": 23,
     "metadata": {},
     "output_type": "execute_result"
    }
   ],
   "source": [
    "YouTubeVideo(\"FwFduRA_L6Q\")"
   ]
  },
  {
   "cell_type": "markdown",
   "id": "ecf35ded",
   "metadata": {
    "slideshow": {
     "slide_type": "slide"
    }
   },
   "source": [
    "### The breakthrough: ILSVRC\n",
    "\n",
    "- [_ImageNet Large Scale Visual Recognition Challenge_](http://image-net.org/challenges/LSVRC/)\n",
    "- Worldwide image classification challenge based on the [ImageNet](http://www.image-net.org/) dataset.\n",
    "\n",
    "![ILSVRC results](_images/ILSVRC_results.jpg)"
   ]
  },
  {
   "cell_type": "markdown",
   "id": "26e5a8e6",
   "metadata": {
    "slideshow": {
     "slide_type": "slide"
    }
   },
   "source": [
    "### AlexNet (2012)\n",
    "\n",
    "Trained on 2 GPU for 5 to 6 days.\n",
    "\n",
    "![AlexNet](_images/alexnet2.png)"
   ]
  },
  {
   "cell_type": "markdown",
   "id": "8f115a55",
   "metadata": {
    "slideshow": {
     "slide_type": "slide"
    }
   },
   "source": [
    "### VGG (2014)\n",
    "\n",
    "![VGG16](_images/vgg16.png)"
   ]
  },
  {
   "cell_type": "markdown",
   "id": "26ec7228",
   "metadata": {
    "slideshow": {
     "slide_type": "slide"
    }
   },
   "source": [
    "### GoogLeNet/Inception (2014)\n",
    "\n",
    "- 9 Inception modules, more than 100 layers.\n",
    "- Trained on several GPU for about a week.\n",
    "\n",
    "![Inception](_images/google_inception.jpg)"
   ]
  },
  {
   "cell_type": "markdown",
   "id": "86b2a426",
   "metadata": {
    "slideshow": {
     "slide_type": "slide"
    }
   },
   "source": [
    "### Microsoft ResNet (2015)\n",
    "\n",
    "- 152 layers, trained on 8 GPU for 2 to 3 weeks.\n",
    "- Smaller error rate than a average human.\n",
    "\n",
    "![ResNet](_images/resnet_archi.png)"
   ]
  },
  {
   "cell_type": "markdown",
   "id": "6cd00b51",
   "metadata": {
    "slideshow": {
     "slide_type": "slide"
    }
   },
   "source": [
    "![Deeper model](_images/deeper_model.jpg)"
   ]
  },
  {
   "cell_type": "markdown",
   "id": "ea13ecf8",
   "metadata": {
    "slideshow": {
     "slide_type": "slide"
    }
   },
   "source": [
    "### Depth: challenges and solutions\n",
    "\n",
    "- Challenges\n",
    "  - Computational complexity\n",
    "  - Optimization difficulties\n",
    "\n",
    "- Solutions\n",
    "  - Careful initialization\n",
    "  - Sophisticated optimizers\n",
    "  - Normalisation layers\n",
    "  - Network design"
   ]
  },
  {
   "cell_type": "markdown",
   "id": "052767f5",
   "metadata": {
    "slideshow": {
     "slide_type": "slide"
    }
   },
   "source": [
    "## Multiclass classification example"
   ]
  },
  {
   "cell_type": "markdown",
   "id": "fcaa23df",
   "metadata": {
    "slideshow": {
     "slide_type": "slide"
    }
   },
   "source": [
    "### Data loading and visualization\n",
    "\n",
    "The [Fashion-MNIST](https://github.com/zalandoresearch/fashion-mnist) dataset contains 70,000 28x28 grayscale images of fashion items.\n",
    "\n",
    "It is slightly more challenging than the ubiquitous MNIST handwritten digits dataset.\n"
   ]
  },
  {
   "cell_type": "code",
   "execution_count": 24,
   "id": "143b3e79",
   "metadata": {},
   "outputs": [],
   "source": [
    "fashion_train_data = datasets.FashionMNIST(\n",
    "    root=\"data\", train=True, download=True, transform=ToTensor()\n",
    ")\n",
    "\n",
    "fashion_test_data = datasets.FashionMNIST(\n",
    "    root=\"data\", train=False, download=True, transform=ToTensor()\n",
    ")"
   ]
  },
  {
   "cell_type": "code",
   "execution_count": 25,
   "id": "47840f9f",
   "metadata": {
    "slideshow": {
     "slide_type": "slide"
    }
   },
   "outputs": [],
   "source": [
    "# Labels, i.e. fashion categories associated to images (one category per image)\n",
    "fashion_labels = {\n",
    "    0: \"T-Shirt\",\n",
    "    1: \"Trouser\",\n",
    "    2: \"Pullover\",\n",
    "    3: \"Dress\",\n",
    "    4: \"Coat\",\n",
    "    5: \"Sandal\",\n",
    "    6: \"Shirt\",\n",
    "    7: \"Sneaker\",\n",
    "    8: \"Bag\",\n",
    "    9: \"Ankle Boot\",\n",
    "}"
   ]
  },
  {
   "cell_type": "code",
   "execution_count": 26,
   "id": "4c990fe3",
   "metadata": {
    "slideshow": {
     "slide_type": "-"
    }
   },
   "outputs": [
    {
     "data": {
      "image/png": "[encoded data removed]",
      "text/plain": [
       "<Figure size 1000x500 with 10 Axes>"
      ]
     },
     "metadata": {
      "image/png": {
       "height": 383,
       "width": 795
      }
     },
     "output_type": "display_data"
    }
   ],
   "source": [
    "plot_fashion_images(fashion_train_data, fashion_labels)"
   ]
  },
  {
   "cell_type": "markdown",
   "id": "3c50941c",
   "metadata": {
    "slideshow": {
     "slide_type": "slide"
    }
   },
   "source": [
    "### Hyperparameters"
   ]
  },
  {
   "cell_type": "code",
   "execution_count": 27,
   "id": "a9342de6",
   "metadata": {},
   "outputs": [],
   "source": [
    "learning_rate = 1e-3\n",
    "n_epochs = 10\n",
    "batch_size = 64"
   ]
  },
  {
   "cell_type": "markdown",
   "id": "10eed209",
   "metadata": {
    "slideshow": {
     "slide_type": "slide"
    }
   },
   "source": [
    "### Data preparation"
   ]
  },
  {
   "cell_type": "code",
   "execution_count": 28,
   "id": "0dee7f9a",
   "metadata": {
    "lines_to_next_cell": 2
   },
   "outputs": [],
   "source": [
    "fashion_train_dataloader = DataLoader(fashion_train_data, batch_size=batch_size)\n",
    "fashion_test_dataloader = DataLoader(fashion_test_data, batch_size=batch_size)"
   ]
  },
  {
   "cell_type": "markdown",
   "id": "80303f26",
   "metadata": {
    "slideshow": {
     "slide_type": "slide"
    }
   },
   "source": [
    "### Model definition\n",
    "\n",
    "#### Expected architecture\n",
    "\n",
    "![Example CNN architecture](_images/example_cnn_architecture.png)"
   ]
  },
  {
   "cell_type": "markdown",
   "id": "bac37ba3",
   "metadata": {
    "lines_to_next_cell": 2,
    "slideshow": {
     "slide_type": "slide"
    }
   },
   "source": [
    "#### Model class\n",
    "\n",
    "Our model leverages the following PyTorch classes:\n",
    "\n",
    "- [Sequential](https://pytorch.org/docs/stable/generated/torch.nn.Sequential.html): an ordered container of modules.\n",
    "- [Conv2d](https://pytorch.org/docs/stable/generated/torch.nn.Conv2d.html): for 2D convolutions.\n",
    "- [ReLU](https://pytorch.org/docs/stable/generated/torch.nn.ReLU.html): the corresponding activation function.\n",
    "- [MaxPool2d](https://pytorch.org/docs/stable/generated/torch.nn.MaxPool2d.html): to apply max pooling.\n",
    "- [Flatten](https://pytorch.org/docs/stable/generated/torch.nn.Flatten.html): to flatten the extracted features into a vector.\n",
    "- [Linear](https://pytorch.org/docs/stable/generated/torch.nn.Linear.html): fully connected layer used for final classification."
   ]
  },
  {
   "cell_type": "code",
   "execution_count": 29,
   "id": "f1b535c1",
   "metadata": {
    "slideshow": {
     "slide_type": "slide"
    }
   },
   "outputs": [],
   "source": [
    "class Convnet(nn.Module):\n",
    "    \"\"\"Convnet for fashion articles classification\"\"\"\n",
    "\n",
    "    def __init__(self):\n",
    "        super().__init__()\n",
    "\n",
    "        # Define a sequential stack\n",
    "        self.layer_stack = nn.Sequential(\n",
    "            # Feature extraction with convolutional and pooling layers\n",
    "            nn.Conv2d(in_channels=1, out_channels=32, kernel_size=3),\n",
    "            nn.ReLU(),\n",
    "            nn.MaxPool2d(kernel_size=2),\n",
    "            nn.Conv2d(in_channels=32, out_channels=64, kernel_size=3),\n",
    "            nn.ReLU(),\n",
    "            nn.MaxPool2d(kernel_size=2),\n",
    "            # Classification with fully connected layers\n",
    "            nn.Flatten(),\n",
    "            nn.Linear(1600, 128),\n",
    "            nn.ReLU(),\n",
    "            nn.Linear(128, 10),\n",
    "        )\n",
    "\n",
    "    def forward(self, x):\n",
    "        \"\"\"Define the forward pass of the model\"\"\"\n",
    "\n",
    "        # Compute output of layer stack\n",
    "        logits = self.layer_stack(x)\n",
    "\n",
    "        # Logits are a vector of raw (non-normalized) predictions\n",
    "        # This vector contains 10 values, one for each possible class\n",
    "        return logits"
   ]
  },
  {
   "cell_type": "code",
   "execution_count": 30,
   "id": "57c6faac",
   "metadata": {
    "lines_to_next_cell": 2,
    "slideshow": {
     "slide_type": "slide"
    }
   },
   "outputs": [
    {
     "name": "stdout",
     "output_type": "stream",
     "text": [
      "Convnet(\n",
      "  (layer_stack): Sequential(\n",
      "    (0): Conv2d(1, 32, kernel_size=(3, 3), stride=(1, 1))\n",
      "    (1): ReLU()\n",
      "    (2): MaxPool2d(kernel_size=2, stride=2, padding=0, dilation=1, ceil_mode=False)\n",
      "    (3): Conv2d(32, 64, kernel_size=(3, 3), stride=(1, 1))\n",
      "    (4): ReLU()\n",
      "    (5): MaxPool2d(kernel_size=2, stride=2, padding=0, dilation=1, ceil_mode=False)\n",
      "    (6): Flatten(start_dim=1, end_dim=-1)\n",
      "    (7): Linear(in_features=1600, out_features=128, bias=True)\n",
      "    (8): ReLU()\n",
      "    (9): Linear(in_features=128, out_features=10, bias=True)\n",
      "  )\n",
      ")\n",
      "Number of trainable parameters: 225034\n"
     ]
    }
   ],
   "source": [
    "fashion_convnet = Convnet().to(device)\n",
    "print(fashion_convnet)\n",
    "\n",
    "# Try to guess the total number of parameters for this model before running this code!\n",
    "print(f\"Number of trainable parameters: {count_parameters(fashion_convnet)}\")"
   ]
  },
  {
   "cell_type": "markdown",
   "id": "4428bcf0",
   "metadata": {
    "lines_to_next_cell": 2,
    "slideshow": {
     "slide_type": "slide"
    }
   },
   "source": [
    "### Model training"
   ]
  },
  {
   "cell_type": "code",
   "execution_count": 31,
   "id": "b16d3f48",
   "metadata": {},
   "outputs": [],
   "source": [
    "def epoch_loop(dataloader, model, loss_fn, optimizer):\n",
    "    \"\"\"Training algorithm for one epoch\"\"\"\n",
    "\n",
    "    total_loss = 0\n",
    "    n_correct = 0\n",
    "\n",
    "    for x_batch, y_batch in dataloader:\n",
    "        # Load data and targets on device memory\n",
    "        x_batch, y_batch = x_batch.to(device), y_batch.to(device)\n",
    "\n",
    "        # Reset gradients\n",
    "        optimizer.zero_grad()\n",
    "\n",
    "        # Forward pass\n",
    "        output = model(x_batch)\n",
    "        loss = loss_fn(output, y_batch)\n",
    "\n",
    "        # Backward pass: backprop and GD step\n",
    "        loss.backward()\n",
    "        optimizer.step()\n",
    "\n",
    "        with torch.no_grad():\n",
    "            # Accumulate data for epoch metrics: loss and number of correct predictions\n",
    "            total_loss += loss.item()\n",
    "            n_correct += (model(x_batch).argmax(dim=1) == y_batch).float().sum().item()\n",
    "\n",
    "    return total_loss, n_correct"
   ]
  },
  {
   "cell_type": "code",
   "execution_count": 32,
   "id": "c45dc8ff",
   "metadata": {
    "slideshow": {
     "slide_type": "slide"
    }
   },
   "outputs": [],
   "source": [
    "def train_fashion(dataloader, model, loss_fn, optimizer):\n",
    "    \"\"\"Main training loop\"\"\"\n",
    "\n",
    "    history = {\"loss\": [], \"acc\": []}\n",
    "    n_samples = len(dataloader.dataset)\n",
    "    n_batches = len(dataloader)\n",
    "\n",
    "    print(f\"Training started! {n_samples} samples. {n_batches} batches per epoch\")\n",
    "\n",
    "    for epoch in range(n_epochs):\n",
    "        total_loss, n_correct = epoch_loop(dataloader, model, loss_fn, optimizer)\n",
    "\n",
    "        # Compute epoch metrics\n",
    "        epoch_loss = total_loss / n_batches\n",
    "        epoch_acc = n_correct / n_samples\n",
    "\n",
    "        print(\n",
    "            f\"Epoch [{(epoch + 1):3}/{n_epochs:3}]. Mean loss: {epoch_loss:.5f}. Accuracy: {epoch_acc * 100:.2f}%\"\n",
    "        )\n",
    "\n",
    "        # Record epoch metrics for later plotting\n",
    "        history[\"loss\"].append(epoch_loss)\n",
    "        history[\"acc\"].append(epoch_acc)\n",
    "\n",
    "    print(f\"Training complete! Total gradient descent steps: {n_epochs * n_batches}\")\n",
    "\n",
    "    return history"
   ]
  },
  {
   "cell_type": "code",
   "execution_count": 33,
   "id": "c8601444",
   "metadata": {
    "slideshow": {
     "slide_type": "slide"
    }
   },
   "outputs": [
    {
     "name": "stdout",
     "output_type": "stream",
     "text": [
      "Training started! 60000 samples. 938 batches per epoch\n",
      "Epoch [  1/ 10]. Mean loss: 0.52784. Accuracy: 81.41%\n",
      "Epoch [  2/ 10]. Mean loss: 0.34451. Accuracy: 88.00%\n",
      "Epoch [  3/ 10]. Mean loss: 0.29532. Accuracy: 89.66%\n",
      "Epoch [  4/ 10]. Mean loss: 0.26397. Accuracy: 90.87%\n",
      "Epoch [  5/ 10]. Mean loss: 0.23887. Accuracy: 91.81%\n",
      "Epoch [  6/ 10]. Mean loss: 0.21755. Accuracy: 92.69%\n",
      "Epoch [  7/ 10]. Mean loss: 0.19775. Accuracy: 93.41%\n",
      "Epoch [  8/ 10]. Mean loss: 0.17957. Accuracy: 94.09%\n",
      "Epoch [  9/ 10]. Mean loss: 0.16182. Accuracy: 94.76%\n",
      "Epoch [ 10/ 10]. Mean loss: 0.14463. Accuracy: 95.53%\n",
      "Training complete! Total gradient descent steps: 9380\n"
     ]
    }
   ],
   "source": [
    "fashion_history = train_fashion(\n",
    "    fashion_train_dataloader,\n",
    "    fashion_convnet,\n",
    "    # Standard loss for multiclass classification\n",
    "    nn.CrossEntropyLoss(),\n",
    "    # Adam optimizer for GD\n",
    "    optim.Adam(fashion_convnet.parameters(), lr=learning_rate),\n",
    ")"
   ]
  },
  {
   "cell_type": "markdown",
   "id": "1c4dfe46",
   "metadata": {
    "slideshow": {
     "slide_type": "slide"
    }
   },
   "source": [
    "### Training results"
   ]
  },
  {
   "cell_type": "code",
   "execution_count": 34,
   "id": "2c464ba6",
   "metadata": {
    "slideshow": {
     "slide_type": "-"
    }
   },
   "outputs": [
    {
     "data": {
      "image/png": "[encoded data removed]",
      "text/plain": [
       "<Figure size 640x480 with 2 Axes>"
      ]
     },
     "metadata": {
      "image/png": {
       "height": 486,
       "width": 579
      }
     },
     "output_type": "display_data"
    }
   ],
   "source": [
    "# Plot training history\n",
    "plot_loss_acc(fashion_history)"
   ]
  },
  {
   "cell_type": "markdown",
   "id": "5e1956b5",
   "metadata": {
    "slideshow": {
     "slide_type": "slide"
    }
   },
   "source": [
    "## Using a pretrained convnet"
   ]
  },
  {
   "cell_type": "markdown",
   "id": "0123538a",
   "metadata": {
    "slideshow": {
     "slide_type": "slide"
    }
   },
   "source": [
    "### An efficient strategy\n",
    "\n",
    "A *pretrained convnet* is a saved network that was previously trained on a large dataset (typically on a large-scale image classification task). If the training set was general enough, it can act as a generic model and its learned features can be useful for many problems.\n",
    "\n",
    "It is an example of *transfer learning*.\n",
    "\n",
    "There are two ways to use a pretrained model: *feature extraction* and *fine-tuning*."
   ]
  },
  {
   "cell_type": "markdown",
   "id": "6033b5f9",
   "metadata": {
    "slideshow": {
     "slide_type": "slide"
    }
   },
   "source": [
    "### Feature extraction\n",
    "\n",
    "Reuse the convolution base of a pretrained model, and add a custom classifier trained from scratch on top ot if.\n",
    "\n",
    "State-of-the-art models (VGG, ResNet, Inception...) are regularly published by top AI institutions."
   ]
  },
  {
   "cell_type": "markdown",
   "id": "f46049ab",
   "metadata": {
    "colab": {},
    "colab_type": "code",
    "slideshow": {
     "slide_type": "slide"
    }
   },
   "source": [
    "### Fine-tuning\n",
    "\n",
    "Slightly adjusts the top feature extraction layers of the model being reused, in order to make it more relevant for the new context.\n",
    "\n",
    "These top layers and the custom classification layers on top of them are jointly trained.\n",
    "\n",
    "![Fine-tuning](_images/fine_tuning.png)"
   ]
  },
  {
   "cell_type": "code",
   "execution_count": null,
   "id": "03760671",
   "metadata": {},
   "outputs": [],
   "source": []
  }
 ],
 "metadata": {
  "celltoolbar": "Diaporama",
  "kernelspec": {
   "display_name": "Python 3 (ipykernel)",
   "language": "python",
   "name": "python3"
  },
  "language_info": {
   "codemirror_mode": {
    "name": "ipython",
    "version": 3
   },
   "file_extension": ".py",
   "mimetype": "text/x-python",
   "name": "python",
   "nbconvert_exporter": "python",
   "pygments_lexer": "ipython3",
   "version": "3.11.1"
  }
 },
 "nbformat": 4,
 "nbformat_minor": 5
}
