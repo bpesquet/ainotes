{
 "cells": [
  {
   "cell_type": "markdown",
   "id": "6a4eafb9",
   "metadata": {
    "slideshow": {
     "slide_type": "slide"
    }
   },
   "source": [
    "# Programming"
   ]
  },
  {
   "cell_type": "markdown",
   "id": "b146d479",
   "metadata": {
    "slideshow": {
     "slide_type": "slide"
    }
   },
   "source": [
    "## Environment setup"
   ]
  },
  {
   "cell_type": "code",
   "execution_count": 1,
   "id": "1b8ca90f",
   "metadata": {},
   "outputs": [
    {
     "name": "stdout",
     "output_type": "stream",
     "text": [
      "Python version: 3.11.1\n"
     ]
    }
   ],
   "source": [
    "import platform\n",
    "\n",
    "print(f\"Python version: {platform.python_version()}\")\n",
    "\n",
    "# Relax some linting rules for code examples\n",
    "# pylint: disable=invalid-name,redefined-outer-name,consider-using-f-string,duplicate-value,unnecessary-lambda-assignment,protected-access,too-few-public-methods,wrong-import-position,unused-import"
   ]
  },
  {
   "cell_type": "markdown",
   "id": "7c378e8f",
   "metadata": {
    "lines_to_next_cell": 2,
    "slideshow": {
     "slide_type": "slide"
    }
   },
   "source": [
    "## Python for AI and Data Science"
   ]
  },
  {
   "cell_type": "markdown",
   "id": "ef270dd1",
   "metadata": {
    "slideshow": {
     "slide_type": "slide"
    }
   },
   "source": [
    "### Python in a nutshell\n",
    "\n",
    "[Python](https://www.python.org) is a multi-purpose programming language created in 1989 by [Guido van Rossum](https://en.wikipedia.org/wiki/Guido_van_Rossum) and developed under a open source license.\n",
    "\n",
    "It has the following characteristics:\n",
    "\n",
    "- multi-paradigms (procedural, fonctional, object-oriented);\n",
    "- dynamic types;\n",
    "- automatic memory management;\n",
    "- and much more!"
   ]
  },
  {
   "cell_type": "markdown",
   "id": "3c010a86",
   "metadata": {
    "lines_to_next_cell": 2,
    "slideshow": {
     "slide_type": "slide"
    }
   },
   "source": [
    "### The Python syntax\n",
    "\n",
    "For many more examples, see the cheatsheet below."
   ]
  },
  {
   "cell_type": "code",
   "execution_count": 2,
   "id": "dba8c96b",
   "metadata": {
    "lines_to_next_cell": 2
   },
   "outputs": [
    {
     "name": "stdout",
     "output_type": "stream",
     "text": [
      "Hello, Lou\n",
      "Hello, David\n",
      "Hello, Iggy\n"
     ]
    }
   ],
   "source": [
    "def hello(name):\n",
    "    \"\"\"Say hello to someone\"\"\"\n",
    "\n",
    "    print(f\"Hello, {name}\")\n",
    "\n",
    "\n",
    "friends = [\"Lou\", \"David\", \"Iggy\"]\n",
    "\n",
    "for friend in friends:\n",
    "    hello(friend)"
   ]
  },
  {
   "cell_type": "markdown",
   "id": "61402aa3",
   "metadata": {
    "slideshow": {
     "slide_type": "slide"
    }
   },
   "source": [
    "### What is Data Science?\n",
    "\n",
    "- Expression born in 1997 in the statistician community.\n",
    "- \"A Data Scientist is a statistician that lives in San Francisco.\"\n",
    "- Main objective: extract insight from data.\n",
    "- 2012 : \"Sexiest job of the 21st century\" (Harvard Business Review).\n",
    "- There is a [controversy](https://en.wikipedia.org/wiki/Data_science#Relationship_to_statistics) on the expression's real usefulness."
   ]
  },
  {
   "cell_type": "markdown",
   "id": "4bb8e1cc",
   "metadata": {
    "slideshow": {
     "slide_type": "slide"
    }
   },
   "source": [
    "[![Data Science Venn diagram by Conway](_images/DataScience_VD_conway.png)](http://drewconway.com/zia/2013/3/26/the-data-science-venn-diagram)"
   ]
  },
  {
   "cell_type": "markdown",
   "id": "325ecae4",
   "metadata": {
    "slideshow": {
     "slide_type": "slide"
    }
   },
   "source": [
    "[![Data Science Venn diagram by Kolassa](_images/DataScience_VD_Kolassa.png)](http://drewconway.com/zia/2013/3/26/the-data-science-venn-diagram)"
   ]
  },
  {
   "cell_type": "markdown",
   "id": "5dcdd894",
   "metadata": {
    "slideshow": {
     "slide_type": "slide"
    }
   },
   "source": [
    "### A prominent language\n",
    "\n",
    "For the following reasons, Python has become the language of choice in these fields:\n",
    "\n",
    "- language qualities (ease of use, simplicity, versatility);\n",
    "- involvement of the scientific and academical communities;\n",
    "- rich ecosystem of dedicated open source libraries."
   ]
  },
  {
   "cell_type": "markdown",
   "id": "c1c05aa3",
   "metadata": {
    "slideshow": {
     "slide_type": "slide"
    }
   },
   "source": [
    "### Gems from the ecosystem\n",
    "\n",
    "Essential tools from the vast Python ecosytem for AI and Data Science include:\n",
    "\n",
    "- [Anaconda](https://www.anaconda.com/distribution/), a scientific distribution including Python and many (1500+) specialized packages. It is the easiest way to setup a work environment for AI and Data Science with Python.\n",
    "- The [Jupyter Notebook](https://jupyter.org/), an open-source web application for creating and managing documents (_.ipynb_ files) that may contain live code, equations, visualizations and text. This format has become the *de facto* standard for sharing research results in numerical fields.\n",
    "- [Google Colaboratory](https://colab.research.google.com), a cloud environment for executing Jupyter notebooks with access to specialized processors (GPU or TPU)."
   ]
  },
  {
   "cell_type": "markdown",
   "id": "b7799955",
   "metadata": {
    "lines_to_next_cell": 2,
    "slideshow": {
     "slide_type": "slide"
    }
   },
   "source": [
    "## (Yet another) Python cheatsheet\n",
    "\n",
    "Inspired by [A Whirlwind Tour of Python](https://jakevdp.github.io/WhirlwindTourOfPython/) and [another Python Cheatsheet](https://www.pythoncheatsheet.org/)."
   ]
  },
  {
   "cell_type": "markdown",
   "id": "055e9cb9",
   "metadata": {
    "slideshow": {
     "slide_type": "slide"
    }
   },
   "source": [
    "### Basics"
   ]
  },
  {
   "cell_type": "code",
   "execution_count": 3,
   "id": "cc2b698f",
   "metadata": {
    "slideshow": {
     "slide_type": "-"
    }
   },
   "outputs": [
    {
     "name": "stdout",
     "output_type": "stream",
     "text": [
      "Hello World!\n",
      "1 2 3\n",
      "1--2--3\n",
      "I'm happy\n"
     ]
    }
   ],
   "source": [
    "# Print statement\n",
    "print(\"Hello World!\")\n",
    "\n",
    "# Optional separator\n",
    "print(1, 2, 3)\n",
    "print(1, 2, 3, sep=\"--\")\n",
    "\n",
    "# Variables (dynamically typed)\n",
    "mood = \"happy\"  # or 'happy'\n",
    "\n",
    "print(\"I'm\", mood)"
   ]
  },
  {
   "cell_type": "markdown",
   "id": "05917271",
   "metadata": {
    "slideshow": {
     "slide_type": "slide"
    }
   },
   "source": [
    "### String formatting"
   ]
  },
  {
   "cell_type": "code",
   "execution_count": 4,
   "id": "27177ae3",
   "metadata": {
    "slideshow": {
     "slide_type": "-"
    }
   },
   "outputs": [
    {
     "name": "stdout",
     "output_type": "stream",
     "text": [
      "My name is Garance and I'm 16 years old.\n",
      "My name is Garance and I'm 16 years old.\n",
      "My name is Garance and I'm 16 years old.\n"
     ]
    }
   ],
   "source": [
    "name = \"Garance\"\n",
    "age = 16\n",
    "\n",
    "# Original language syntax\n",
    "message = \"My name is %s and I'm %s years old.\" % (\n",
    "    name,\n",
    "    age,\n",
    ")\n",
    "print(message)\n",
    "\n",
    "# Python 2.6+\n",
    "message = \"My name is {} and I'm {} years old.\".format(name, age)\n",
    "print(message)\n",
    "\n",
    "# f-string (Python 3.6+)\n",
    "# https://realpython.com/python-f-strings/\n",
    "# https://cito.github.io/blog/f-strings/\n",
    "message = f\"My name is {name} and I'm {age} years old.\"\n",
    "print(message)"
   ]
  },
  {
   "cell_type": "markdown",
   "id": "489d3cae",
   "metadata": {
    "slideshow": {
     "slide_type": "slide"
    }
   },
   "source": [
    "### Numbers and arithmetic"
   ]
  },
  {
   "cell_type": "code",
   "execution_count": 5,
   "id": "915459b2",
   "metadata": {},
   "outputs": [
    {
     "name": "stdout",
     "output_type": "stream",
     "text": [
      "3.14 0\n",
      "6.5\n",
      "6\n",
      "9\n",
      "8\n"
     ]
    }
   ],
   "source": [
    "# Type: int\n",
    "a = 0\n",
    "\n",
    "# Type: float\n",
    "b = 3.14\n",
    "\n",
    "# Variable swapping\n",
    "a, b = b, a\n",
    "print(a, b)\n",
    "\n",
    "# Float and integer divisions\n",
    "print(13 / 2)\n",
    "print(13 // 2)\n",
    "\n",
    "# Exponential operator\n",
    "print(3**2)\n",
    "print(2**3)"
   ]
  },
  {
   "cell_type": "markdown",
   "id": "aaba3d6d",
   "metadata": {
    "slideshow": {
     "slide_type": "slide"
    }
   },
   "source": [
    "### Flow control"
   ]
  },
  {
   "cell_type": "markdown",
   "id": "7c9e8cbf",
   "metadata": {},
   "source": [
    "#### The if/elif/else statement"
   ]
  },
  {
   "cell_type": "code",
   "execution_count": 6,
   "id": "49f7e7fc",
   "metadata": {},
   "outputs": [
    {
     "name": "stdout",
     "output_type": "stream",
     "text": [
      "You are neither Alice nor a little kid.\n"
     ]
    }
   ],
   "source": [
    "name = \"Bob\"\n",
    "age = 30\n",
    "if name == \"Alice\":\n",
    "    print(\"Hi, Alice.\")\n",
    "elif age < 12:\n",
    "    print(\"You are not Alice, kiddo.\")\n",
    "else:\n",
    "    print(\"You are neither Alice nor a little kid.\")"
   ]
  },
  {
   "cell_type": "markdown",
   "id": "c1d5f24b",
   "metadata": {
    "slideshow": {
     "slide_type": "slide"
    }
   },
   "source": [
    "#### The while loop"
   ]
  },
  {
   "cell_type": "code",
   "execution_count": 7,
   "id": "08f2e1c5",
   "metadata": {},
   "outputs": [
    {
     "name": "stdout",
     "output_type": "stream",
     "text": [
      "1\n",
      "2\n",
      "3\n",
      "4\n",
      "5\n",
      "6\n",
      "7\n",
      "8\n",
      "9\n",
      "10\n"
     ]
    }
   ],
   "source": [
    "num = 1\n",
    "\n",
    "while num <= 10:\n",
    "    print(num)\n",
    "    num += 1"
   ]
  },
  {
   "cell_type": "markdown",
   "id": "3a22e67f",
   "metadata": {
    "slideshow": {
     "slide_type": "slide"
    }
   },
   "source": [
    "#### The for/else loop\n",
    "\n",
    "The optional `else`statement is only useful when a `break` condition can occur in the loop."
   ]
  },
  {
   "cell_type": "code",
   "execution_count": 8,
   "id": "314d1d2f",
   "metadata": {},
   "outputs": [
    {
     "name": "stdout",
     "output_type": "stream",
     "text": [
      "3\n"
     ]
    }
   ],
   "source": [
    "for i in [1, 2, 3, 4, 5]:\n",
    "    if i == 3:\n",
    "        print(i)\n",
    "        break\n",
    "else:\n",
    "    print(\"No item of the list is equal to 3\")"
   ]
  },
  {
   "cell_type": "markdown",
   "id": "50a58980",
   "metadata": {
    "slideshow": {
     "slide_type": "slide"
    }
   },
   "source": [
    "### Data structures"
   ]
  },
  {
   "cell_type": "markdown",
   "id": "18ba739d",
   "metadata": {},
   "source": [
    "#### Lists"
   ]
  },
  {
   "cell_type": "code",
   "execution_count": 9,
   "id": "8160b3fa",
   "metadata": {
    "slideshow": {
     "slide_type": "-"
    }
   },
   "outputs": [
    {
     "name": "stdout",
     "output_type": "stream",
     "text": [
      "3\n",
      "France\n",
      "India\n",
      "['France', 'Belgium', 'India', 'Ecuador']\n"
     ]
    }
   ],
   "source": [
    "countries = [\"France\", \"Belgium\", \"India\"]\n",
    "\n",
    "print(len(countries))\n",
    "print(countries[0])\n",
    "print(countries[-1])\n",
    "\n",
    "# Add element at end of list\n",
    "countries.append(\"Ecuador\")\n",
    "\n",
    "print(countries)"
   ]
  },
  {
   "cell_type": "markdown",
   "id": "c7a539c5",
   "metadata": {
    "slideshow": {
     "slide_type": "slide"
    }
   },
   "source": [
    "#### List indexing and slicing"
   ]
  },
  {
   "cell_type": "code",
   "execution_count": 10,
   "id": "ee6409b6",
   "metadata": {},
   "outputs": [
    {
     "name": "stdout",
     "output_type": "stream",
     "text": [
      "['Belgium', 'India']\n",
      "['France', 'Belgium', 'India']\n",
      "['France', 'Belgium']\n",
      "['Belgium', 'India', 'Ecuador']\n",
      "['France', 'Belgium', 'India', 'Ecuador']\n",
      "['Ecuador', 'India', 'Belgium', 'France']\n"
     ]
    }
   ],
   "source": [
    "print(countries[1:3])\n",
    "print(countries[0:-1])\n",
    "print(countries[:2])\n",
    "print(countries[1:])\n",
    "print(countries[:])\n",
    "print(countries[::-1])"
   ]
  },
  {
   "cell_type": "markdown",
   "id": "57c1f1ea",
   "metadata": {
    "slideshow": {
     "slide_type": "slide"
    }
   },
   "source": [
    "#### Tuples\n",
    "\n",
    "Contrary to lists, tuples are *immutable* (read-only)."
   ]
  },
  {
   "cell_type": "code",
   "execution_count": 11,
   "id": "bbf66a71",
   "metadata": {
    "slideshow": {
     "slide_type": "-"
    }
   },
   "outputs": [
    {
     "name": "stdout",
     "output_type": "stream",
     "text": [
      "hello\n",
      "(42, 0.5)\n"
     ]
    }
   ],
   "source": [
    "eggs = (\"hello\", 42, 0.5)\n",
    "\n",
    "print(eggs[0])\n",
    "print(eggs[1:3])\n",
    "\n",
    "# TypeError: a tuple is immutable\n",
    "# eggs[0] = \"bonjour\""
   ]
  },
  {
   "cell_type": "markdown",
   "id": "81de7508",
   "metadata": {
    "slideshow": {
     "slide_type": "slide"
    }
   },
   "source": [
    "#### Dictionaries"
   ]
  },
  {
   "cell_type": "code",
   "execution_count": 12,
   "id": "982f4591",
   "metadata": {},
   "outputs": [
    {
     "name": "stdout",
     "output_type": "stream",
     "text": [
      "{'one': 1, 'two': 2, 'three': 3, 'ninety': 90}\n",
      "one => 1\n",
      "two => 2\n",
      "three => 3\n",
      "ninety => 90\n"
     ]
    }
   ],
   "source": [
    "numbers = {\"one\": 1, \"two\": 2, \"three\": 3}\n",
    "\n",
    "numbers[\"ninety\"] = 90\n",
    "print(numbers)\n",
    "\n",
    "for key, value in numbers.items():\n",
    "    print(f\"{key} => {value}\")"
   ]
  },
  {
   "cell_type": "markdown",
   "id": "eea7110f",
   "metadata": {
    "slideshow": {
     "slide_type": "slide"
    }
   },
   "source": [
    "#### Sets\n",
    "\n",
    "A set is an unordered collection of unique items."
   ]
  },
  {
   "cell_type": "code",
   "execution_count": 13,
   "id": "57dd6faa",
   "metadata": {},
   "outputs": [
    {
     "name": "stdout",
     "output_type": "stream",
     "text": [
      "{1, 2, 3, 4}\n"
     ]
    }
   ],
   "source": [
    "# Duplicate values are automatically removed\n",
    "s = {1, 2, 3, 2, 3, 4}\n",
    "print(s)"
   ]
  },
  {
   "cell_type": "markdown",
   "id": "54248591",
   "metadata": {
    "slideshow": {
     "slide_type": "slide"
    }
   },
   "source": [
    "#### Union, intersection and difference of sets"
   ]
  },
  {
   "cell_type": "code",
   "execution_count": 14,
   "id": "bd4b078f",
   "metadata": {
    "lines_to_next_cell": 2
   },
   "outputs": [
    {
     "name": "stdout",
     "output_type": "stream",
     "text": [
      "{1, 2, 3, 5, 7, 9}\n",
      "{3, 5, 7}\n",
      "{2}\n"
     ]
    }
   ],
   "source": [
    "primes = {2, 3, 5, 7}\n",
    "odds = {1, 3, 5, 7, 9}\n",
    "\n",
    "print(primes | odds)\n",
    "print(primes & odds)\n",
    "print(primes - odds)"
   ]
  },
  {
   "cell_type": "markdown",
   "id": "b424fb0d",
   "metadata": {
    "slideshow": {
     "slide_type": "slide"
    }
   },
   "source": [
    "### Functions"
   ]
  },
  {
   "cell_type": "markdown",
   "id": "d09162c7",
   "metadata": {
    "lines_to_next_cell": 2
   },
   "source": [
    "#### Function definition"
   ]
  },
  {
   "cell_type": "code",
   "execution_count": 15,
   "id": "a2d4a45a",
   "metadata": {},
   "outputs": [],
   "source": [
    "def square(x):\n",
    "    \"\"\"Returns the square of x\"\"\"\n",
    "\n",
    "    return x**2"
   ]
  },
  {
   "cell_type": "markdown",
   "id": "73f245c1",
   "metadata": {
    "slideshow": {
     "slide_type": "slide"
    }
   },
   "source": [
    "#### Function call"
   ]
  },
  {
   "cell_type": "code",
   "execution_count": 16,
   "id": "850e8946",
   "metadata": {
    "lines_to_next_cell": 2
   },
   "outputs": [
    {
     "name": "stdout",
     "output_type": "stream",
     "text": [
      "Help on function square in module __main__:\n",
      "\n",
      "square(x)\n",
      "    Returns the square of x\n",
      "\n",
      "0\n",
      "9\n"
     ]
    }
   ],
   "source": [
    "# Print function docstring\n",
    "help(square)\n",
    "\n",
    "print(square(0))\n",
    "print(square(3))"
   ]
  },
  {
   "cell_type": "markdown",
   "id": "fa4ac751",
   "metadata": {
    "lines_to_next_cell": 2,
    "slideshow": {
     "slide_type": "slide"
    }
   },
   "source": [
    "#### Default parameter values"
   ]
  },
  {
   "cell_type": "code",
   "execution_count": 17,
   "id": "49275222",
   "metadata": {
    "lines_to_next_cell": 2
   },
   "outputs": [
    {
     "name": "stdout",
     "output_type": "stream",
     "text": [
      "[1, 1, 2, 3, 5, 8, 13]\n"
     ]
    }
   ],
   "source": [
    "def fibonacci(n, a=0, b=1):\n",
    "    \"\"\"Returns a list of the n first Fibonacci numbers\"\"\"\n",
    "\n",
    "    l = []\n",
    "    while len(l) < n:\n",
    "        a, b = b, a + b\n",
    "        l.append(a)\n",
    "    return l\n",
    "\n",
    "\n",
    "print(fibonacci(7))"
   ]
  },
  {
   "cell_type": "markdown",
   "id": "93dd8384",
   "metadata": {
    "lines_to_next_cell": 2,
    "slideshow": {
     "slide_type": "slide"
    }
   },
   "source": [
    "#### Flexible function arguments"
   ]
  },
  {
   "cell_type": "code",
   "execution_count": 18,
   "id": "04231bfe",
   "metadata": {},
   "outputs": [
    {
     "name": "stdout",
     "output_type": "stream",
     "text": [
      "args = (1, 2, 3)\n",
      "kwargs = {'a': 10, 'b': 'hello'}\n"
     ]
    }
   ],
   "source": [
    "def catch_all_args(*args, **kwargs):\n",
    "    \"\"\"Demonstrates the use of *args and **kwargs\"\"\"\n",
    "\n",
    "    print(f\"args = {args}\")\n",
    "    print(f\"kwargs = {kwargs}\")\n",
    "\n",
    "\n",
    "catch_all_args(1, 2, 3, a=10, b=\"hello\")"
   ]
  },
  {
   "cell_type": "markdown",
   "id": "cddba0c6",
   "metadata": {
    "slideshow": {
     "slide_type": "slide"
    }
   },
   "source": [
    "#### Lambda (anonymous) functions"
   ]
  },
  {
   "cell_type": "code",
   "execution_count": 19,
   "id": "b50ce7ae",
   "metadata": {},
   "outputs": [
    {
     "name": "stdout",
     "output_type": "stream",
     "text": [
      "3\n"
     ]
    }
   ],
   "source": [
    "add = lambda x, y: x + y\n",
    "\n",
    "print(add(1, 2))"
   ]
  },
  {
   "cell_type": "markdown",
   "id": "5f341a7e",
   "metadata": {
    "slideshow": {
     "slide_type": "slide"
    }
   },
   "source": [
    "### Iterators"
   ]
  },
  {
   "cell_type": "markdown",
   "id": "3bbd0817",
   "metadata": {
    "slideshow": {
     "slide_type": "-"
    }
   },
   "source": [
    "#### A unified interface for iterating"
   ]
  },
  {
   "cell_type": "code",
   "execution_count": 20,
   "id": "59d81465",
   "metadata": {},
   "outputs": [
    {
     "name": "stdout",
     "output_type": "stream",
     "text": [
      "1\n",
      "2\n",
      "3\n",
      "4\n",
      "5\n",
      "6\n",
      "one\n",
      "two\n",
      "A\n",
      "B\n",
      "C\n"
     ]
    }
   ],
   "source": [
    "for element in [1, 2, 3]:\n",
    "    print(element)\n",
    "for element in (4, 5, 6):\n",
    "    print(element)\n",
    "for key in {\"one\": 1, \"two\": 2}:\n",
    "    print(key)\n",
    "for char in \"ABC\":\n",
    "    print(char)"
   ]
  },
  {
   "cell_type": "markdown",
   "id": "26d8ebe4",
   "metadata": {
    "slideshow": {
     "slide_type": "slide"
    }
   },
   "source": [
    "#### Under the hood\n",
    "\n",
    "- An **iterable** is a object that has an `__iter__` method which returns an **iterator** to provide iteration support.\n",
    "- An **iterator** is an object with a `__next__` method which returns the next iteration element.\n",
    "- A **sequence** is an iterable which supports access by integer position. Lists, tuples, strings and range objects are examples of sequences.\n",
    "- A **mapping** is an iterable which supports access via keys. Dictionaries are examples of mappings.\n",
    "- Iterators are used implicitly by many looping constructs."
   ]
  },
  {
   "cell_type": "markdown",
   "id": "b96ad793",
   "metadata": {
    "slideshow": {
     "slide_type": "slide"
    }
   },
   "source": [
    "#### The range() function\n",
    "\n",
    "It doesn't return a list, but a `range` object (which exposes an iterator)."
   ]
  },
  {
   "cell_type": "code",
   "execution_count": 21,
   "id": "a134be73",
   "metadata": {
    "slideshow": {
     "slide_type": "-"
    }
   },
   "outputs": [
    {
     "name": "stdout",
     "output_type": "stream",
     "text": [
      "0 is even\n",
      "1 is odd\n",
      "2 is even\n",
      "3 is odd\n",
      "4 is even\n",
      "5 is odd\n",
      "6 is even\n",
      "7 is odd\n",
      "8 is even\n",
      "9 is odd\n"
     ]
    }
   ],
   "source": [
    "for i in range(10):\n",
    "    if i % 2 == 0:\n",
    "        print(f\"{i} is even\")\n",
    "    else:\n",
    "        print(f\"{i} is odd\")"
   ]
  },
  {
   "cell_type": "code",
   "execution_count": 22,
   "id": "27f9fbc5",
   "metadata": {
    "slideshow": {
     "slide_type": "subslide"
    }
   },
   "outputs": [
    {
     "name": "stdout",
     "output_type": "stream",
     "text": [
      "0\n",
      "2\n",
      "4\n",
      "6\n",
      "8\n"
     ]
    }
   ],
   "source": [
    "for i in range(0, 10, 2):\n",
    "    print(i)"
   ]
  },
  {
   "cell_type": "code",
   "execution_count": 23,
   "id": "2d619c26",
   "metadata": {
    "slideshow": {
     "slide_type": "-"
    }
   },
   "outputs": [
    {
     "name": "stdout",
     "output_type": "stream",
     "text": [
      "5\n",
      "4\n",
      "3\n",
      "2\n",
      "1\n",
      "0\n"
     ]
    }
   ],
   "source": [
    "for i in range(5, -1, -1):\n",
    "    print(i)"
   ]
  },
  {
   "cell_type": "markdown",
   "id": "a7fe1316",
   "metadata": {
    "slideshow": {
     "slide_type": "slide"
    }
   },
   "source": [
    "#### The enumerate() function"
   ]
  },
  {
   "cell_type": "code",
   "execution_count": 24,
   "id": "7aa25333",
   "metadata": {},
   "outputs": [
    {
     "name": "stdout",
     "output_type": "stream",
     "text": [
      "Index 0 in supplies is: pens\n",
      "Index 1 in supplies is: staplers\n",
      "Index 2 in supplies is: flame-throwers\n",
      "Index 3 in supplies is: binders\n"
     ]
    }
   ],
   "source": [
    "supplies = [\"pens\", \"staplers\", \"flame-throwers\", \"binders\"]\n",
    "\n",
    "for i, supply in enumerate(supplies):\n",
    "    print(f\"Index {i} in supplies is: {supply}\")"
   ]
  },
  {
   "cell_type": "markdown",
   "id": "4927e4c4",
   "metadata": {
    "slideshow": {
     "slide_type": "slide"
    }
   },
   "source": [
    "### Comprehensions\n",
    "\n",
    "#### Principle\n",
    "\n",
    "- Provide a concise way to create sequences.\n",
    "- General syntax: `[expr for var in iterable]`."
   ]
  },
  {
   "cell_type": "markdown",
   "id": "43c51802",
   "metadata": {
    "slideshow": {
     "slide_type": "slide"
    }
   },
   "source": [
    "#### List comprehensions"
   ]
  },
  {
   "cell_type": "code",
   "execution_count": 25,
   "id": "9b296253",
   "metadata": {
    "slideshow": {
     "slide_type": "-"
    }
   },
   "outputs": [
    {
     "name": "stdout",
     "output_type": "stream",
     "text": [
      "[0, 1, 4, 9, 16, 25, 36, 49, 64, 81]\n",
      "[0, 1, 4, 9, 16, 25, 36, 49, 64, 81]\n"
     ]
    }
   ],
   "source": [
    "# Using explicit code\n",
    "squared_numbers = []\n",
    "stop = 10\n",
    "\n",
    "for n in range(stop):\n",
    "    squared_numbers.append(n**2)\n",
    "\n",
    "print(squared_numbers)\n",
    "\n",
    "# Using a list comprehension\n",
    "print([n**2 for n in range(stop)])"
   ]
  },
  {
   "cell_type": "markdown",
   "id": "f7cd64d1",
   "metadata": {
    "slideshow": {
     "slide_type": "slide"
    }
   },
   "source": [
    "#### Set and dictionary comprehensions"
   ]
  },
  {
   "cell_type": "code",
   "execution_count": 26,
   "id": "187d7d7b",
   "metadata": {},
   "outputs": [
    {
     "name": "stdout",
     "output_type": "stream",
     "text": [
      "{'ABC', 'DEF'}\n",
      "{0, 1, 2, 3}\n",
      "{'Prosper': 'name', 12: 'age'}\n"
     ]
    }
   ],
   "source": [
    "# Create an uppercase set\n",
    "s = {\"abc\", \"def\"}\n",
    "print({e.upper() for e in s})\n",
    "\n",
    "# Obtains modulos of 4 (eliminating duplicates)\n",
    "print({a % 4 for a in range(1000)})\n",
    "\n",
    "# Switch keys and values\n",
    "d = {\"name\": \"Prosper\", \"age\": 12}\n",
    "print({v: k for k, v in d.items()})"
   ]
  },
  {
   "cell_type": "markdown",
   "id": "4994f8b2",
   "metadata": {
    "slideshow": {
     "slide_type": "slide"
    }
   },
   "source": [
    "### Generators\n",
    "\n",
    "#### Principle\n",
    "\n",
    "- A **generator** defines a recipe for producing values.\n",
    "- A generator does not actually compute the values until they are needed.\n",
    "- It exposes an iterator interface. As such, it is a basic form of iterable.\n",
    "- It can only be iterated once."
   ]
  },
  {
   "cell_type": "markdown",
   "id": "4ae329b6",
   "metadata": {
    "slideshow": {
     "slide_type": "slide"
    }
   },
   "source": [
    "#### Generators expressions\n",
    "\n",
    "They use parentheses, not square brackets like list comprehensions."
   ]
  },
  {
   "cell_type": "code",
   "execution_count": 27,
   "id": "3d97b5fc",
   "metadata": {
    "lines_to_next_cell": 2
   },
   "outputs": [
    {
     "name": "stdout",
     "output_type": "stream",
     "text": [
      "[0, 1, 4, 9, 16, 25, 36, 49, 64, 81]\n",
      "[]\n"
     ]
    }
   ],
   "source": [
    "g1 = (n**2 for n in range(stop))\n",
    "\n",
    "print(list(g1))\n",
    "print(list(g1))"
   ]
  },
  {
   "cell_type": "markdown",
   "id": "ee721bc2",
   "metadata": {
    "lines_to_next_cell": 2,
    "slideshow": {
     "slide_type": "slide"
    }
   },
   "source": [
    "#### Generator functions\n",
    "\n",
    "- A function that, rather than using `return` to return a value once, uses `yield` to yield a (potentially infinite) sequence of values.\n",
    "- Useful when the generator algorithm gets complicated."
   ]
  },
  {
   "cell_type": "code",
   "execution_count": 28,
   "id": "58b790be",
   "metadata": {
    "lines_to_next_cell": 2
   },
   "outputs": [
    {
     "name": "stdout",
     "output_type": "stream",
     "text": [
      "[0, 1, 4, 9, 16, 25, 36, 49, 64, 81]\n",
      "[]\n"
     ]
    }
   ],
   "source": [
    "def gen():\n",
    "    \"\"\"Generates squared numbers\"\"\"\n",
    "\n",
    "    for n in range(stop):\n",
    "        yield n**2\n",
    "\n",
    "\n",
    "g2 = gen()\n",
    "print(list(g2))\n",
    "print(list(g2))"
   ]
  },
  {
   "cell_type": "markdown",
   "id": "64df1f4b",
   "metadata": {
    "slideshow": {
     "slide_type": "slide"
    }
   },
   "source": [
    "### Object-oriented programming"
   ]
  },
  {
   "cell_type": "markdown",
   "id": "e52acd32",
   "metadata": {
    "lines_to_next_cell": 2
   },
   "source": [
    "#### Class definition"
   ]
  },
  {
   "cell_type": "code",
   "execution_count": 29,
   "id": "91ee7c4a",
   "metadata": {},
   "outputs": [],
   "source": [
    "# https://docs.python.org/3/tutorial/classes.html\n",
    "\n",
    "\n",
    "class Account:\n",
    "    \"\"\"Represents a bank account\"\"\"\n",
    "\n",
    "    def __init__(self, initial_balance):\n",
    "        self.balance = initial_balance\n",
    "\n",
    "    def credit(self, amount):\n",
    "        \"\"\"Credits money to the account\"\"\"\n",
    "\n",
    "        self.balance += amount\n",
    "\n",
    "    def __str__(self):\n",
    "        return f\"Account balance: {self.balance}\""
   ]
  },
  {
   "cell_type": "markdown",
   "id": "192c6023",
   "metadata": {
    "slideshow": {
     "slide_type": "slide"
    }
   },
   "source": [
    "#### Class instanciation"
   ]
  },
  {
   "cell_type": "code",
   "execution_count": 30,
   "id": "e1c8563c",
   "metadata": {},
   "outputs": [
    {
     "name": "stdout",
     "output_type": "stream",
     "text": [
      "Account balance: 100\n",
      "60\n"
     ]
    }
   ],
   "source": [
    "new_account = Account(100)\n",
    "print(new_account)\n",
    "\n",
    "new_account.credit(-40)\n",
    "print(new_account.balance)"
   ]
  },
  {
   "cell_type": "markdown",
   "id": "ef84d12b",
   "metadata": {
    "lines_to_next_cell": 2,
    "slideshow": {
     "slide_type": "slide"
    }
   },
   "source": [
    "#### Instance properties"
   ]
  },
  {
   "cell_type": "code",
   "execution_count": 31,
   "id": "8ce4ca15",
   "metadata": {},
   "outputs": [],
   "source": [
    "# https://docs.python.org/3/library/functions.html#property\n",
    "\n",
    "\n",
    "class Vehicle:\n",
    "    \"\"\"Represents a vehicle\"\"\"\n",
    "\n",
    "    def __init__(self, number_of_wheels, type_of_tank):\n",
    "        # The leading underscore designates internal (\"private\") attributes\n",
    "        self._number_of_wheels = number_of_wheels\n",
    "        self._type_of_tank = type_of_tank\n",
    "\n",
    "    @property\n",
    "    def number_of_wheels(self):\n",
    "        \"\"\"Number of wheels\"\"\"\n",
    "\n",
    "        return self._number_of_wheels\n",
    "\n",
    "    @number_of_wheels.setter\n",
    "    def number_of_wheels(self, number):\n",
    "        self._number_of_wheels = number"
   ]
  },
  {
   "cell_type": "markdown",
   "id": "a8386774",
   "metadata": {
    "slideshow": {
     "slide_type": "slide"
    }
   },
   "source": [
    "#### Using instance properties"
   ]
  },
  {
   "cell_type": "code",
   "execution_count": 32,
   "id": "6f9f4dae",
   "metadata": {
    "lines_to_next_cell": 2
   },
   "outputs": [
    {
     "name": "stdout",
     "output_type": "stream",
     "text": [
      "2\n",
      "electric\n"
     ]
    }
   ],
   "source": [
    "my_strange_vehicle = Vehicle(4, \"electric\")\n",
    "my_strange_vehicle.number_of_wheels = 2\n",
    "print(my_strange_vehicle.number_of_wheels)\n",
    "\n",
    "# Works, but frowned upon (accessing a private attribute)\n",
    "# We should use a property instead\n",
    "print(my_strange_vehicle._type_of_tank)"
   ]
  },
  {
   "cell_type": "markdown",
   "id": "06d645a8",
   "metadata": {
    "lines_to_next_cell": 2,
    "slideshow": {
     "slide_type": "slide"
    }
   },
   "source": [
    "#### Class attributes"
   ]
  },
  {
   "cell_type": "code",
   "execution_count": 33,
   "id": "8fc1dd2c",
   "metadata": {
    "lines_to_next_cell": 2
   },
   "outputs": [
    {
     "name": "stdout",
     "output_type": "stream",
     "text": [
      "Total employees: 1\n"
     ]
    }
   ],
   "source": [
    "class Employee:\n",
    "    \"\"\"Represents an employee\"\"\"\n",
    "\n",
    "    empCount = 0  # Class-level attribute, shared by all instances\n",
    "\n",
    "    def __init__(self, name, salary):\n",
    "        self._name = name\n",
    "        self._salary = salary\n",
    "        Employee.empCount += 1\n",
    "\n",
    "    @staticmethod\n",
    "    def count():\n",
    "        \"\"\"Count the number of employees\"\"\"\n",
    "\n",
    "        return f\"Total employees: {Employee.empCount}\"\n",
    "\n",
    "\n",
    "e1 = Employee(\"Ben\", \"30\")\n",
    "print(Employee.count())"
   ]
  },
  {
   "cell_type": "markdown",
   "id": "fe2a6aa5",
   "metadata": {
    "lines_to_next_cell": 2,
    "slideshow": {
     "slide_type": "slide"
    }
   },
   "source": [
    "#### Inheritance"
   ]
  },
  {
   "cell_type": "code",
   "execution_count": 34,
   "id": "338d7814",
   "metadata": {
    "lines_to_next_cell": 2
   },
   "outputs": [
    {
     "name": "stdout",
     "output_type": "stream",
     "text": [
      "Fang\n",
      "Mammal\n"
     ]
    }
   ],
   "source": [
    "class Animal:\n",
    "    \"\"\"Represents an animal\"\"\"\n",
    "\n",
    "    def __init__(self, species):\n",
    "        self.species = species\n",
    "\n",
    "\n",
    "class Dog(Animal):\n",
    "    \"\"\"Represents a specific animal: a dog\"\"\"\n",
    "\n",
    "    def __init__(self, name):\n",
    "        Animal.__init__(self, \"Mammal\")\n",
    "        self.name = name\n",
    "\n",
    "\n",
    "doggo = Dog(\"Fang\")\n",
    "print(doggo.name)\n",
    "print(doggo.species)"
   ]
  },
  {
   "cell_type": "markdown",
   "id": "657d5b1a",
   "metadata": {
    "slideshow": {
     "slide_type": "slide"
    }
   },
   "source": [
    "#### Dataclasses\n",
    "\n",
    "Simplified syntax for attribute-centric classes."
   ]
  },
  {
   "cell_type": "code",
   "execution_count": 35,
   "id": "f7f19cee",
   "metadata": {},
   "outputs": [
    {
     "name": "stdout",
     "output_type": "stream",
     "text": [
      "Student(name='Jack', id=123456)\n"
     ]
    }
   ],
   "source": [
    "# https://realpython.com/python-data-classes/\n",
    "\n",
    "from dataclasses import dataclass\n",
    "\n",
    "\n",
    "@dataclass\n",
    "class Student:\n",
    "    \"\"\"Represents a student\"\"\"\n",
    "\n",
    "    name: str\n",
    "    id: int\n",
    "\n",
    "\n",
    "student = Student(\"Jack\", 123456)\n",
    "print(student)"
   ]
  },
  {
   "cell_type": "markdown",
   "id": "551a78ce",
   "metadata": {
    "slideshow": {
     "slide_type": "slide"
    }
   },
   "source": [
    "### Modules and packages"
   ]
  },
  {
   "cell_type": "code",
   "execution_count": 36,
   "id": "485cb6e8",
   "metadata": {
    "lines_to_next_cell": 2,
    "slideshow": {
     "slide_type": "slide"
    }
   },
   "outputs": [
    {
     "name": "stdout",
     "output_type": "stream",
     "text": [
      "-1.0\n",
      "-1.0\n",
      "-1.0\n"
     ]
    }
   ],
   "source": [
    "# Importing all module content into a namespace\n",
    "import math\n",
    "\n",
    "print(math.cos(math.pi))  # -1.0\n",
    "\n",
    "# Importing specific module content into local namespace\n",
    "from math import cos, pi\n",
    "\n",
    "print(cos(pi))  # -1.0\n",
    "\n",
    "# Aliasing an import\n",
    "import numpy as np\n",
    "\n",
    "print(np.cos(np.pi))  # -1.0"
   ]
  },
  {
   "cell_type": "markdown",
   "id": "4cb3bb46",
   "metadata": {
    "slideshow": {
     "slide_type": "slide"
    }
   },
   "source": [
    "## Python good practices"
   ]
  },
  {
   "cell_type": "code",
   "execution_count": 37,
   "id": "cff2abaa",
   "metadata": {
    "slideshow": {
     "slide_type": "slide"
    }
   },
   "outputs": [
    {
     "name": "stdout",
     "output_type": "stream",
     "text": [
      "The Zen of Python, by Tim Peters\n",
      "\n",
      "Beautiful is better than ugly.\n",
      "Explicit is better than implicit.\n",
      "Simple is better than complex.\n",
      "Complex is better than complicated.\n",
      "Flat is better than nested.\n",
      "Sparse is better than dense.\n",
      "Readability counts.\n",
      "Special cases aren't special enough to break the rules.\n",
      "Although practicality beats purity.\n",
      "Errors should never pass silently.\n",
      "Unless explicitly silenced.\n",
      "In the face of ambiguity, refuse the temptation to guess.\n",
      "There should be one-- and preferably only one --obvious way to do it.\n",
      "Although that way may not be obvious at first unless you're Dutch.\n",
      "Now is better than never.\n",
      "Although never is often better than *right* now.\n",
      "If the implementation is hard to explain, it's a bad idea.\n",
      "If the implementation is easy to explain, it may be a good idea.\n",
      "Namespaces are one honking great idea -- let's do more of those!\n"
     ]
    }
   ],
   "source": [
    "import this"
   ]
  }
 ],
 "metadata": {
  "kernelspec": {
   "display_name": "Python 3 (ipykernel)",
   "language": "python",
   "name": "python3"
  },
  "language_info": {
   "codemirror_mode": {
    "name": "ipython",
    "version": 3
   },
   "file_extension": ".py",
   "mimetype": "text/x-python",
   "name": "python",
   "nbconvert_exporter": "python",
   "pygments_lexer": "ipython3",
   "version": "3.11.1"
  }
 },
 "nbformat": 4,
 "nbformat_minor": 5
}
