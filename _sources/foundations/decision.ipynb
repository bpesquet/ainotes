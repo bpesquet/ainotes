{
 "cells": [
  {
   "cell_type": "markdown",
   "id": "28c8008f",
   "metadata": {
    "slideshow": {
     "slide_type": "slide"
    }
   },
   "source": [
    "# Decision-making\n",
    "\n",
    "```{warning}\n",
    "This chapter is under construction.\n",
    "```"
   ]
  },
  {
   "cell_type": "markdown",
   "id": "61228344",
   "metadata": {
    "slideshow": {
     "slide_type": "slide"
    }
   },
   "source": [
    "## Terminology"
   ]
  },
  {
   "cell_type": "markdown",
   "id": "f9e680e0",
   "metadata": {
    "slideshow": {
     "slide_type": "slide"
    }
   },
   "source": [
    "### Decision\n",
    "\n",
    "A **decision** is \"a deliberative process that results in the commitment to a categorical proposition.\" {cite}`goldNeuralBasisDecision2007`\n",
    "\n",
    "People make thousands of (big and small) decisions everyday. A few examples:\n",
    "- Choosing what pair of socks to wear.\n",
    "- Deciding on a TV series to watch.\n",
    "- Choosing one's next car/bike."
   ]
  },
  {
   "cell_type": "markdown",
   "id": "fa1329d2",
   "metadata": {
    "slideshow": {
     "slide_type": "slide"
    }
   },
   "source": [
    "### Decision-making\n",
    "\n",
    "Decision-making designates the cognitive process resulting in a decision."
   ]
  },
  {
   "cell_type": "markdown",
   "id": "388ce0c4",
   "metadata": {
    "slideshow": {
     "slide_type": "slide"
    }
   },
   "source": [
    "### The sequential nature of decision-making\n",
    "\n",
    "Humans and animals make their decisions after a **deliberation** phase.\n",
    "\n",
    "Many decisions are based on information that unfolds over time (example: cues for solving an homicide).\n",
    "\n",
    "Even if all informative data is immediately available (example: a chess position), it has to be treated **sequentially** by our nervous system, reflecting its inability to process information simultaneously."
   ]
  },
  {
   "cell_type": "markdown",
   "id": "8a2b7aac",
   "metadata": {
    "slideshow": {
     "slide_type": "slide"
    }
   },
   "source": [
    "### From stimulus to response\n",
    "\n",
    "**Decision-making** can be formalized as the mapping from a stimulus to a response.\n",
    "\n",
    "Time between stimulus and response execution is called **Reaction Time** or **Response Time** (RT) {cite}`forstmannSequentialSamplingModels2016`, {cite}`myersPracticalIntroductionUsing2022`.\n",
    "\n",
    "$$RT = T_e+T_d+T_r$$\n",
    "\n",
    "$T_{er}= T_e+T_r$ is called **non-decision time**.\n",
    "\n",
    "![Response Time](_images/response_time.png)"
   ]
  },
  {
   "cell_type": "markdown",
   "id": "d261b57a",
   "metadata": {
    "slideshow": {
     "slide_type": "slide"
    }
   },
   "source": [
    "### Speed/accuracy tradeoff\n",
    "\n",
    "All decisions are made under time pressure {cite}`forstmannSequentialSamplingModels2016`. The balance between response time and accuracy is called the **speed/accuracy trade-off**.\n",
    "\n",
    "It is at least partially under conscious control: decision-makers can decide to make faster decisions at the expense of an higher error rate, or slower, more accurate decisions {cite}`ratcliffDiffusionDecisionModel2016`. This complicates the interpretation of behavioral data.\n",
    "\n",
    "Ideally, what is needed is a way to evaluate data that considers not only accuracy and speed, but the interaction between them {cite}`myersPracticalIntroductionUsing2022`."
   ]
  },
  {
   "cell_type": "markdown",
   "id": "e05316f5",
   "metadata": {
    "slideshow": {
     "slide_type": "slide"
    }
   },
   "source": [
    "### The cognitive processes of decision-making\n",
    "\n",
    "![Cognitive processes of decision-making](_images/decision-making_processes.png)\n",
    "\n",
    "{cite}`bogaczOptimalDecisionmakingTheories2007`"
   ]
  },
  {
   "cell_type": "markdown",
   "id": "541ec7cb",
   "metadata": {
    "slideshow": {
     "slide_type": "slide"
    }
   },
   "source": [
    "## Modeling speeded decision-making"
   ]
  },
  {
   "cell_type": "markdown",
   "id": "c831804a",
   "metadata": {
    "slideshow": {
     "slide_type": "slide"
    }
   },
   "source": [
    "### Context\n",
    "\n",
    "One approach to understanding decision-making is through **computational models**.\n",
    "\n",
    "Several models have been developed to account for the speed/accuracy trade-off and explain how people and animals make decisions under time pressure.\n",
    "\n",
    "Historically, most research on the dynamics of decision-making has been focused on simple, repeatable problems involving fast binary-choice decisions with one correct answer."
   ]
  },
  {
   "cell_type": "markdown",
   "id": "4d6b1787",
   "metadata": {
    "slideshow": {
     "slide_type": "slide"
    }
   },
   "source": [
    "#### Task examples\n",
    "\n",
    "- Lexical decision tasks: pressing one key if the stimulus is a word or another if it is a non-word.\n",
    "- [Stroop tasks](https://en.wikipedia.org/wiki/Stroop_effect).\n",
    "- Saccadic flanker tasks: moving the eye in the direction indicated by a central stimulus, ignoring the directionality of flanker stimuli.\n",
    "- *Random Dot Kinematogram* (RDK): judging whether a subset of dots move to the left or to the right.\n",
    "\n",
    "![RDK](_images/rdk.png)"
   ]
  },
  {
   "cell_type": "markdown",
   "id": "1a766818",
   "metadata": {
    "slideshow": {
     "slide_type": "slide"
    }
   },
   "source": [
    "#### Measures of interest\n",
    "\n",
    "- Response times (RTs) for correct responses and for error responses.\n",
    "- Distributions of RTs across trials.\n",
    "- Proportion of correct responses (accuracy)."
   ]
  },
  {
   "cell_type": "markdown",
   "id": "86395d24",
   "metadata": {
    "slideshow": {
     "slide_type": "slide"
    }
   },
   "source": [
    "### Sequential sampling\n",
    "\n",
    "A popular class of models assumes that, on each trial, the decision maker accumulates noisy samples of information from the environment until a **threshold** of evidence is reached.\n",
    "\n",
    "Such accumulation-to-threshold models are known as **sequential sampling models**, a.k.a. **evidence accumulation models**.\n",
    "\n",
    "Different approaches to sequential sampling coexist. A key distinction is the number of **accumulators** (structures for gathering evidence in favor of one response) and whether they are independent from one another.\n",
    "\n",
    "An accumulator is also called a **Decision Variable** (DV)."
   ]
  },
  {
   "cell_type": "markdown",
   "id": "340b6e9a",
   "metadata": {
    "slideshow": {
     "slide_type": "slide"
    }
   },
   "source": [
    "#### Example: sequential sampling for RDK\n",
    "\n",
    "![Sequential sampling for RDK](_images/eam_rdk.png)"
   ]
  },
  {
   "cell_type": "markdown",
   "id": "edc43fc3",
   "metadata": {
    "slideshow": {
     "slide_type": "slide"
    }
   },
   "source": [
    "### The sequential sampling model family\n",
    "\n",
    "![Sequential Sampling model landscape](_images/sequential_sampling_models.png)"
   ]
  },
  {
   "cell_type": "markdown",
   "id": "c12ed54b",
   "metadata": {
    "slideshow": {
     "slide_type": "slide"
    }
   },
   "source": [
    "### Accumulator models\n",
    "\n",
    "These models, also known as **race models**,  have independent accumulators (one per possible choice) and an **absolute** evidence response rule (two fixed thresholds, once for each accumulator). The process stops once one of the accumulators reaches its threshold.\n",
    "\n",
    "![Illustration of an accumulator model](_images/race_model.png)"
   ]
  },
  {
   "cell_type": "markdown",
   "id": "bf0e6222",
   "metadata": {
    "slideshow": {
     "slide_type": "slide"
    }
   },
   "source": [
    "### Random walk models\n",
    "\n",
    "These models use a **relative** evidence rule: a response is initiated as soon as the difference in accumulated evidence reaches a predefined threshold, also called a **criterion**.\n",
    "\n",
    "![Illustration of a random walk model](_images/random_walk.png)"
   ]
  },
  {
   "cell_type": "markdown",
   "id": "a1460278",
   "metadata": {
    "slideshow": {
     "slide_type": "slide"
    }
   },
   "source": [
    "#### Problem example: the gambler's ruin\n",
    "\n",
    "Two gamblers A and B have a (possibly different) starting capital and play a series of independant games against each other. Every game has a fixed chance $p$ of being won by gambler A. After each game, the winner obtains one unit of the other player’s capital. The process continues until one of the gamblers is bankrupt.\n",
    "\n",
    "This problem can be modelised as a random walk, with $p$ representing the **drift** of the process. Depending on the value of $p$, the process will drift towards one of the thresholds (gambler B’s bankruptcy if $p>0.5$)."
   ]
  },
  {
   "cell_type": "markdown",
   "id": "85f7cf76",
   "metadata": {
    "slideshow": {
     "slide_type": "slide"
    }
   },
   "source": [
    "### Mathematical modeling\n",
    "\n",
    "- $K$: number of possible states of the world. For binary choices, $K=2$.\n",
    "- $h_k, k \\in [1,K]$: hypothesis (state). Examples: dot movement type, presence of a stimulus, etc.\n",
    "- $H_k, k \\in [1,K]$: choice associated with hypothesis $h_k$.\n",
    "- $P(h_k)$: probability that $h_k$ is true before obtaining any evidence about it.\n",
    "- $n$: number of evidences received.\n",
    "- $e_i, i \\in [1,n]$: evidence (noisy information) and guiding commitment to a particular hypothesis $h_k$.\n",
    "- $P(e_i|h_k)$: likelihood (values that $e_i$ can attain when $h_k$ is true)."
   ]
  },
  {
   "cell_type": "markdown",
   "id": "c8e5c412",
   "metadata": {
    "slideshow": {
     "slide_type": "slide"
    }
   },
   "source": [
    "### Sequential Probability Ratio Test\n",
    "\n",
    "Particular form of **sequential analysis** for binary decisions ($K=2$) where the DV is constructed from multiple, independent pieces of evidence $e_1, e_2, \\dots, e_n$ as the logarithm of the likelihood ratio between hypotheses $h_1$ and $h_2$.\n",
    "\n",
    "$$DV_n = \\sum_{i=1}^n log \\frac{P(e_i|h_1)}{P(e_i|h_2)} = \\sum_{i=1}^n w_i$$\n",
    "\n",
    "- $w_i, i \\in [1,n]$: weight of the $i$th evidence.\n",
    "\n",
    "The DV is updated with new pieces of evidence until reaching a criterion.\n",
    "\n",
    "SPRT is the most efficient statistical test for deciding between two hypotheses on this kind of problem: it achieves a desired error rate with the smallest number of samples, on average {cite}`waldOptimumCharacterSequential1948`."
   ]
  },
  {
   "cell_type": "markdown",
   "id": "929299d5",
   "metadata": {
    "slideshow": {
     "slide_type": "slide"
    }
   },
   "source": [
    "#### Problem example: trick or fair coin\n",
    "\n",
    "Two coins are placed in a bag: one is fair (50% chance of obtaining heads or tails when tossing it), the other not (60/40). One of the coins is drawn from the bag: is it a trick ($h_1$) or a fair ($h_2$) coin? How many tosses are needed for this decision?\n",
    "\n",
    "$$\\forall i \\in[1,n], w_i=\n",
    "    \\begin{cases}\n",
    "      \\log \\frac{P(e_{heads}|h_1)}{P(e_{heads}|h_2)} = \\log \\frac{0.6}{0.5} = 0.182 & \\text{if toss gives \"heads\"} \\\\\n",
    "      \\log \\frac{P(e_{tails}|h_1)}{P(e_{tails}|h_2)} = \\log \\frac{0.4}{0.5} = -0.223 & \\text{if toss gives \"tails\"}\n",
    "    \\end{cases}$$\n",
    "\n",
    "$$\\text{If}\\ DV_n \\ge \\frac{1-\\alpha}{\\alpha}, \\text{answer \"trick\".}\\ \\text{If}\\ DV_n \\le \\frac{\\alpha}{1-\\alpha}, \\text{answer \"fair\".}$$\n",
    "\n",
    "With $\\alpha = P(H_2|h_1) = P(H_1|h_2)$ the probability of misidentifying a coin.\n",
    "\n",
    "For $\\alpha=0.05$, a decision happens when $|DV_n| \\ge \\log(19)$."
   ]
  },
  {
   "cell_type": "markdown",
   "id": "e090dba9",
   "metadata": {
    "slideshow": {
     "slide_type": "slide"
    }
   },
   "source": [
    "### Diffusion models\n",
    "\n",
    "When the evidence is continously sampled from a distribution in infinitesimal time steps, the process is termed **diffusion** with drift $\\mu$. When $\\mu$ is constant, this process is known as [Brownian motion](https://en.wikipedia.org/wiki/Brownian_motion) or Wiener diffusion process {cite}`goldNeuralBasisDecision2007`.\n",
    "\n",
    "![Diffusion model](_images/diffusion_model.png)\n",
    "\n",
    "> The diffusion models for decision-making are not to be confused with the [diffusion models of Machine Learning](https://en.wikipedia.org/wiki/Diffusion_model)."
   ]
  },
  {
   "cell_type": "markdown",
   "id": "0ebc6fc8",
   "metadata": {
    "slideshow": {
     "slide_type": "slide"
    }
   },
   "source": [
    "### The Diffusion Decision Model\n",
    "\n",
    "This model, also called **Drift Diffusion Model (DDM)**, is a sequential sampling model for binary choices in continuous environments {cite}`ratcliffDiffusionDecisionModel2008`.\n",
    "\n",
    "Originally designed in the 1970's {cite}`ratcliff1978theory`, it has recently experienced a surge in popularity. A growing body of literature is using the DDM to elucidate the cognitive processes of decision-making."
   ]
  },
  {
   "cell_type": "markdown",
   "id": "78d95346",
   "metadata": {
    "slideshow": {
     "slide_type": "slide"
    }
   },
   "source": [
    "#### Parameters\n",
    "\n",
    "|Name|Description|Typical range|Implements|\n",
    "|-|-|-|-|\n",
    "|$a$|Boundary separation|$[0.5,2]$ (in arbitrary units)|Speed/accuracy trade-off|\n",
    "|$z$|Starting point|$[0,1]$ (as proportion of $a$)|Response bias|\n",
    "|$v$|Drift rate|$[-5,5]$|Speed of evidence accumulation processing|\n",
    "|$T_{er}$|Non-decision time|$[0.1,0.5]$ (in seconds)|Neurological processes for stimulus encoding and motor response|\n",
    "\n",
    "![DDM](_images/ddm.png)"
   ]
  },
  {
   "cell_type": "markdown",
   "id": "70aadead",
   "metadata": {
    "slideshow": {
     "slide_type": "slide"
    }
   },
   "source": [
    "#### Advantages\n",
    "\n",
    "- Experimental validation has shown that:\n",
    "  - DDM parameters do capture recognizable, and at least partly separable, cognitive processes.\n",
    "  - DDM provides an explanation for some of the dynamics of neuronal activity in brains.\n",
    "- Several software packages like [HDDM](https://hddm.readthedocs.io/en/latest/) facilitate fitting the model to experimental data, or generating simulated data."
   ]
  },
  {
   "cell_type": "markdown",
   "id": "fde518ef",
   "metadata": {
    "slideshow": {
     "slide_type": "slide"
    }
   },
   "source": [
    "#### Applications\n",
    "\n",
    "##### Behavioral analysis\n",
    "\n",
    "- **Aging**: DDM-based studies showed that older adults had slower non-decision times and set wider boundaries, but their drift rates were not always lower than those of young adults.\n",
    "- **IQ**: DDM-based analyses showed showed that drift rate varied with IQ, but boundary separation and nondecision time did not.\n",
    "- Other studies showed that **sleep deprivation** and **alcohol consumption** lower drift rate, but have either small or no effect on boundary separation and non-decision time.\n",
    "- ..."
   ]
  },
  {
   "cell_type": "markdown",
   "id": "e8794362",
   "metadata": {
    "slideshow": {
     "slide_type": "slide"
    }
   },
   "source": [
    "##### Low-level neuroscience\n",
    "\n",
    "Studies {cite}`Gold2001-xr` uses DDM as inspiration to interpret neuron firing rates in monkeys as evidence accumulation until a threshold is reached.\n",
    "\n",
    "![Firing rate in monkeys](_images/ddm_firing_rate.png)"
   ]
  },
  {
   "cell_type": "markdown",
   "id": "2ff1154d",
   "metadata": {
    "slideshow": {
     "slide_type": "slide"
    }
   },
   "source": [
    "##### High-level neuroscience\n",
    "\n",
    "Studies correlate parameter estimates from DDM models to the blood-oxygen-level dependent signal obtained from fMRI experiments in perceptual decision-making.\n",
    "\n",
    "![Brain activity & DDM](_images/ddm_brain_activity.png)"
   ]
  },
  {
   "cell_type": "markdown",
   "id": "14510021",
   "metadata": {
    "slideshow": {
     "slide_type": "slide"
    }
   },
   "source": [
    "#### Extension to dynamic thresholds\n",
    "\n",
    "Collapsing-bound models translate the fact that in some cases, decisions are based on less and less evidence as time passes.\n",
    "\n",
    "![DDM extension:dynamic thresholds](_images/ddm_dyn_thresholds.png)"
   ]
  },
  {
   "cell_type": "markdown",
   "id": "b5bd56cf",
   "metadata": {
    "slideshow": {
     "slide_type": "slide"
    }
   },
   "source": [
    "### Relationships between models\n",
    "\n",
    "Cortical models ({cite}`Shadlen2001-lo`, {cite}`Usher2001-di`, {cite}`Wang2002-vn`) can be reduced to the diffusion model for parameter values that optimize their performance {cite}`bogaczOptimalDecisionmakingTheories2007`.\n",
    "\n",
    "![DDM & cortical models](_images/ddm_cortical_models.png)"
   ]
  },
  {
   "cell_type": "markdown",
   "id": "993262bb",
   "metadata": {
    "slideshow": {
     "slide_type": "slide"
    }
   },
   "source": [
    "## Learning and decision-making"
   ]
  },
  {
   "cell_type": "code",
   "execution_count": null,
   "id": "a7716d5b",
   "metadata": {},
   "outputs": [],
   "source": []
  }
 ],
 "metadata": {
  "celltoolbar": "Diaporama",
  "kernelspec": {
   "display_name": "Python 3 (ipykernel)",
   "language": "python",
   "name": "python3"
  },
  "language_info": {
   "codemirror_mode": {
    "name": "ipython",
    "version": 3
   },
   "file_extension": ".py",
   "mimetype": "text/x-python",
   "name": "python",
   "nbconvert_exporter": "python",
   "pygments_lexer": "ipython3",
   "version": "3.11.1"
  }
 },
 "nbformat": 4,
 "nbformat_minor": 5
}
