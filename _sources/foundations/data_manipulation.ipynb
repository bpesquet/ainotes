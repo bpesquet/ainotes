{
 "cells": [
  {
   "cell_type": "markdown",
   "id": "861e81bb",
   "metadata": {
    "slideshow": {
     "slide_type": "slide"
    }
   },
   "source": [
    "# Data manipulation"
   ]
  },
  {
   "cell_type": "markdown",
   "id": "49f1121e",
   "metadata": {
    "slideshow": {
     "slide_type": "slide"
    }
   },
   "source": [
    "## Environment setup"
   ]
  },
  {
   "cell_type": "code",
   "execution_count": 1,
   "id": "cf817248",
   "metadata": {},
   "outputs": [
    {
     "name": "stdout",
     "output_type": "stream",
     "text": [
      "Python version: 3.11.1\n",
      "PyTorch version: 2.0.1\n"
     ]
    }
   ],
   "source": [
    "import platform\n",
    "import torch\n",
    "\n",
    "print(f\"Python version: {platform.python_version()}\")\n",
    "print(f\"PyTorch version: {torch.__version__}\")"
   ]
  },
  {
   "cell_type": "code",
   "execution_count": 2,
   "id": "43641d42",
   "metadata": {
    "slideshow": {
     "slide_type": "slide"
    }
   },
   "outputs": [
    {
     "name": "stdout",
     "output_type": "stream",
     "text": [
      "Metal GPU found :)\n"
     ]
    }
   ],
   "source": [
    "# Device configuration\n",
    "if torch.cuda.is_available():\n",
    "    device = torch.device(\"cuda\")\n",
    "    print(f\"CUDA GPU {torch.cuda.get_device_name(0)} found :)\")\n",
    "elif torch.backends.mps.is_available():\n",
    "    device = torch.device(\"mps\")\n",
    "    print(\"Metal GPU found :)\")\n",
    "else:\n",
    "    device = torch.device(\"cpu\")\n",
    "    print(\"No available GPU :/\")"
   ]
  },
  {
   "cell_type": "markdown",
   "id": "39014f05",
   "metadata": {
    "slideshow": {
     "slide_type": "slide"
    }
   },
   "source": [
    "## Working with tensors"
   ]
  },
  {
   "cell_type": "markdown",
   "id": "327a5386",
   "metadata": {
    "slideshow": {
     "slide_type": "slide"
    }
   },
   "source": [
    "### Definition\n",
    "\n",
    "In the context of AI, a **tensor** is a set of primitive values sharing the same type (most often numerical), shaped into an array of any number of dimensions. It is a fancy name for a multidimensional array.\n",
    "\n",
    "Tensors are heavily used by AI algorithms to represent and manipulate information. They are, in particular, the core data structures of Machine Learning."
   ]
  },
  {
   "cell_type": "markdown",
   "id": "d856bb40",
   "metadata": {
    "slideshow": {
     "slide_type": "slide"
    }
   },
   "source": [
    "### Tensor properties\n",
    "\n",
    "- A tensor's dimension is also called an **axis**.\n",
    "- A tensor's **rank** is its number of axes.\n",
    "- The tensor's **shape** describes the number of values along each axis.\n",
    "\n",
    "In mathematical terms, a rank 0 tensor is a **scalar**, a rank 1 tensor is a **vector** and a rank 2 tensor is a **matrix**.\n",
    "\n",
    "> Warning: *rank* and *dimension* are polysemic terms, which can be confusing."
   ]
  },
  {
   "cell_type": "markdown",
   "id": "3eacf661",
   "metadata": {
    "slideshow": {
     "slide_type": "slide"
    }
   },
   "source": [
    "### Tensors in Python\n",
    "\n",
    "Python offers limited native support for manipulating tensors. Lists can be used to store information, but their mathematical capacities are insufficient for any serious work."
   ]
  },
  {
   "cell_type": "code",
   "execution_count": 3,
   "id": "c78aa7f7",
   "metadata": {},
   "outputs": [
    {
     "name": "stdout",
     "output_type": "stream",
     "text": [
      "[1, 2, 3]\n",
      "[[1, 2, 3], [4, 5, 6]]\n"
     ]
    }
   ],
   "source": [
    "# A vector (rank 1 tensor)\n",
    "a = [1, 2, 3]\n",
    "print(a)\n",
    "\n",
    "# A matrix (rank 2 tensor)\n",
    "b = [a, [4, 5, 6]]\n",
    "print(b)"
   ]
  },
  {
   "cell_type": "markdown",
   "id": "327c51f1",
   "metadata": {
    "slideshow": {
     "slide_type": "slide"
    }
   },
   "source": [
    "### Dedicated libraries\n",
    "\n",
    "Over the years, several tools have been developed to overcome Python's native limitations. One of the most widely used is [NumPy](https://numpy.org/), which supports tensors in the form of `ndarray` objects. It offers a comprehensive set of operations on them, including creating, sorting, selecting, linear algebra and statistical operations.\n",
    "\n",
    "For all its qualities, NumPy has a limitation which can be critical in some contexts: it only runs on the machine's [CPU](https://en.wikipedia.org/wiki/Processor_(computing)). Among other advantages, newer tools offer support for dedicated high-performance processors like [GPUs](https://en.wikipedia.org/wiki/Graphics_processing_unit) or [TPUs](https://en.wikipedia.org/wiki/Tensor_Processing_Unit), while providing a NumPy-like API to make onboarding easier. The most prominent ones are currently [TensorFlow](https://www.tensorflow.org/), [PyTorch](https://pytorch.org) and [JAX](https://jax.readthedocs.io).\n",
    "\n",
    "This content uses PyTorch, which strikes a good balance between power, flexibility and user-friendliness."
   ]
  },
  {
   "cell_type": "code",
   "execution_count": null,
   "id": "f8f478e3",
   "metadata": {},
   "outputs": [],
   "source": []
  }
 ],
 "metadata": {
  "kernelspec": {
   "display_name": "Python 3 (ipykernel)",
   "language": "python",
   "name": "python3"
  },
  "language_info": {
   "codemirror_mode": {
    "name": "ipython",
    "version": 3
   },
   "file_extension": ".py",
   "mimetype": "text/x-python",
   "name": "python",
   "nbconvert_exporter": "python",
   "pygments_lexer": "ipython3",
   "version": "3.11.1"
  }
 },
 "nbformat": 4,
 "nbformat_minor": 5
}
