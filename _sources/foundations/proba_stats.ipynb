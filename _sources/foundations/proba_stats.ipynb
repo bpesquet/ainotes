{
 "cells": [
  {
   "cell_type": "markdown",
   "id": "f869a02b",
   "metadata": {
    "slideshow": {
     "slide_type": "slide"
    }
   },
   "source": [
    "# Probability & statistics\n",
    "\n",
    "> \"Probability deals with knowing the model of our world and use it for deductions. Statistics deal with trying to identify this model based on observation of reality.\"\n",
    "\n",
    "```{warning}\n",
    "This chapter is under construction.\n",
    "```"
   ]
  },
  {
   "cell_type": "markdown",
   "id": "e1cd01e7",
   "metadata": {
    "slideshow": {
     "slide_type": "slide"
    }
   },
   "source": [
    "## Environment setup"
   ]
  },
  {
   "cell_type": "code",
   "execution_count": 5,
   "id": "9ba85d55",
   "metadata": {
    "slideshow": {
     "slide_type": "slide"
    }
   },
   "outputs": [
    {
     "name": "stdout",
     "output_type": "stream",
     "text": [
      "Python version: 3.11.1\n",
      "PyTorch version: 2.2.1\n"
     ]
    }
   ],
   "source": [
    "import platform\n",
    "\n",
    "import torch\n",
    "\n",
    "# Print environment info\n",
    "print(f\"Python version: {platform.python_version()}\")\n",
    "print(f\"PyTorch version: {torch.__version__}\")"
   ]
  },
  {
   "cell_type": "markdown",
   "id": "e64d3748",
   "metadata": {
    "slideshow": {
     "slide_type": "slide"
    }
   },
   "source": [
    "## Fundamentals"
   ]
  },
  {
   "cell_type": "markdown",
   "id": "ffd21f7c",
   "metadata": {
    "slideshow": {
     "slide_type": "slide"
    }
   },
   "source": [
    "### Random experiment (a.k.a. trial)\n",
    "\n",
    "Experiment implying some randomness. Knowing the experimental conditions is not enough to predict its outcome. Opposite of *deterministic experiment*.\n",
    "\n",
    "Example: throwing a 6-sided dice."
   ]
  },
  {
   "cell_type": "markdown",
   "id": "58c45508",
   "metadata": {
    "slideshow": {
     "slide_type": "slide"
    }
   },
   "source": [
    "### Sample space\n",
    "\n",
    "Set of all possible outcomes for the random experiment, also called *universe* of the random experiment. Denoted by $\\Omega$ or $S$. Can either be finite or infinitely large.\n",
    "\n",
    "Example: $\\Omega = \\{1,2,3,4,5,6\\}$."
   ]
  },
  {
   "cell_type": "markdown",
   "id": "798dc44d",
   "metadata": {
    "slideshow": {
     "slide_type": "slide"
    }
   },
   "source": [
    "### Event\n",
    "\n",
    "An **event** $A$ is a subset of the sample space: $A \\subseteq \\Omega$.\n",
    "\n",
    "$\\Omega$ is the certain event. $\\emptyset$ is the impossible event.\n",
    "\n",
    "An event is a set of **elementary events**. An elementary event $\\omega \\in \\Omega$ is an observed outcome of the random experiment. If $\\omega \\in A$, then event $A$ has occurred.\n",
    "\n",
    "Example: $A \\equiv \\text{\"obtaining an odd number\"}$. $A= \\{1,3,5\\}$."
   ]
  },
  {
   "cell_type": "markdown",
   "id": "ab51660f",
   "metadata": {
    "slideshow": {
     "slide_type": "slide"
    }
   },
   "source": [
    "#### Relationships between events\n",
    "\n",
    "* Inclusion $A \\subset B$. If $A$ occurs, $B$ occurs too.\n",
    "* Equality $A = B$. All elements are identical for both events.\n",
    "* Incompatibility (no shared elements). The events cannot occur simultaneously.\n",
    "\n",
    "Example: $A \\equiv \\text{\"obtaining an odd number\"}$ and $B \\equiv \\text{\"obtaining an even number\"}$ are incompatible."
   ]
  },
  {
   "cell_type": "markdown",
   "id": "6770d5eb",
   "metadata": {
    "slideshow": {
     "slide_type": "slide"
    }
   },
   "source": [
    "#### Composition of events\n",
    "\n",
    "* Negation $A^\\star = \\Omega \\backslash A$ ($\\Omega$ minus $A$). Occurs if and only if $A$ does not occur.\n",
    "* Conjunction $A \\cap B$. Occurs if and only if $A$ and $B$ occur simultaneously.\n",
    "* Union $A \\cup B$. Occurs if either $A$ or $B$ occurs.\n",
    "* Generalization to $n$ events:\n",
    "  * $\\bigcap_{i=1}^{n} A_i =  A_1 \\cap A_2 \\cap \\cdots \\cap A_n$ (All $A_i$ events occured simutaneously)\n",
    "  * $\\bigcup_{i=1}^{n} A_i =  A_1 \\cup A_2 \\cup \\cdots \\cup A_n$ (At least one of the $A_i$ events occurred)\n",
    "  * $(\\bigcap_{i=1}^{n} A_i) \\subseteq (\\bigcup_{i=1}^{n} A_i)$\n",
    "\n",
    "Example: $A \\equiv \\text{\"obtaining an odd number\"}$. $A^\\star = \\{2,4,6\\}$."
   ]
  },
  {
   "cell_type": "markdown",
   "id": "6d34189f",
   "metadata": {
    "slideshow": {
     "slide_type": "slide"
    }
   },
   "source": [
    "##### Example: Venn diagrams for event composition\n",
    "\n",
    "![Venn diagrams for events composition](_images/event_composition_venn_diagram.png)\n",
    "\n",
    "- (i): $B \\cap C$\n",
    "- (ii): $B \\cup C$\n",
    "- (iii): $A^\\star \\cap B$"
   ]
  },
  {
   "cell_type": "markdown",
   "id": "beab90e4",
   "metadata": {
    "slideshow": {
     "slide_type": "slide"
    }
   },
   "source": [
    "#### Event algebra\n",
    "\n",
    "* Idempotency: $A \\cup A = A$ and $A \\cap A = A$\n",
    "* Commutativity: $A \\cup B = B \\cup A$ and $A \\cap B = B \\cap A$\n",
    "* Associativity: $(A \\cup B) \\cup C = A \\cup (B \\cup C) = A \\cup B \\cup C$ and $(A \\cap B) \\cap C = A \\cap (B \\cap C) = A \\cap B \\cap C$\n",
    "* Distributivity: $(A \\cup B) \\cap C = (A \\cap C) \\cup (B \\cap C)$ and $(A \\cap B) \\cup C = (A \\cup B) \\cap (B \\cup C)$\n",
    "* Identities : $A \\cup \\emptyset = A$, $A \\cup \\Omega = \\Omega$, $A \\cap \\emptyset = \\emptyset$ and $A \\cap \\Omega = A$\n",
    "* Complementarity: $A \\cup A^* = \\Omega$, $A \\cap A^* = \\emptyset$, $(A^*)^* = A$, $\\emptyset^* = \\Omega$ and $\\Omega^* = \\emptyset$\n",
    "* De Morgan laws:\n",
    "  * $(A \\cup B)^* = A^* \\cap B^*$ and $(A \\cap B)^* = A^* \\cup B^*$\n",
    "  * $(\\bigcup_{i=1}^{n} A_i)^\\star = \\bigcap_{i=1}^{n} A_i^\\star$ and $(\\bigcap_{i=1}^{n} A_i)^\\star = \\bigcup_{i=1}^{n} A_i^\\star$"
   ]
  },
  {
   "cell_type": "markdown",
   "id": "e68bc3a5",
   "metadata": {
    "slideshow": {
     "slide_type": "slide"
    }
   },
   "source": [
    "##### Example: Venn diagrams for events algebra\n",
    "\n",
    "![Venn diagrams for events albegra](_images/event_algebra_venn_diagram.png)\n",
    "\n",
    "- (i): $(B \\cap C)^\\star = B^\\star \\cup C^\\star$\n",
    "- (ii): $((A \\cap B^\\star) \\cup C^\\star)^\\star = (A^\\star \\cap C) \\cup (B \\cap C)$"
   ]
  },
  {
   "cell_type": "markdown",
   "id": "3fa63063",
   "metadata": {
    "slideshow": {
     "slide_type": "slide"
    }
   },
   "source": [
    "#### Event partition\n",
    "\n",
    "An event set $\\{ A_1, \\dots, A_n \\}$ is a **partition** of the sample space if and only if:\n",
    "\n",
    "* No event is impossible: $\\forall i, A_i \\ne \\emptyset$\n",
    "* Events are incompatible two by two: $\\forall i \\ne j, A_i \\cap A_j = \\emptyset$\n",
    "* Union of all events is equal to the sample space: $\\bigcup_{i=1}^{n} A_i = \\Omega$\n",
    "\n",
    "![Event partition](_images/event_partitions.png)"
   ]
  },
  {
   "cell_type": "markdown",
   "id": "9dc8a0f7",
   "metadata": {
    "slideshow": {
     "slide_type": "slide"
    }
   },
   "source": [
    "### Combination of random experiments\n",
    "\n",
    "For two joint experiments characterized by sample spaces $\\Omega_1$ and $\\Omega_2$, we can define a new sample space $\\Omega$ as their cartesian product: $\\Omega = \\Omega_1 \\times \\Omega_2$\n",
    "\n",
    "Example for rolling two 6-sided dices: $\\Omega_1 = \\Omega_2 = \\{1,2,3,4,5,6\\}$ and $\\Omega = \\{(1,1), (1,2), \\dots, (6,5), (6,6) \\}$ (36 couples)."
   ]
  },
  {
   "cell_type": "markdown",
   "id": "a8f5a6e8",
   "metadata": {
    "slideshow": {
     "slide_type": "slide"
    }
   },
   "source": [
    "## Probability basics"
   ]
  },
  {
   "cell_type": "markdown",
   "id": "c0bc03be",
   "metadata": {
    "slideshow": {
     "slide_type": "slide"
    }
   },
   "source": [
    "### Probability of an event\n",
    "\n",
    "#### Classical definition\n",
    "\n",
    "> \"The probability of an event is the ratio of the number of cases favorable to it, to the number of all cases possible when nothing leads us to expect that any one of these cases should occur more than any other, which renders them, for us, equally possible.\" (Laplace, 1819)\n",
    "\n",
    "$$P(A) = \\frac{\\# A}{\\# \\Omega}$$\n",
    "\n",
    "Assumes a finite number of cases and equiprobability between them."
   ]
  },
  {
   "cell_type": "markdown",
   "id": "bc721770",
   "metadata": {
    "slideshow": {
     "slide_type": "slide"
    }
   },
   "source": [
    "##### Example: throwing dices\n",
    "\n",
    "- Throwing a 6-sided dice. $\\Omega = \\{1,2,3,4,5,6\\}$. $A \\equiv$ \"obtaining 5\".\n",
    "\n",
    "$$P(A) = \\frac{\\# A}{\\# \\Omega} = \\frac{1}{6}$$\n",
    "\n",
    "- Throwing two 6-sided dices and summing their values. $\\Omega = \\{2,3,\\dots,12\\}$. $A \\equiv$ \"obtaining 5\".\n",
    "\n",
    "$$P(A) \\neq \\frac{\\# A}{\\# \\Omega} = \\frac{1}{11} \\; \\text{(no equiprobability)}$$\n",
    "\n",
    "$$P(A) = \\frac{\\# A'}{\\# \\Omega'} = \\frac{4}{36} = \\frac{1}{6}$$\n",
    "\n",
    "With $A' = \\{(1,4), (2,3), (3,2), (4,1)\\}$ and $\\Omega'=\\{(1,1), (1,2), \\dots, (6,6)\\}$"
   ]
  },
  {
   "cell_type": "markdown",
   "id": "e3e2b616",
   "metadata": {
    "slideshow": {
     "slide_type": "slide"
    }
   },
   "source": [
    "#### Frequentist definition\n",
    "\n",
    "For $n$ repetitions under the same conditions of a random experiment, $P(A)$ is the theorical frequency of event $A$.\n",
    "\n",
    "$$P(A) = \\lim_{n\\to \\infty} \\frac{\\# A}{n}$$\n",
    "\n",
    "Assumes the possibility of indefinitely repeating an experiment without changing its conditions."
   ]
  },
  {
   "cell_type": "markdown",
   "id": "3c10de35",
   "metadata": {
    "slideshow": {
     "slide_type": "slide"
    }
   },
   "source": [
    "#### Axiomatic definition\n",
    "\n",
    "A **probability** is a number that satisfies the following axioms (Kolmogorov, 1933):\n",
    "\n",
    "* For any event $A$, $P(A) \\ge 0$\n",
    "* $P(\\Omega) = 1$\n",
    "* If events $A$ and $B$ are incompatible ($A \\cap B = \\emptyset $), then $P(A \\cup B) = P(A)+P(B)$"
   ]
  },
  {
   "cell_type": "markdown",
   "id": "cfa660d0",
   "metadata": {
    "slideshow": {
     "slide_type": "slide"
    }
   },
   "source": [
    "#### Properties of probabilities\n",
    "\n",
    "The previous definition has the following consequences:\n",
    "\n",
    "* $P(\\emptyset) = 0$\n",
    "* $P(A) \\le 1$\n",
    "* $P(A^*) = 1 - P(A)$\n",
    "* If $\\forall i \\ne j, A_i \\cap A_j = \\emptyset$, then $P(\\bigcup_{i=1}^{n} A_i) = \\sum_{i=1}^{n} P(A_i)$\n",
    "* $P(A \\cup B) = P(A) + P(B) - P(A \\cap B)$\n",
    "* In the general case, $P(\\bigcup_{i=1}^{n} A_i) \\le \\sum_{i=1}^{n} P(A_i)$"
   ]
  },
  {
   "cell_type": "markdown",
   "id": "1d9d07df",
   "metadata": {
    "slideshow": {
     "slide_type": "slide"
    }
   },
   "source": [
    "### Conditional probability\n",
    "\n",
    "The probability $P(A|B)$ of event $A$ knowing that event $B$ has occurred is given by:\n",
    "\n",
    "$$P(A|B) = \\frac{P(A \\cap B)}{P(B)} \\qquad \\text{with} \\space P(B) \\ne 0$$\n",
    "\n",
    "![Conditional probability](_images/conditional_proba.png)\n",
    "\n",
    "There is no fundamental difference between conditional and non-conditional probabilities: $P(A) = P(A|\\Omega)$"
   ]
  },
  {
   "cell_type": "markdown",
   "id": "d5097e83",
   "metadata": {
    "slideshow": {
     "slide_type": "slide"
    }
   },
   "source": [
    "#### Example: throwing a 6-sided dice\n",
    "\n",
    "$A \\equiv$ \"result is $\\leq$ 3\", $B \\equiv$ \"result is even\", $C \\equiv$ \"result = 6\".\n",
    "\n",
    "![Probabilities for A,B and C](_images/probas_d6.png)\n",
    "\n",
    "- $P(A) = P(B) = \\frac{1}{2}$ even though $A \\neq B$.\n",
    "- $P(A|B) = \\frac{P(A \\cap B)}{P(B)} = \\frac{1}{3}$."
   ]
  },
  {
   "cell_type": "markdown",
   "id": "2d8b3e80",
   "metadata": {
    "slideshow": {
     "slide_type": "slide"
    }
   },
   "source": [
    "#### Properties of conditional probabilities\n",
    "\n",
    "The previous definition has the following consequences:\n",
    "\n",
    "* $P(\\Omega|B) = 1$\n",
    "* $P(\\emptyset|B) = 0$\n",
    "* $P(A^*|B) = 1 - P(A|B)$\n",
    "* If $\\forall i \\ne j, A_i \\cap A_j = \\emptyset$, then $P(\\bigcup_{i=1}^{n} A_i|B) = \\sum_{i=1}^{n} P(A_i|B)$\n",
    "* $P((A \\cup C)|B) = P(A|B)+P(C|B)-P((A \\cap C)|B)$\n",
    "* If $B \\subset A$, $P(A|B) = 1$\n",
    "* If $A \\subset B$, $P(A|B) = \\frac{P(A)}{P(B)} \\ge P(A)$"
   ]
  },
  {
   "cell_type": "markdown",
   "id": "818f87ea",
   "metadata": {
    "slideshow": {
     "slide_type": "slide"
    }
   },
   "source": [
    "### Fundamental probability laws\n",
    "\n",
    "#### General product rule (a.k.a. chain rule)\n",
    "\n",
    "* $P(A \\cap B) = P(A|B)P(B)$\n",
    "* More generally, for any events $A_1, A_2,\\dots,A_n$:\n",
    "\n",
    "$$P(A_1 \\cap \\cdots \\cap A_n ) = P(A_1)P(A_2|A_1)P(A_3|(A_1 \\cap A_2)) \\dots P(A_n|(A_1 \\cap \\cdots \\cap A_{n-1}))$$"
   ]
  },
  {
   "cell_type": "markdown",
   "id": "e9ff6b61",
   "metadata": {
    "slideshow": {
     "slide_type": "slide"
    }
   },
   "source": [
    "#### Law of total probability\n",
    "\n",
    "If the set of events $\\{B_1, B_2, \\dots, B_n\\}$ is a partition of $\\Omega$, then:\n",
    "\n",
    "$$P(A) = \\sum_{i=1}^{n} P(A|B_i)P(B_i)$$\n",
    "\n",
    "![Law of total probability](_images/law_total_probas.png)"
   ]
  },
  {
   "cell_type": "markdown",
   "id": "672b9542",
   "metadata": {
    "slideshow": {
     "slide_type": "slide"
    }
   },
   "source": [
    "#### Bayes' theorem\n",
    "\n",
    "For any two events $A$ and $B$:\n",
    "\n",
    "$$P(B|A) = \\frac{P(A|B)P(B)}{P(A)}$$\n",
    "\n",
    "If the set of events $\\{B_1, B_2, \\dots, B_n\\}$ is a partition of $\\Omega$, then:\n",
    "\n",
    "$$P(B_i|A) = \\frac{P(A|B_i)P(B_i)}{\\sum_{j=1}^{n} P(A|B_j)P(B_j)}$$\n",
    "\n",
    "$P(B_i)$ is the *prior* probability (known before the random experiment). $P(B_i|A)$ is the *posterior* probability.\n",
    "\n",
    "The $B_i$ events can be seen as the possible causes responsible for the occurrence of $A$."
   ]
  },
  {
   "cell_type": "markdown",
   "id": "b898ab48",
   "metadata": {
    "slideshow": {
     "slide_type": "slide"
    }
   },
   "source": [
    "### Independance between events\n",
    "\n",
    "For any two events $A$ and $B$:\n",
    "\n",
    "$$A \\perp B \\Longleftrightarrow P(A \\cap B) = P(A)P(B) \\Longleftrightarrow P(A|B)=P(A) \\; \\text{with} \\; P(B) \\neq 0$$\n",
    "\n",
    "For any events $A_1,\\dots,A_n$:\n",
    "\n",
    "$$A_1 \\perp \\dots \\perp A_n \\Longleftrightarrow P (\\bigcap_{j \\in J} A_j) = \\prod_{j \\in J} P(A_j) \\; \\text{for every} \\; J \\subseteq \\{1,\\dots,n\\}$$"
   ]
  },
  {
   "cell_type": "markdown",
   "id": "40fe9af0",
   "metadata": {
    "slideshow": {
     "slide_type": "slide"
    }
   },
   "source": [
    "#### Conditional independance\n",
    "\n",
    "For any three events $A$, $B$ and $C$:\n",
    "\n",
    "$$(A \\perp B)|C \\Longleftrightarrow P((A \\cap B)|C) = P(A|C)P(B|C)$$"
   ]
  },
  {
   "cell_type": "markdown",
   "id": "565c502d",
   "metadata": {
    "slideshow": {
     "slide_type": "slide"
    }
   },
   "source": [
    "#### Independance between trials\n",
    "\n",
    "Two experiments characterized by sample spaces $\\Omega_1$ and $\\Omega_2$ are independant if and only if:\n",
    "\n",
    "$$P(A \\times B) = P(A)P(B) \\qquad \\forall A \\in \\Omega_1, B \\in \\Omega_2$$"
   ]
  },
  {
   "cell_type": "markdown",
   "id": "def8cc20",
   "metadata": {
    "slideshow": {
     "slide_type": "slide"
    }
   },
   "source": [
    "#### Example : throwing a 6-sided dice twice\n",
    "\n",
    "$A_i \\equiv$ \"obtaining number $i$ at first throw\", $B_j \\equiv$ \"obtaining number $j$ at second throw\".\n",
    "\n",
    "$$P(A_i \\times B_j) = P(A_i)P(B_j) = \\frac{1}{6} \\times \\frac{1}{6} = \\frac{1}{36}$$"
   ]
  },
  {
   "cell_type": "markdown",
   "id": "338409e0",
   "metadata": {
    "slideshow": {
     "slide_type": "slide"
    }
   },
   "source": [
    "## Random variables"
   ]
  },
  {
   "cell_type": "markdown",
   "id": "b5cd0cd5",
   "metadata": {
    "slideshow": {
     "slide_type": "slide"
    }
   },
   "source": [
    "### Definition\n",
    "\n",
    "A random varialbe $X$ is an application from $\\Omega$ to $\\mathbb{R}$ that associates a value $x=X(\\omega) \\in \\mathbb{R}_X$ to each elementary event $\\omega \\in \\Omega$.\n",
    "\n",
    "$\\mathbb{R}_X \\subseteq \\mathbb{R}$ is called the *variation domain* of $X$."
   ]
  },
  {
   "cell_type": "markdown",
   "id": "84f07ff1",
   "metadata": {
    "slideshow": {
     "slide_type": "slide"
    }
   },
   "source": [
    "#### Example: throwing a 6-sided dice\n",
    "\n",
    "The financial gain can be defined as a random variable $X$.\n",
    "\n",
    "$\\mathbb{R}_X = \\{-5,0,5\\}$\n",
    "\n",
    "![Random variable example](_images/random_variable_example.png)"
   ]
  },
  {
   "cell_type": "markdown",
   "id": "253bd03b",
   "metadata": {
    "slideshow": {
     "slide_type": "slide"
    }
   },
   "source": [
    "### Discrete random variables\n",
    "\n",
    "#### Probability function\n",
    "\n",
    "It associates to each value $x$ the probability $p(x)$ that the random variable $X$ takes this value.\n",
    "\n",
    "$$p(x) =\n",
    "    \\begin{cases}\n",
    "      P(X=x) \\qquad \\text{if} \\; x \\in \\mathbb{R}_X \\\\\n",
    "      0 \\qquad \\qquad \\;\\;\\;\\; \\text{if} \\; x \\notin \\mathbb{R}_X\n",
    "    \\end{cases}$$\n",
    "\n",
    "$$\\forall x \\in \\mathbb{R}, p(x) \\ge 0$$\n",
    "\n",
    "$$\\sum_{i=1}^n p(x_i) = \\sum_{i=1}^n P(X=x_i) = P(\\bigcup_{i=1}^n X = x_i) = 1$$"
   ]
  },
  {
   "cell_type": "markdown",
   "id": "120eeee7",
   "metadata": {
    "slideshow": {
     "slide_type": "slide"
    }
   },
   "source": [
    "##### Example 1: throwing a 6-sided dice twice (followup)\n",
    "\n",
    "|$x$|$-5$|$0$|$5$|\n",
    "|-|-|-|-|\n",
    "|$p(x)$|$\\frac{1}{6}$|$\\frac{2}{3}$|$\\frac{1}{6}$|"
   ]
  },
  {
   "cell_type": "markdown",
   "id": "0f8d4f78",
   "metadata": {
    "slideshow": {
     "slide_type": "slide"
    }
   },
   "source": [
    "##### Example 2: number of major earthquakes in a century\n",
    "\n",
    "![Probability function example](_images/proba_function_example.png)"
   ]
  },
  {
   "cell_type": "markdown",
   "id": "9d07dbd8",
   "metadata": {
    "slideshow": {
     "slide_type": "slide"
    }
   },
   "source": [
    "#### Probability of an event related to a random variable\n",
    "\n",
    "For an event $B \\subseteq \\mathbb{R}_X$, its probability is given by:\n",
    "\n",
    "$$P(B) = \\sum_{x \\in B} p(x)$$"
   ]
  },
  {
   "cell_type": "markdown",
   "id": "8c3a8829",
   "metadata": {
    "slideshow": {
     "slide_type": "slide"
    }
   },
   "source": [
    "##### Example: throwing a 6-sided dice twice (followup)\n",
    "\n",
    "$B \\equiv$ \"not losing money\".\n",
    "\n",
    "$$P(B) = P(X \\ge 0) = \\frac{5}{6}$$"
   ]
  },
  {
   "cell_type": "markdown",
   "id": "292de3a0",
   "metadata": {
    "slideshow": {
     "slide_type": "slide"
    }
   },
   "source": [
    "#### Distribution function\n",
    "\n",
    "$$F(x) = P(X \\le x) = \\sum_{x_i \\le x} p(x_i) \\qquad \\forall x \\in \\mathbb{R}, x_i \\in \\mathbb{R}_X$$\n",
    "\n",
    "$$\\forall x_i \\lt x_j, F(x_i) \\le F(x_j)$$\n",
    "\n",
    "$F(x)$ is a monotonically increasing \"staircase\" function.\n",
    "\n",
    "![Distribution function example](_images/distri_function_example.png)"
   ]
  },
  {
   "cell_type": "markdown",
   "id": "989d15c2",
   "metadata": {
    "slideshow": {
     "slide_type": "slide"
    }
   },
   "source": [
    "#### Bernoulli's law\n",
    "\n",
    "We only consider the occurence (or lack thereof) of an event $A$, given by its probability $p = P(A)$.\n",
    "\n",
    "$$\\Omega = \\{A, A^*\\}$$\n",
    "\n",
    "The random variable $X$ associating $1$ to the occurence of $A$ and $0$ otherwise is called Bernoulli's law.\n",
    "\n",
    "$$X \\sim Be(p) \\Longleftrightarrow p(x) =\n",
    "    \\begin{cases}\n",
    "      p \\qquad \\text{if} \\; x=1 \\qquad \\text{(}A \\text{ occurred)}\\\\\n",
    "      1-p \\;\\; \\text{if} \\; x=0 \\qquad \\text{(}A^* \\text{ occurred)}\\\\\n",
    "      0 \\qquad \\text{otherwise}\n",
    "    \\end{cases}$$"
   ]
  },
  {
   "cell_type": "markdown",
   "id": "26eb8b63",
   "metadata": {
    "slideshow": {
     "slide_type": "slide"
    }
   },
   "source": [
    "#### Binomial law\n",
    "\n",
    "A Bernoulli trial is repeated several times.\n",
    "\n",
    "If $Y_i \\sim \\dots \\sim Y_n \\sim Be(p)$ with $Y_1 \\perp \\dots \\perp Y_n$, then:\n",
    "\n",
    "$$X = \\sum_{i=1}^n Y_i \\sim Bi(n,p)$$\n",
    "\n",
    "$$X \\sim Bi(n,p) \\Longleftrightarrow p(x) =\n",
    "    \\begin{cases}\n",
    "      C_n^x p^x(1-p)^{n-x} \\qquad \\text{if } x \\in \\{0, \\dots, n\\}\\\\\n",
    "      0 \\qquad \\qquad \\qquad \\;\\;\\;\\; \\text{otherwise}\n",
    "    \\end{cases}$$"
   ]
  },
  {
   "cell_type": "markdown",
   "id": "443afa2f",
   "metadata": {
    "slideshow": {
     "slide_type": "slide"
    }
   },
   "source": [
    "#### Hypergeometric law\n",
    "\n",
    "The binomial law describes the probability of $x$ successes (random draws for which the object drawn has a specified feature) in $n$ draws with replacement.\n",
    "\n",
    "In contrast, the hypergeometric law describes the probability of $x$ successes in $n$ draws *without replacement*, from a finite population of size $N$ that contains exactly $k$ objects with that feature. As such, there is no independance between the successive results of the $n$ Bernoulli trials.\n",
    "\n",
    "$$X \\sim Hy(N,n,k) \\Longleftrightarrow p(x) =\n",
    "    \\begin{cases}\n",
    "      \\frac{C_k^x C_{N-k}^{n-x}}{C_N^n} \\qquad \\text{with max}(0, n+k-N) \\le x \\le \\text{min}(n,k)\\\\\n",
    "      0 \\qquad \\qquad \\; \\text{otherwise}\n",
    "    \\end{cases}$$\n",
    "\n",
    "When $N \\gg n$, it can be approximated by $Bi(n, k / N)$."
   ]
  },
  {
   "cell_type": "markdown",
   "id": "12c1a5fa",
   "metadata": {
    "slideshow": {
     "slide_type": "slide"
    }
   },
   "source": [
    "#### Geometric law\n",
    "\n",
    "This law describes the probability of obtaining a first success when repeating independant Bernoulli trials.\n",
    "\n",
    "$$X \\sim Ge(p) \\Longleftrightarrow p(x) =\n",
    "    \\begin{cases}\n",
    "      p(1-p)^{x-1} \\qquad \\text{if } x \\in \\mathbb{N}^+\\\\\n",
    "      0 \\qquad \\qquad \\;\\;\\;\\;\\;\\; \\text{otherwise}\n",
    "    \\end{cases}$$"
   ]
  },
  {
   "cell_type": "markdown",
   "id": "c74e4adb",
   "metadata": {
    "slideshow": {
     "slide_type": "slide"
    }
   },
   "source": [
    "## Appendices"
   ]
  },
  {
   "cell_type": "markdown",
   "id": "fb3854fe",
   "metadata": {
    "slideshow": {
     "slide_type": "slide"
    }
   },
   "source": [
    "### Combinations\n",
    "\n",
    "$$C_n^k = \\frac{n!}{k!(n-k)!}$$"
   ]
  },
  {
   "cell_type": "code",
   "execution_count": 2,
   "id": "1ab33398",
   "metadata": {
    "slideshow": {
     "slide_type": "slide"
    }
   },
   "outputs": [],
   "source": [
    "\n",
    "# https://www.tensorflow.org/guide/tensor\n",
    "# https://pytorch.org/tutorials/beginner/basics/tensorqs_tutorial.html\n",
    "# https://en.wikipedia.org/wiki/Event_(probability_theory)\n",
    "# https://devmath.fr/tools/latex-symbols-list/#\n",
    "#"
   ]
  },
  {
   "cell_type": "code",
   "execution_count": null,
   "id": "e37b6d9c",
   "metadata": {},
   "outputs": [],
   "source": []
  }
 ],
 "metadata": {
  "celltoolbar": "Diaporama",
  "kernelspec": {
   "display_name": "Python 3 (ipykernel)",
   "language": "python",
   "name": "python3"
  },
  "language_info": {
   "codemirror_mode": {
    "name": "ipython",
    "version": 3
   },
   "file_extension": ".py",
   "mimetype": "text/x-python",
   "name": "python",
   "nbconvert_exporter": "python",
   "pygments_lexer": "ipython3",
   "version": "3.11.1"
  }
 },
 "nbformat": 4,
 "nbformat_minor": 5
}
