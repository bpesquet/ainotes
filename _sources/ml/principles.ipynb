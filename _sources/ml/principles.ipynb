{
 "cells": [
  {
   "cell_type": "markdown",
   "id": "45afc3f9",
   "metadata": {
    "slideshow": {
     "slide_type": "slide"
    }
   },
   "source": [
    "# Principles of supervised learning"
   ]
  },
  {
   "cell_type": "markdown",
   "id": "95769b61",
   "metadata": {
    "slideshow": {
     "slide_type": "slide"
    }
   },
   "source": [
    "## Learning objectives\n",
    "\n",
    "- Define how a supervised ML system can be formalized.\n",
    "- Develop an intuition of learning via gradient descent."
   ]
  },
  {
   "cell_type": "markdown",
   "id": "4c6bb8c7",
   "metadata": {
    "slideshow": {
     "slide_type": "slide"
    }
   },
   "source": [
    "## Environment setup"
   ]
  },
  {
   "cell_type": "code",
   "execution_count": 1,
   "id": "c224485a",
   "metadata": {},
   "outputs": [
    {
     "name": "stdout",
     "output_type": "stream",
     "text": [
      "Python version: 3.11.1\n"
     ]
    }
   ],
   "source": [
    "import platform\n",
    "from IPython.display import YouTubeVideo\n",
    "\n",
    "print(f\"Python version: {platform.python_version()}\")"
   ]
  },
  {
   "cell_type": "markdown",
   "id": "8179726f",
   "metadata": {
    "slideshow": {
     "slide_type": "slide"
    }
   },
   "source": [
    "## Terminology"
   ]
  },
  {
   "cell_type": "markdown",
   "id": "703a1f0b",
   "metadata": {
    "slideshow": {
     "slide_type": "slide"
    }
   },
   "source": [
    "### Components of a supervised ML system\n",
    "\n",
    "- Some **data** to learn from.\n",
    "- A **model** to transform data into results.\n",
    "- A **loss function** to quantify how well (or badly) the model is doing.\n",
    "- An **optimization algorithm** to update the model according to the loss function."
   ]
  },
  {
   "cell_type": "markdown",
   "id": "4997bcec",
   "metadata": {
    "slideshow": {
     "slide_type": "slide"
    }
   },
   "source": [
    "### Data\n",
    "\n",
    "#### Features\n",
    "\n",
    "A **feature** is an attribute (property) of the data given to the model: the number of rooms in a house, the color of a pixel in an image, the presence of a specific word in a text, etc. Most of the time, they come under numerical form.\n",
    "\n",
    "A simple ML project might use a single feature, while more sophisticated ones could use millions of them.\n",
    "\n",
    "They are denoted using the $x$ variable."
   ]
  },
  {
   "cell_type": "markdown",
   "id": "2a75609f",
   "metadata": {
    "slideshow": {
     "slide_type": "slide"
    }
   },
   "source": [
    "#### Label\n",
    "\n",
    "A **label** (or **class** in the context of classification), is a result the model is trying to predict: the future price of an asset, the nature of the animal shown in a picture, the presence or absence of a face, etc.\n",
    "\n",
    "They are denoted using the $y$ variable."
   ]
  },
  {
   "cell_type": "markdown",
   "id": "04d6c95c",
   "metadata": {
    "slideshow": {
     "slide_type": "slide"
    }
   },
   "source": [
    "#### Samples\n",
    "\n",
    "An **sample**, also called **example**, is a particular instance of data: an individual email, an image, etc.\n",
    "\n",
    "A **labeled sample** includes both its feature(s) and the associated label(s) to predict. An **unlabeled sample** includes only feature(s)."
   ]
  },
  {
   "cell_type": "markdown",
   "id": "85b95669",
   "metadata": {
    "slideshow": {
     "slide_type": "slide"
    }
   },
   "source": [
    "#### Inputs\n",
    "\n",
    "**Inputs** correspond to all features for one sample of the dataset.\n",
    "\n",
    "They are denoted using the $\\pmb{x}$ variable (notice the boldface to indicate that it is a vector).\n",
    "\n",
    "$$\\pmb{x}^{(i)} = \\begin{pmatrix}\n",
    "       \\ x^{(i)}_1 \\\\\n",
    "       \\ x^{(i)}_2 \\\\\n",
    "       \\ \\vdots \\\\\n",
    "       \\ x^{(i)}_n\n",
    "     \\end{pmatrix}$$\n",
    "\n",
    "- $m$: number of samples in the dataset.\n",
    "- $n$: number of features for one sample.\n",
    "- $\\pmb{x}^{(i)}, i \\in [1,m]$: vector of $n$ features.\n",
    "- $x^{(i)}_j, j \\in [1,n]$: value of the $j$th feature for the $i$th data sample.."
   ]
  },
  {
   "cell_type": "markdown",
   "id": "fe237082",
   "metadata": {
    "slideshow": {
     "slide_type": "slide"
    }
   },
   "source": [
    "#### Targets\n",
    "\n",
    "**Targets** are the expected results (labels) associated to a data sample, often called the *ground truth*. They are denoted using the $\\pmb{y}$ variable.\n",
    "\n",
    "Some ML models have to predict more than one value for each sample (for example, in multiclass classification).\n",
    "\n",
    "$$\\pmb{y}^{(i)} = \\begin{pmatrix}\n",
    "       \\ y^{(i)}_1 \\\\\n",
    "       \\ y^{(i)}_2 \\\\\n",
    "       \\ \\vdots \\\\\n",
    "       \\ y^{(i)}_t\n",
    "     \\end{pmatrix}$$\n",
    "\n",
    "- $K$: number of labels associated to a data sample.\n",
    "- $\\pmb{y}^{(i)}, i \\in [1,m]$: vector of $K$ labels.\n",
    "- $y^{(i)}_t, k \\in [1,K]$: value of the $k$th label for the $i$th sample."
   ]
  },
  {
   "cell_type": "markdown",
   "id": "05f2297c",
   "metadata": {
    "slideshow": {
     "slide_type": "slide"
    }
   },
   "source": [
    "#### Inputs matrix\n",
    "\n",
    "Many ML models expect their inputs to come under the form of a $m \\times n$ matrix, often called **design matrix** and denoted $\\pmb{X}$.\n",
    "\n",
    "$$\\pmb{X} = \\begin{bmatrix}\n",
    "       \\ \\pmb{x}^{(1)T} \\\\\n",
    "       \\ \\pmb{x}^{(2)T} \\\\\n",
    "       \\ \\vdots \\\\\n",
    "       \\ \\pmb{x}^{(m)T} \\\\\n",
    "     \\end{bmatrix} =\n",
    "\\begin{bmatrix}\n",
    "       \\ x^{(1)}_1 & x^{(1)}_2 & \\cdots & x^{(1)}_n \\\\\n",
    "       \\ x^{(2)}_1 & x^{(2)}_2 & \\cdots & x^{(2)}_n \\\\\n",
    "       \\ \\vdots & \\vdots & \\ddots & \\vdots \\\\\n",
    "       \\ x^{(m)}_1 & x^{(m)}_2 & \\cdots & x^{(m)}_n\n",
    "     \\end{bmatrix}$$"
   ]
  },
  {
   "cell_type": "markdown",
   "id": "7e699f40",
   "metadata": {
    "slideshow": {
     "slide_type": "slide"
    }
   },
   "source": [
    "#### Targets matrix\n",
    "\n",
    "Accordingly, expected results are often stored in a $m \\times K$ matrix denoted $\\pmb{Y}$.\n",
    "\n",
    "$$\\pmb{Y} = \\begin{bmatrix}\n",
    "       \\ \\pmb{y}^{(1)T} \\\\\n",
    "       \\ \\pmb{y}^{(2)T} \\\\\n",
    "       \\ \\vdots \\\\\n",
    "       \\ \\pmb{y}^{(m)T} \\\\\n",
    "     \\end{bmatrix} =\n",
    "\\begin{bmatrix}\n",
    "       \\ y^{(1)}_1 & y^{(1)}_2 & \\cdots & y^{(1)}_t \\\\\n",
    "       \\ y^{(2)}_1 & y^{(2)}_2 & \\cdots & y^{(2)}_t \\\\\n",
    "       \\ \\vdots & \\vdots & \\ddots & \\vdots \\\\\n",
    "       \\ y^{(m)}_1 & y^{(m)}_2 & \\cdots & y^{(m)}_t\n",
    "     \\end{bmatrix}$$"
   ]
  },
  {
   "cell_type": "markdown",
   "id": "a7a7d9c6",
   "metadata": {
    "slideshow": {
     "slide_type": "slide"
    }
   },
   "source": [
    "### Model\n",
    "\n",
    "The representation learnt from data during training is called a **model**. It defines the relationship between features and labels.\n",
    "\n",
    "Most (but not all) ML systems are model-based.\n",
    "\n",
    "[![Extract from the book Hands-on Machine Learning with Scikit-Learn & TensorFlow by A. Géron](_images/instance_model_learning.png)](https://github.com/ageron/handson-ml2)"
   ]
  },
  {
   "cell_type": "markdown",
   "id": "b886c3a9",
   "metadata": {
    "slideshow": {
     "slide_type": "slide"
    }
   },
   "source": [
    "#### The two phases of a model's life\n",
    "\n",
    "- **Training**: using labeled samples, the model learns to find a relationship between features and labels.\n",
    "- **Inference**: the trained model is used to make predictions on unlabeled samples (new data unseen during training)."
   ]
  },
  {
   "cell_type": "markdown",
   "id": "a7c6b255",
   "metadata": {
    "slideshow": {
     "slide_type": "slide"
    }
   },
   "source": [
    "#### Model parameters and hyperparameters\n",
    "\n",
    "**Parameters**, sometimes called **weights**, are the internal values that affect the computed output of a model. During the training phase, they are algorithmically adjusted for optimal performance w.r.t the loss function. The set of parameters for a model is denoted $\\pmb{\\omega}$ or $\\pmb{\\theta}$.\n",
    "\n",
    "They are not to be confused with **hyperparameters**, which are configuration properties that constrain the model: the maximum depth of a decision tree, the number of layers in a neural networks, etc. Hyperparameters are statically defined before training by the user or by a dedicated tool."
   ]
  },
  {
   "cell_type": "markdown",
   "id": "240e3bc5",
   "metadata": {
    "slideshow": {
     "slide_type": "slide"
    }
   },
   "source": [
    "#### Hypothesis function\n",
    "\n",
    "Mathamatically speaking, a model is a function of the inputs that depends on its parameters and computes results (which will be compared to targets during the training process).\n",
    "\n",
    "This function, called the **hypothesis function**, is denoted $h_{\\pmb{\\omega}}$ to show that it is parametrized by $\\pmb{\\omega}$. Its output (predicted result) is denoted  $\\pmb{y'}$ or $\\hat{\\pmb{y}}$.\n",
    "\n",
    "$$\\pmb{y'}^{(i)} = h_{\\pmb{\\omega}}(\\pmb{x}^{(i)})$$\n",
    "$$\\pmb{Y'} = h_{\\pmb{\\omega}}(\\pmb{X})$$\n",
    "\n",
    "- $\\pmb{y'}^{(i)}, i \\in [1,m]$: predicted output for the $i$th sample.\n",
    "- $\\pmb{Y'}$: predictions matrix for the whole dataset."
   ]
  },
  {
   "cell_type": "markdown",
   "id": "cd394e26",
   "metadata": {
    "slideshow": {
     "slide_type": "slide"
    }
   },
   "source": [
    "### Loss function\n",
    "\n",
    "The **loss function**, also called **cost function** or **objective function**, quantifies the difference, often called **error**, between targets (expected results) and actual results computed by the model. Its value at any given time is a scalar called the **loss value**, or simply **loss**.\n",
    "\n",
    "By convention, loss functions are usually defined so that lower is better, hence their name. If the model's prediction is perfect, the loss value is zero.\n",
    "\n",
    "The loss function is generally denoted $\\mathcal{L}$ or $\\mathcal{J}$. Mathematically, it depends on the inputs $\\pmb{X}$, the expected results $\\pmb{Y}$ and the model parameters $\\pmb{\\omega}$. However, during model training, $\\pmb{X}$ and $\\pmb{Y}$ can be treated as constants. Thus, the loss function depends solely on $\\pmb{\\omega}$ and will be denoted $\\mathcal{L(\\pmb{\\omega})}$."
   ]
  },
  {
   "cell_type": "markdown",
   "id": "26155ef1",
   "metadata": {
    "slideshow": {
     "slide_type": "slide"
    }
   },
   "source": [
    "#### Loss function example\n",
    "\n",
    "The choice of the loss function depends on the problem type.\n",
    "\n",
    "For regression tasks, a popular choice is the **Mean Squared Error** a.k.a. *squared L2 norm*.\n",
    "\n",
    "$$\\mathcal{L}_{\\mathrm{MSE}}(\\pmb{\\omega}) = \\frac{1}{m}\\sum_{i=1}^m (h_{\\pmb{\\omega}}(\\pmb{x}^{(i)}) - \\pmb{y}^{(i)})^2 = \\frac{1}{m}{{\\lVert{h_{\\pmb{\\omega}}(\\pmb{X}) - \\pmb{Y}}\\rVert}_2}^2$$"
   ]
  },
  {
   "cell_type": "markdown",
   "id": "2065b7d2",
   "metadata": {
    "slideshow": {
     "slide_type": "slide"
    }
   },
   "source": [
    "### Optimization algorithm\n",
    "\n",
    "Used only during the training phase, it aims at finding the set of model parameters (denoted $\\pmb{\\omega^*}$ or $\\pmb{\\theta^*}$) that minimizes the loss value.\n",
    "\n",
    "Depending on the task and the model type, several algorithms of various complexity exist.\n",
    "\n",
    "[![Untrained Vs trained model](_images/LossSideBySide.png)](https://developers.google.com/machine-learning/crash-course/descending-into-ml/training-and-loss)"
   ]
  },
  {
   "cell_type": "markdown",
   "id": "70b70ccf",
   "metadata": {
    "slideshow": {
     "slide_type": "slide"
    }
   },
   "source": [
    "## Reducing loss via gradient descent"
   ]
  },
  {
   "cell_type": "markdown",
   "id": "5c1b351c",
   "metadata": {
    "slideshow": {
     "slide_type": "slide"
    }
   },
   "source": [
    "### An iterative approach\n",
    "\n",
    "The model's parameters are iteratively updated until an optimum is reached.\n",
    "\n",
    "[![Iterative approach](_images/GradientDescentDiagram.png)](https://developers.google.com/machine-learning/crash-course/descending-into-ml/training-and-loss)"
   ]
  },
  {
   "cell_type": "markdown",
   "id": "73641975",
   "metadata": {
    "slideshow": {
     "slide_type": "slide"
    }
   },
   "source": [
    "### The gradient descent algorithm\n",
    "\n",
    "- Used in several ML models, including neural networks.\n",
    "- General idea: converging to a loss function's minimum by updating model parameters in small steps, in the **opposite direction** of the loss function **gradient**."
   ]
  },
  {
   "cell_type": "markdown",
   "id": "52116120",
   "metadata": {
    "slideshow": {
     "slide_type": "slide"
    }
   },
   "source": [
    "### The notion of gradient\n",
    "\n",
    "- Expresses the variation of a function relative to the variation of its parameters.\n",
    "- Vector containing partial derivatives of the function *w.r.t.* each of its parameters.\n",
    "\n",
    "$$\\nabla_{\\pmb{\\omega}}\\mathcal{L}(\\pmb{\\omega}) = \\begin{pmatrix}\n",
    "       \\ \\frac{\\partial}{\\partial \\omega_1} \\mathcal{L}(\\pmb{\\omega}) \\\\\n",
    "       \\ \\frac{\\partial}{\\partial \\omega_2} \\mathcal{L}(\\pmb{\\omega}) \\\\\n",
    "       \\ \\vdots \\\\\n",
    "     \\end{pmatrix}$$\n",
    "\n",
    "- $\\nabla_{\\pmb{\\omega}}\\mathcal{L}(\\pmb{\\omega})$: gradient of loss function $\\mathcal{L}(\\pmb{\\omega})$."
   ]
  },
  {
   "cell_type": "markdown",
   "id": "9da5fb03",
   "metadata": {
    "slideshow": {
     "slide_type": "slide"
    }
   },
   "source": [
    "#### 1D gradient descent (one parameter)\n",
    "\n",
    "![Gradient Descent](_images/gradient_descent_1parameter.png)"
   ]
  },
  {
   "cell_type": "markdown",
   "id": "4b712e69",
   "metadata": {
    "slideshow": {
     "slide_type": "slide"
    }
   },
   "source": [
    "#### 2D gradient descent (two parameters)\n",
    "\n",
    "![Tangent Space](_images/tangent_space.png)"
   ]
  },
  {
   "cell_type": "markdown",
   "id": "401027bb",
   "metadata": {
    "slideshow": {
     "slide_type": "slide"
    }
   },
   "source": [
    "#### Dynamics of a 2D gradient descent\n",
    "\n",
    "[![Gradient descent line graph](_images/gradient_descent_line_graph.gif)](https://alykhantejani.github.io/a-brief-introduction-to-gradient-descent/)"
   ]
  },
  {
   "cell_type": "markdown",
   "id": "41bb497a",
   "metadata": {
    "slideshow": {
     "slide_type": "slide"
    }
   },
   "source": [
    "### Gradient descent types\n",
    "\n",
    "#### Batch Gradient Descent\n",
    "\n",
    "The gradient is computed on the whole dataset before model parameters are updated.\n",
    "\n",
    "- Advantages: simple and safe (always converges in the right direction).\n",
    "- Drawback: can become slow and even untractable with a big dataset."
   ]
  },
  {
   "cell_type": "markdown",
   "id": "46546a78",
   "metadata": {
    "slideshow": {
     "slide_type": "slide"
    }
   },
   "source": [
    "#### Stochastic Gradient Descent (SGD)\n",
    "\n",
    "The gradient is computed on only one randomly chosen sample whole dataset before parameters are updated.\n",
    "\n",
    "- Advantages:\n",
    "  - Very fast.\n",
    "  - Enables learning from each new sample (*online learning*).\n",
    "- Drawback:\n",
    "  - Convergence is not guaranteed.\n",
    "  - No vectorization of computations."
   ]
  },
  {
   "cell_type": "markdown",
   "id": "beaff01a",
   "metadata": {
    "slideshow": {
     "slide_type": "slide"
    }
   },
   "source": [
    "#### Mini-Batch SGD\n",
    "\n",
    "The gradient is computed on a small set of samples, called a *batch*, before parameters are updated.\n",
    "\n",
    "- Combines the advantages of batch and stochastic GD.\n",
    "- Default method for many ML libraries.\n",
    "- The mini-batch size varies between 10 and 1000 samples, depending of the dataset size."
   ]
  },
  {
   "cell_type": "markdown",
   "id": "d355faca",
   "metadata": {
    "slideshow": {
     "slide_type": "slide"
    }
   },
   "source": [
    "### Model parameters update\n",
    "\n",
    "#### Learning rate\n",
    "\n",
    "$\\eta$ (sometimes denoted $\\alpha$ or $\\lambda$) is the update factor for parameters once gradient is computed, called the **_learning rate_**.\n",
    "\n",
    "It has a direct impact on the \"speed\" of the gradient descent.\n",
    "\n",
    "$$\\pmb{\\omega_{t+1}} = \\pmb{\\omega_t} - \\eta\\nabla_{\\pmb{\\omega}}\\mathcal{L}(\\pmb{\\omega_t})$$\n",
    "\n",
    "- $\\pmb{\\omega_{t}}$: set of parameters at step $t$ of the gradient descent.\n",
    "- $\\pmb{\\omega_{t+1}}$: set of parameters at step $t+1$ (after update)."
   ]
  },
  {
   "cell_type": "markdown",
   "id": "0f53485e",
   "metadata": {
    "slideshow": {
     "slide_type": "slide"
    }
   },
   "source": [
    "#### Impact of learning rate\n",
    "\n",
    "[![Learning rate](_images/learning_rate.png)](https://developers.google.com/machine-learning/crash-course/fitter/graph)"
   ]
  },
  {
   "cell_type": "markdown",
   "id": "8e9730e5",
   "metadata": {
    "slideshow": {
     "slide_type": "slide"
    }
   },
   "source": [
    "#### The local minima problem\n",
    "\n",
    "![Local minima](_images/local_minima.jpg)"
   ]
  },
  {
   "cell_type": "markdown",
   "id": "96092c85",
   "metadata": {
    "slideshow": {
     "slide_type": "slide"
    }
   },
   "source": [
    "![Gradient Descent](_images/gd_ng.jpg)"
   ]
  },
  {
   "cell_type": "code",
   "execution_count": 3,
   "id": "0b8ff902",
   "metadata": {
    "slideshow": {
     "slide_type": "slide"
    }
   },
   "outputs": [
    {
     "data": {
      "image/jpeg": "[encoded data removed]",
      "text/html": [
       "\n",
       "        <iframe\n",
       "            width=\"400\"\n",
       "            height=\"300\"\n",
       "            src=\"https://www.youtube.com/embed/Q3pTEtSEvDI\"\n",
       "            frameborder=\"0\"\n",
       "            allowfullscreen\n",
       "            \n",
       "        ></iframe>\n",
       "        "
      ],
      "text/plain": [
       "<IPython.lib.display.YouTubeVideo at 0x105cb6450>"
      ]
     },
     "execution_count": 3,
     "metadata": {},
     "output_type": "execute_result"
    }
   ],
   "source": [
    "YouTubeVideo(\"Q3pTEtSEvDI\")"
   ]
  },
  {
   "cell_type": "markdown",
   "id": "f83d9a57",
   "metadata": {
    "slideshow": {
     "slide_type": "slide"
    }
   },
   "source": [
    "### Gradient descent optimization algorithms\n",
    "\n",
    "#### Gradient descent evolution map\n",
    "\n",
    "[![Gradient Descent evolution map](_images/gradient_descent_evolution_map.png)](https://towardsdatascience.com/10-gradient-descent-optimisation-algorithms-86989510b5e9)"
   ]
  },
  {
   "cell_type": "markdown",
   "id": "6e13ccba",
   "metadata": {
    "slideshow": {
     "slide_type": "slide"
    }
   },
   "source": [
    "#### Momentum\n",
    "\n",
    "Momentum optimization accelerates the descent speed in the direction of the minimum by accumulating previous gradients. It can also escape plateaux faster then plain GD.\n",
    "\n",
    "[![Momemtum demo](_images/gd_momentum_demo.gif)](https://youtu.be/qPKKtvkVAjY)"
   ]
  },
  {
   "cell_type": "markdown",
   "id": "032fab0b",
   "metadata": {
    "slideshow": {
     "slide_type": "slide"
    }
   },
   "source": [
    "##### Momentum equations\n",
    "\n",
    "$$\\pmb{m_{t+1}} = \\beta_t \\pmb{m_t} - \\nabla_{\\pmb{\\omega}}\\mathcal{L}(\\pmb{\\omega_t})$$\n",
    "\n",
    "$$\\pmb{\\omega_{t+1}} = \\pmb{\\omega_t} + \\eta_t\\pmb{m_{t+1}}$$\n",
    "\n",
    "- $\\pmb{m_t}$: momentum at step $t$.\n",
    "- $\\beta_t \\in [0,1]$: friction factor that prevents gradients updates from growing too large. A typical value is $0.9$."
   ]
  },
  {
   "cell_type": "markdown",
   "id": "40de29f4",
   "metadata": {
    "slideshow": {
     "slide_type": "slide"
    }
   },
   "source": [
    "##### Momentum Vs plain GD\n",
    "\n",
    "[![Momentum Vs plain GD](_images/gd_momentum.png)](https://youtu.be/kVU8zTI-Od0)"
   ]
  },
  {
   "cell_type": "markdown",
   "id": "2785bed9",
   "metadata": {
    "slideshow": {
     "slide_type": "slide"
    }
   },
   "source": [
    "#### RMSprop\n",
    "\n",
    "*RMSprop* decays the learning rate differently for each parameter, scaling down the gradient vector along the steepest dimensions. The underlying idea is to adjust the descent direction a bit more towards the global minimum.\n",
    "\n",
    "$$\\pmb{v_{t+1}} = \\beta_t \\pmb{v_t} + (1-\\beta_t) \\left(\\nabla_{\\pmb{\\omega}}\\mathcal{L}(\\pmb{\\omega_t})\\right)^2$$\n",
    "\n",
    "$$\\pmb{\\omega_{t+1}} = \\pmb{\\omega_t} - \\frac{\\eta}{\\sqrt{\\pmb{v_{t}}+\\epsilon}}\\nabla_{\\pmb{\\omega}}\\mathcal{L}(\\pmb{\\omega_t})$$\n",
    "\n",
    "- $\\pmb{v_t}$: moving average of squared gradients at step $t$.\n",
    "- $\\epsilon$: smoothing term to avoid divisions by zero. A typical value is $10^{-10}$."
   ]
  },
  {
   "cell_type": "markdown",
   "id": "7cd63296",
   "metadata": {
    "slideshow": {
     "slide_type": "slide"
    }
   },
   "source": [
    "#### Adam and other techniques\n",
    "\n",
    "*Adam* (*Adaptive Moment Estimation*) combines the ideas of momentum and RMSprop. It is the *de facto* choice nowadays.\n",
    "\n",
    "Gradient descent optimization is a rich subfield of Machine Learning. Read more in [this article](http://ruder.io/optimizing-gradient-descent/)."
   ]
  }
 ],
 "metadata": {
  "celltoolbar": "Diaporama",
  "kernelspec": {
   "display_name": "Python 3 (ipykernel)",
   "language": "python",
   "name": "python3"
  },
  "language_info": {
   "codemirror_mode": {
    "name": "ipython",
    "version": 3
   },
   "file_extension": ".py",
   "mimetype": "text/x-python",
   "name": "python",
   "nbconvert_exporter": "python",
   "pygments_lexer": "ipython3",
   "version": "3.11.1"
  }
 },
 "nbformat": 4,
 "nbformat_minor": 5
}
