{
 "cells": [
  {
   "cell_type": "markdown",
   "id": "21f94d59",
   "metadata": {},
   "source": [
    "# CIFAR10\n",
    "\n",
    "## Objective\n",
    "\n",
    "Training models to associate images representing common objects with their class (multiclass classification).\n",
    "\n",
    "## Context\n",
    "\n",
    "The [CIFAR10](https://www.cs.toronto.edu/~kriz/cifar.html) dataset consists of 60,000 32x32 color images in 10 classes, with 6,000 images per class. The classes are completely mutually exclusive. There are 50,000 training images and 10,000 test images.\n",
    "\n",
    "![CIFAR10 images](_images/cifar10.png)\n",
    "\n",
    "## Instructions and advice\n",
    "\n",
    "- Follow the main steps of a supervised ML project: data loading and exploring, data preparation, model training and evaluation.\n",
    "- Use the [PyTorch](https://pytorch.org) library for data loading and model training. If you are new to it, consider following its [official tutorial](https://pytorch.org/tutorials/beginner/basics/intro.html).\n",
    "- Don't forget to setup your environment by importing the necessary Python packages. In particular, the [ainotes](https://github.com/bpesquet/ainotes) project contains several useful functions for [plotting](https://github.com/bpesquet/ainotes/blob/main/ainotes/utils/plot.py) and [training](https://github.com/bpesquet/ainotes/blob/main/ainotes/utils/train.py).\n",
    "- Regarding data loading and preparation, bitmap images should be normalized. You can find an example using the CIFAR10 dataset [here](https://pytorch.org/tutorials/beginner/blitz/cifar10_tutorial.html#load-and-normalize-cifar10).\n",
    "- You may train and evaluate a standard MultiLayer Perceptron, using [this chapter](../ann.ipynb) as a blueprint. Warning: you will have to adapt the inputs of your network to the color images of the CIFAR10 dataset.\n",
    "- **Bonus**: train a convolutional neural network using [this chapter](../cnn.ipynb) as a blueprint. After training, compare its performance with the MLP results."
   ]
  },
  {
   "cell_type": "code",
   "execution_count": null,
   "id": "2b4134ba",
   "metadata": {},
   "outputs": [],
   "source": [
    "# pylint: disable=wrong-import-position\n",
    "\n",
    "import os\n",
    "\n",
    "# Installing the ainotes package is only necessary in standalone runtime environments like Colab\n",
    "if os.getenv(\"COLAB_RELEASE_TAG\"):\n",
    "    print(\"Standalone runtime environment detected, installing ainotes package\")\n",
    "    %pip install ainotes\n",
    "\n",
    "# pylint: enable=wrong-import-position"
   ]
  }
 ],
 "metadata": {
  "kernelspec": {
   "display_name": "Python 3 (ipykernel)",
   "language": "python",
   "name": "python3"
  },
  "language_info": {
   "codemirror_mode": {
    "name": "ipython",
    "version": 3
   },
   "file_extension": ".py",
   "mimetype": "text/x-python",
   "name": "python",
   "nbconvert_exporter": "python",
   "pygments_lexer": "ipython3",
   "version": "3.11.1"
  }
 },
 "nbformat": 4,
 "nbformat_minor": 5
}
